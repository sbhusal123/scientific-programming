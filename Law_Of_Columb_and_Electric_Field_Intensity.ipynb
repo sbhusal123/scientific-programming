{
  "nbformat": 4,
  "nbformat_minor": 0,
  "metadata": {
    "colab": {
      "name": "Law Of Columb and Electric Field Intensity.ipynb",
      "provenance": [],
      "collapsed_sections": [],
      "authorship_tag": "ABX9TyO0oamGaAVbd4tt4WcEZXQ2",
      "include_colab_link": true
    },
    "kernelspec": {
      "name": "python3",
      "display_name": "Python 3"
    },
    "language_info": {
      "name": "python"
    }
  },
  "cells": [
    {
      "cell_type": "markdown",
      "metadata": {
        "id": "view-in-github",
        "colab_type": "text"
      },
      "source": [
        "<a href=\"https://colab.research.google.com/github/sbhusal123/scientific-programming/blob/main/Law_Of_Columb_and_Electric_Field_Intensity.ipynb\" target=\"_parent\"><img src=\"https://colab.research.google.com/assets/colab-badge.svg\" alt=\"Open In Colab\"/></a>"
      ]
    },
    {
      "cell_type": "markdown",
      "metadata": {
        "id": "tOIrsRFKOlJa"
      },
      "source": [
        "**1. Units:**\n",
        "- Pico(p) = $10^{-12}$\n",
        "- Nano(n) = $10^{-9}$\n",
        "- Micro($\\mu$) = $10^{-12}$\n",
        "\n",
        "**2. Columbs Law:**\n",
        "- Force of attraction or repulsion between two charges separated at a distance R.\n",
        "\n",
        "- Unit: Newton(N)\n",
        "\n",
        "  $F= \\frac{Q_1Q_2}{4\\pi \\epsilon_0 R^2}$\n",
        "\n",
        "  $\\frac{1}{4\\pi\\epsilon_0}=9*10^{9}$\n",
        "\n",
        "- Force of attraction/repulsion experienced by a charge Q2 Columb at $\\vec{R_2}$ and a charge Q1 Columb at $\\vec{R_1}$.\n",
        "\n",
        "  $\\vec{F_{12}} = \\frac{Q1 \\ Q2 \\ (\\vec{R_2}-\\vec{R_1})}{4 \\pi \\epsilon_o |\\vec{R_2}-\\vec{R_1}|^3}$\n",
        "\n",
        "**3. Electric Field Intensity:**\n",
        "\n",
        "- Force per unit test charge.\n",
        "- Unit: V/m\n",
        "\n",
        "  $E=\\frac{Q}{4 \\pi \\epsilon_o r^2}$, r =field-source\n",
        "\n",
        "  $\\vec{E}=\\frac{Q}{4 \\pi \\epsilon_0 |\\vec{R}|^2} \\hat{a_R}$\n",
        "\n",
        "  $\\vec{R}$ = field - source\n",
        "\n",
        "  Where, **field** is the point where we're interested in finding electric field intensity and **source** is the point where charge is located.\n",
        "\n",
        "**4. Electric Field Intensity Due to a Line Charge:**\n",
        "\n",
        "  - $\\rho_L$ = Line charge Density. (C/m)\n",
        "\n",
        "  $\\vec{E}=\\frac{\\rho_L}{2 \\pi \\epsilon_0 \\ \\rho} \\hat{a_\\rho} = \\frac{\\rho_L}{2 \\pi \\epsilon_0 \\ \\rho} \\frac{\\vec{\\rho}}{|\\vec{\\rho}|}$\n",
        "\n",
        "  $=\\frac{\\rho_L}{2\\pi\\epsilon_0\\rho^2} \\vec{\\rho}$\n",
        "\n",
        "  - **Concept Example:** If Line charge of $\\rho_L$ is at x=a, y=b. Find electric field intensity at (p, q, r).\n",
        "    \n",
        "    $\\vec{\\rho}$ = field - source = (p, q, r) - (a, b, **r**). \n",
        "    > Fill the missing value  of coord on source with field's value.\n",
        "\n",
        "\n",
        "\n",
        "**5. Electric Field intensity due to Infinite Sheet of Charge**\n",
        "  - $\\rho_s$ is surface charge density. $C/m^2$\n",
        "\n",
        "  $\\vec{E}=\\frac{\\rho_s}{2\\epsilon_0} \\hat{a_N}$, where $\\hat{a_N}$ is unit vector normal to sheet of charge.\n",
        "\n",
        "  - **Concept Example:** If surface charge density $\\rho_s$ is located at plane x=2, find electric field intensity at (5, 3, 4) and (0, 1, 2)\n",
        "\n",
        "    - $\\hat{a_N}$ at (2, 3, 4) = $+\\hat{a_x}$ because x=2 (source) **>** 5 (field of interest)\n",
        "    - $\\hat{a_N}$ at (0, 1, 2) = $-\\hat{a_x}$ because x=0 (source) **<** 2 (field of interest)\n",
        "\n",
        "**6. Electric field Intensity due to Parallel Plate Capacitor:**\n",
        "\n",
        "- In between the plates: $\\frac{\\rho_S}{2\\epsilon_0} \\hat{a_N}$\n",
        "- Outside the plate: 0\n"
      ]
    },
    {
      "cell_type": "markdown",
      "metadata": {
        "id": "CyKFojfGm76p"
      },
      "source": [
        "# Example 1\n",
        "\n",
        "Find the electric field intensity at origin if the following charge distribution are present at free space.\n",
        "\n",
        "- Point charge 12nC at P(2, 0, 6).\n",
        "- Uniform line charge density $3 \\ nC/m^2$ at x=2, y=3.\n",
        "- Uniform surface charge density $0.2 \\ nC/m^2$ at x=2."
      ]
    },
    {
      "cell_type": "code",
      "metadata": {
        "id": "ZtgB6QzuopMS"
      },
      "source": [
        "import numpy as np\n",
        "from scipy import integrate\n",
        "import scipy\n",
        "\n",
        "pi = np.pi\n",
        "epsilon_0 = scipy.constants.epsilon_0\n",
        "four_pi_epsilon = 4*pi*epsilon_0\n"
      ],
      "execution_count": 24,
      "outputs": []
    },
    {
      "cell_type": "code",
      "metadata": {
        "colab": {
          "base_uri": "https://localhost:8080/"
        },
        "id": "BEn1FI9eOjHY",
        "outputId": "5a82175a-365b-44f4-9bc3-8af992cf8b7e"
      },
      "source": [
        "# point charge \n",
        "point_charge = 12*10**(-9)\n",
        "line_charge = 3*10**(-9)\n",
        "surface_charge = 0.2*10**(-9)\n",
        "\n",
        "# Field of interest\n",
        "at_field = np.array([0, 0, 0])\n",
        "\n",
        "# Point charge location\n",
        "p = np.array([2, 0, 6])\n",
        "\n",
        "# Line charge location\n",
        "l = np.array([2, 3, at_field[2]])\n",
        "\n",
        "# Surface Charge location\n",
        "s = np.array([2, at_field[1], at_field[2]])\n",
        "\n",
        "# Unit vector - point charge\n",
        "R_P = at_field - p\n",
        "mag_R_P = np.sqrt(R_P.dot(R_P))\n",
        "unit_R_P = R_P / mag_R_P\n",
        "\n",
        "# Unit vector - line charge\n",
        "R_L = at_field - l\n",
        "mag_R_L = np.sqrt(R_L.dot(R_L))\n",
        "unit_R_L = R_L / mag_R_L\n",
        "\n",
        "# Unit vector - surface charge\n",
        "R_S = at_field - s\n",
        "mag_R_S = np.sqrt(R_S.dot(R_S))\n",
        "unit_R_S = R_S / mag_R_S\n",
        "\n",
        "# Electric field due to point charge\n",
        "E_P = (point_charge*unit_R_P)/(four_pi_epsilon*mag_R_P**2)\n",
        "E_L = (line_charge*unit_R_L)/(2*pi*epsilon_0*mag_R_L)\n",
        "E_S = (surface_charge * unit_R_S) / (2*epsilon_0)\n",
        "\n",
        "E = E_P + E_L + E_S\n",
        "E"
      ],
      "execution_count": 30,
      "outputs": [
        {
          "output_type": "execute_result",
          "data": {
            "text/plain": [
              "array([-20.44292634, -12.44430247,  -2.55790208])"
            ]
          },
          "metadata": {},
          "execution_count": 30
        }
      ]
    },
    {
      "cell_type": "markdown",
      "metadata": {
        "id": "0KjryQoKzg8O"
      },
      "source": [
        "## Example 2\n",
        "\n",
        "Planes x=2 and y=-3 respectively, carry charges $10nC/m^{2}$ and $15nC/m^{2}$. If the line x=0, z=2 carries charge $10\\pi \\ nC/m$,  calculate $\\vec{E}$ at (1, 1, -1) due to three charges"
      ]
    },
    {
      "cell_type": "code",
      "metadata": {
        "colab": {
          "base_uri": "https://localhost:8080/"
        },
        "id": "r6ecVwTf0h8K",
        "outputId": "16498440-54dd-48c5-f136-1139e311100e"
      },
      "source": [
        "# at point\n",
        "at_point = np.array([1, 1, -1])\n",
        "\n",
        "# sufrace_charge_1_density\n",
        "sufrace_charge_1 = 10*10**(-9)\n",
        "\n",
        "# sufrace_charge_2_density\n",
        "sufrace_charge_2 = 15*10**(-9)\n",
        "\n",
        "# line charge density\n",
        "line_charge = 10*pi*10**(-9)\n",
        "\n",
        "# Unit vector -- surface_charge 1\n",
        "s_1 = np.array([2, at_point[1], at_point[2]])\n",
        "R_S_1 = at_point - s_1\n",
        "mag_R_S_1 = np.sqrt(R_S_1.dot(R_S_1))\n",
        "unit_R_S_1 = R_S_1 / mag_R_S_1\n",
        "\n",
        "# Unit vector -- surface charge 2\n",
        "s_2 = np.array([at_point[0], -3, at_point[2]])\n",
        "R_S_2 = at_point - s_2\n",
        "mag_R_S_2 = np.sqrt(R_S_2.dot(R_S_2))\n",
        "unit_R_S_2 = R_S_2 / mag_R_S_2\n",
        "\n",
        "# Unit vector -- line charge\n",
        "l = np.array([0, at_point[1], 2])\n",
        "R_L = at_point - l\n",
        "mag_R_L = np.sqrt(R_L.dot(R_L))\n",
        "unit_R_L = R_L / mag_R_L\n",
        "\n",
        "# Electric field intensity due to surface charge \n",
        "E_S_1 = (sufrace_charge_1*unit_R_S_1)/(2*epsilon_0)\n",
        "E_S_2 = (sufrace_charge_2*unit_R_S_2)/(2*epsilon_0)\n",
        "E_S = E_S_1 +  E_S_2\n",
        "\n",
        "# E due to line charge\n",
        "E_L = (line_charge*unit_R_L) / (2*pi*epsilon_0*mag_R_L)\n",
        "\n",
        "# Total electric field\n",
        "E = E_S + E_L\n",
        "E"
      ],
      "execution_count": 46,
      "outputs": [
        {
          "output_type": "execute_result",
          "data": {
            "text/plain": [
              "array([-508.23408004,  847.05680007, -169.41136001])"
            ]
          },
          "metadata": {},
          "execution_count": 46
        }
      ]
    }
  ]
}