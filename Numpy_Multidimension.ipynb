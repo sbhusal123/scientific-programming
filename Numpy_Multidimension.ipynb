{
  "nbformat": 4,
  "nbformat_minor": 0,
  "metadata": {
    "colab": {
      "name": "Numpy Multidimension.ipynb",
      "provenance": [],
      "collapsed_sections": [],
      "authorship_tag": "ABX9TyOCmqKP03G9PA5g+PLy+y3A",
      "include_colab_link": true
    },
    "kernelspec": {
      "name": "python3",
      "display_name": "Python 3"
    },
    "language_info": {
      "name": "python"
    }
  },
  "cells": [
    {
      "cell_type": "markdown",
      "metadata": {
        "id": "view-in-github",
        "colab_type": "text"
      },
      "source": [
        "<a href=\"https://colab.research.google.com/github/sbhusal123/scientific-programming/blob/main/Numpy_Multidimension.ipynb\" target=\"_parent\"><img src=\"https://colab.research.google.com/assets/colab-badge.svg\" alt=\"Open In Colab\"/></a>"
      ]
    },
    {
      "cell_type": "code",
      "metadata": {
        "id": "URYU5RM8sTc8"
      },
      "source": [
        "import numpy as np\n",
        "import matplotlib.pyplot as plt"
      ],
      "execution_count": 134,
      "outputs": []
    },
    {
      "cell_type": "markdown",
      "metadata": {
        "id": "X8RrzY_6siY7"
      },
      "source": [
        "# Creating 2d DImension Array"
      ]
    },
    {
      "cell_type": "markdown",
      "metadata": {
        "id": "mX8jLjjWszDG"
      },
      "source": [
        "**As a list of list of numbers**"
      ]
    },
    {
      "cell_type": "code",
      "metadata": {
        "colab": {
          "base_uri": "https://localhost:8080/"
        },
        "id": "UvpJSh1Osf7i",
        "outputId": "6ad5268d-b172-4ee5-8818-c2480f3c440f"
      },
      "source": [
        "a1 = np.array([[1,2,3], [4, 5, 6]]) # 2 dimensional array\n",
        "a1"
      ],
      "execution_count": 135,
      "outputs": [
        {
          "output_type": "execute_result",
          "data": {
            "text/plain": [
              "array([[1, 2, 3],\n",
              "       [4, 5, 6]])"
            ]
          },
          "metadata": {},
          "execution_count": 135
        }
      ]
    },
    {
      "cell_type": "markdown",
      "metadata": {
        "id": "iwBM0qwPtaCe"
      },
      "source": [
        "**Zeros: Pass the size of an array as a tuple: (row, cols)**"
      ]
    },
    {
      "cell_type": "code",
      "metadata": {
        "colab": {
          "base_uri": "https://localhost:8080/"
        },
        "id": "k5xGuvuitY4I",
        "outputId": "4f6a814d-246b-47d3-bcc2-dd9c34ffeb07"
      },
      "source": [
        "a2 = np.zeros((2,3))\n",
        "a2"
      ],
      "execution_count": 136,
      "outputs": [
        {
          "output_type": "execute_result",
          "data": {
            "text/plain": [
              "array([[0., 0., 0.],\n",
              "       [0., 0., 0.]])"
            ]
          },
          "metadata": {},
          "execution_count": 136
        }
      ]
    },
    {
      "cell_type": "markdown",
      "metadata": {
        "id": "TnRwAsKctvau"
      },
      "source": [
        "**Ones: Similar to arrays of zero.**"
      ]
    },
    {
      "cell_type": "code",
      "metadata": {
        "colab": {
          "base_uri": "https://localhost:8080/"
        },
        "id": "KdDZAWOKtzlU",
        "outputId": "a6fa170c-2961-4420-beda-90c84986c098"
      },
      "source": [
        "a3 = np.ones((3,3))\n",
        "a3"
      ],
      "execution_count": 137,
      "outputs": [
        {
          "output_type": "execute_result",
          "data": {
            "text/plain": [
              "array([[1., 1., 1.],\n",
              "       [1., 1., 1.],\n",
              "       [1., 1., 1.]])"
            ]
          },
          "metadata": {},
          "execution_count": 137
        }
      ]
    },
    {
      "cell_type": "markdown",
      "metadata": {
        "id": "NEsEyFhwt3cW"
      },
      "source": [
        "**Random 2d arrays.** Generated using **pesudo random number** generation algorithm."
      ]
    },
    {
      "cell_type": "code",
      "metadata": {
        "colab": {
          "base_uri": "https://localhost:8080/"
        },
        "id": "8apvdzkXt_d8",
        "outputId": "b14e283d-7e4a-4e31-d516-98ddb7089030"
      },
      "source": [
        "a4 = np.random.random((2,2))\n",
        "a4"
      ],
      "execution_count": 138,
      "outputs": [
        {
          "output_type": "execute_result",
          "data": {
            "text/plain": [
              "array([[0.84080607, 0.19419295],\n",
              "       [0.19696281, 0.39326697]])"
            ]
          },
          "metadata": {},
          "execution_count": 138
        }
      ]
    },
    {
      "cell_type": "markdown",
      "metadata": {
        "id": "jecqMvt5uPUx"
      },
      "source": [
        "**Random.** Generation from **gaussian / normal** distribution.\n",
        "**Pass the size directly.**\n"
      ]
    },
    {
      "cell_type": "code",
      "metadata": {
        "id": "iPqdrsMpuaAc",
        "colab": {
          "base_uri": "https://localhost:8080/"
        },
        "outputId": "1d33f9fe-bffa-4948-a9b4-ca1db8183105"
      },
      "source": [
        "a5 = np.random.randn(100, 100)\n",
        "mean = np.mean(a5) # np.mean(np.ravel(a5))\n",
        "std = np.std(a5)\n",
        "print(\"Mean = {}\".format(mean))\n",
        "print(\"Std = {}\".format(std))"
      ],
      "execution_count": 139,
      "outputs": [
        {
          "output_type": "stream",
          "text": [
            "Mean = 0.00847997682347143\n",
            "Std = 0.9910477687721128\n"
          ],
          "name": "stdout"
        }
      ]
    },
    {
      "cell_type": "markdown",
      "metadata": {
        "id": "L1VHTm61UNtg"
      },
      "source": [
        "2d array to 1d array"
      ]
    },
    {
      "cell_type": "code",
      "metadata": {
        "colab": {
          "base_uri": "https://localhost:8080/"
        },
        "id": "rBVLSJk1UQuG",
        "outputId": "b2a21967-91df-40d7-e444-c65c4adfc37a"
      },
      "source": [
        "x = np.array([[1, 2], [3, 4]])\n",
        "x.ravel()"
      ],
      "execution_count": 140,
      "outputs": [
        {
          "output_type": "execute_result",
          "data": {
            "text/plain": [
              "array([1, 2, 3, 4])"
            ]
          },
          "metadata": {},
          "execution_count": 140
        }
      ]
    },
    {
      "cell_type": "markdown",
      "metadata": {
        "id": "HuYgT5VaT0Q7"
      },
      "source": [
        "# 2d Dimension Array Operations"
      ]
    },
    {
      "cell_type": "markdown",
      "metadata": {
        "id": "JKZk4-f4VInB"
      },
      "source": [
        "**Element wise multiplication: Scalar Mul**"
      ]
    },
    {
      "cell_type": "code",
      "metadata": {
        "colab": {
          "base_uri": "https://localhost:8080/"
        },
        "id": "5SbFWvPFSQt5",
        "outputId": "c435656a-847d-4e62-d806-844c29f0284a"
      },
      "source": [
        "x = np.array([[1, 2], [3, 4]])\n",
        "x * 2"
      ],
      "execution_count": 141,
      "outputs": [
        {
          "output_type": "execute_result",
          "data": {
            "text/plain": [
              "array([[2, 4],\n",
              "       [6, 8]])"
            ]
          },
          "metadata": {},
          "execution_count": 141
        }
      ]
    },
    {
      "cell_type": "markdown",
      "metadata": {
        "id": "ANIUnPnZbZ3t"
      },
      "source": [
        "2d array to 1d. Unpacking"
      ]
    },
    {
      "cell_type": "markdown",
      "metadata": {
        "id": "8vhlxi5bVla9"
      },
      "source": [
        "**Addition of two array**"
      ]
    },
    {
      "cell_type": "code",
      "metadata": {
        "colab": {
          "base_uri": "https://localhost:8080/"
        },
        "id": "YkFWOqvxVWA0",
        "outputId": "1e6a62c6-5326-49b3-dee2-7a4c0c442c55"
      },
      "source": [
        "a = np.array([[1, 2], [3, 4]])\n",
        "b = np.array([[1, 2], [3, 4]])\n",
        "a + b"
      ],
      "execution_count": 142,
      "outputs": [
        {
          "output_type": "execute_result",
          "data": {
            "text/plain": [
              "array([[2, 4],\n",
              "       [6, 8]])"
            ]
          },
          "metadata": {},
          "execution_count": 142
        }
      ]
    },
    {
      "cell_type": "markdown",
      "metadata": {
        "id": "POzgZz22Wvz9"
      },
      "source": [
        "**Boolean indexing**"
      ]
    },
    {
      "cell_type": "code",
      "metadata": {
        "colab": {
          "base_uri": "https://localhost:8080/"
        },
        "id": "daKuPzbWVnLu",
        "outputId": "6c14ed7f-5a8a-4400-ff51-df88a0b35549"
      },
      "source": [
        "b = np.array([[2, 4],[3, 9]])\n",
        "idx_div_by_3 = b % 3 == 0\n",
        "print(\"Bool Idx divisible by 3: {}\".format(idx_div_by_3))\n",
        "items_div_by_3 = b[idx_div_by_3]\n",
        "print(\"Items div by 3: {}\".format(items_div_by_3))\n"
      ],
      "execution_count": 143,
      "outputs": [
        {
          "output_type": "stream",
          "text": [
            "Bool Idx divisible by 3: [[False False]\n",
            " [ True  True]]\n",
            "Items div by 3: [3 9]\n"
          ],
          "name": "stdout"
        }
      ]
    },
    {
      "cell_type": "markdown",
      "metadata": {
        "id": "TVbbYTrMXw3k"
      },
      "source": [
        "# Element Indexing"
      ]
    },
    {
      "cell_type": "code",
      "metadata": {
        "id": "nPVxTHH-Xyhl"
      },
      "source": [
        "ar = np.array([[1, 2, 3], [4, 5, 6], [7, 8, 9]])"
      ],
      "execution_count": 144,
      "outputs": []
    },
    {
      "cell_type": "markdown",
      "metadata": {
        "id": "1c4mfD4nYEzo"
      },
      "source": [
        "1st row in 2d array:\n",
        "\n",
        "**Whole row:** arr[row]\n",
        "\n",
        "**General indexing:** arr[row][col]\n",
        "\n",
        "**colon (:)**  Means all item"
      ]
    },
    {
      "cell_type": "markdown",
      "metadata": {
        "id": "-eCCmiPrafY0"
      },
      "source": [
        "**Row**"
      ]
    },
    {
      "cell_type": "code",
      "metadata": {
        "colab": {
          "base_uri": "https://localhost:8080/"
        },
        "id": "xFHBpsx6bADe",
        "outputId": "8aaf1bb6-9d8f-4f46-98a7-ff6560707d86"
      },
      "source": [
        "ar"
      ],
      "execution_count": 145,
      "outputs": [
        {
          "output_type": "execute_result",
          "data": {
            "text/plain": [
              "array([[1, 2, 3],\n",
              "       [4, 5, 6],\n",
              "       [7, 8, 9]])"
            ]
          },
          "metadata": {},
          "execution_count": 145
        }
      ]
    },
    {
      "cell_type": "code",
      "metadata": {
        "colab": {
          "base_uri": "https://localhost:8080/"
        },
        "id": "DlAncbKjYIyE",
        "outputId": "9c3d0468-2ea3-4fdd-f936-c90d03c79382"
      },
      "source": [
        "# first row\n",
        "ar[0]\n",
        "\n",
        "# or\n",
        "# ar[0, :] => First row all columns => ar[first_row, : (all_columns)]"
      ],
      "execution_count": 146,
      "outputs": [
        {
          "output_type": "execute_result",
          "data": {
            "text/plain": [
              "array([1, 2, 3])"
            ]
          },
          "metadata": {},
          "execution_count": 146
        }
      ]
    },
    {
      "cell_type": "markdown",
      "metadata": {
        "id": "KN4xgfXlbPBe"
      },
      "source": [
        "**Column**"
      ]
    },
    {
      "cell_type": "code",
      "metadata": {
        "colab": {
          "base_uri": "https://localhost:8080/"
        },
        "id": "UIlj6jZCacgQ",
        "outputId": "462d56a6-dea9-403a-b976-d637aa315b6e"
      },
      "source": [
        "# All row of 0th column\n",
        "ar[: , 0]\n",
        "#  [all, 0th column]"
      ],
      "execution_count": 147,
      "outputs": [
        {
          "output_type": "execute_result",
          "data": {
            "text/plain": [
              "array([1, 4, 7])"
            ]
          },
          "metadata": {},
          "execution_count": 147
        }
      ]
    },
    {
      "cell_type": "code",
      "metadata": {
        "colab": {
          "base_uri": "https://localhost:8080/"
        },
        "id": "Tuo2V-k8bi-I",
        "outputId": "9af77dc2-3cff-47a2-e212-97fdc8fd558a"
      },
      "source": [
        "ar"
      ],
      "execution_count": 148,
      "outputs": [
        {
          "output_type": "execute_result",
          "data": {
            "text/plain": [
              "array([[1, 2, 3],\n",
              "       [4, 5, 6],\n",
              "       [7, 8, 9]])"
            ]
          },
          "metadata": {},
          "execution_count": 148
        }
      ]
    },
    {
      "cell_type": "markdown",
      "metadata": {
        "id": "cU_hpsvpb9Ne"
      },
      "source": [
        "**Sub indexing / Extraction of 2d array**\n",
        "\n",
        "ar[a:b] => a is inclusive, b is exclusive"
      ]
    },
    {
      "cell_type": "code",
      "metadata": {
        "colab": {
          "base_uri": "https://localhost:8080/"
        },
        "id": "uprDopMZbn3K",
        "outputId": "c88cb446-6a2f-4f29-9bb0-054bec9817c1"
      },
      "source": [
        "ar[0:2, 0:2] # ar[:-1, :-1]\n",
        "# [[1, 2],\n",
        "#  [4, 5]]\n",
        "\n",
        "ar[1:, 1:]\n",
        "#  [[5, 6],\n",
        "#   [8, 9]]\n",
        "\n",
        "ar[-1, 1:] # [8, 9]"
      ],
      "execution_count": 149,
      "outputs": [
        {
          "output_type": "execute_result",
          "data": {
            "text/plain": [
              "array([8, 9])"
            ]
          },
          "metadata": {},
          "execution_count": 149
        }
      ]
    },
    {
      "cell_type": "markdown",
      "metadata": {
        "id": "LTXtDFOVe0n7"
      },
      "source": [
        "# Dealing with 2D Functions"
      ]
    },
    {
      "cell_type": "markdown",
      "metadata": {
        "id": "aA2PmTmwU6Ie"
      },
      "source": [
        "**Generating points out of x and y limit: meshgrid**"
      ]
    },
    {
      "cell_type": "markdown",
      "metadata": {
        "id": "LauARaKEfRro"
      },
      "source": [
        "Given  $x\\epsilon[1, 2]$ and $y\\epsilon[2, 3] \\ni x,y \\epsilon R $\n",
        "\n",
        "\n",
        "x = [1, 2] limits on x axis\n",
        "\n",
        "y = [2, 3] limits on y axis\n",
        "\n",
        "**meshgrid**\n",
        "\n",
        "2d points on those limits:\n",
        "\n",
        "(1, 2) (2, 2)\n",
        "\n",
        "(1, 3) (2, 3)\n",
        "\n",
        "**xv is the array of 1st element on co-ord**\n",
        "\n",
        "(1, 2)\n",
        "\n",
        "(1, 2)\n",
        "\n",
        "**yv is the array of 2nd element on co-ord**\n",
        "\n",
        "(2, 2)\n",
        "\n",
        "(3, 3)\n",
        "\n"
      ]
    },
    {
      "cell_type": "code",
      "metadata": {
        "colab": {
          "base_uri": "https://localhost:8080/"
        },
        "id": "gekNAijreZ62",
        "outputId": "6503cb71-3e0c-488d-b707-0187adf1361e"
      },
      "source": [
        "x = np.array([1, 2])\n",
        "y = np.array([2, 3])\n",
        "\n",
        "xv, yv = np.meshgrid(x, y)\n",
        "\n",
        "# xv =  repeat in rows untill max item length\n",
        "# yv = repeat in col max item length\n",
        "\n",
        "print(xv)\n",
        "print(\"\\n\")\n",
        "print(yv)"
      ],
      "execution_count": 150,
      "outputs": [
        {
          "output_type": "stream",
          "text": [
            "[[1 2]\n",
            " [1 2]]\n",
            "\n",
            "\n",
            "[[2 2]\n",
            " [3 3]]\n"
          ],
          "name": "stdout"
        }
      ]
    },
    {
      "cell_type": "code",
      "metadata": {
        "colab": {
          "base_uri": "https://localhost:8080/",
          "height": 287
        },
        "id": "uP94p737hmol",
        "outputId": "759b6a9a-691d-41f4-d2d0-9d0107aa74cc"
      },
      "source": [
        "x = np.linspace(0, 10, 1000)\n",
        "y = np.linspace(0, 10, 1000)\n",
        "\n",
        "xv, yv = np.meshgrid(x, y)\n",
        "\n",
        "zv = xv**2 + yv**2\n",
        "\n",
        "plt.contourf(xv, yv, zv, levels=30)\n",
        "plt.colorbar()"
      ],
      "execution_count": 151,
      "outputs": [
        {
          "output_type": "execute_result",
          "data": {
            "text/plain": [
              "<matplotlib.colorbar.Colorbar at 0x7f689842b790>"
            ]
          },
          "metadata": {},
          "execution_count": 151
        },
        {
          "output_type": "display_data",
          "data": {
            "image/png": "[encoded data removed]",
            "text/plain": [
              "<Figure size 432x288 with 2 Axes>"
            ]
          },
          "metadata": {
            "needs_background": "light"
          }
        }
      ]
    },
    {
      "cell_type": "markdown",
      "metadata": {
        "id": "4ECOytbIcl2J"
      },
      "source": [
        "# Basic Linear Algebra"
      ]
    },
    {
      "cell_type": "markdown",
      "metadata": {
        "id": "8Kb4iWA-cs0U"
      },
      "source": [
        "**Matrix Operation**"
      ]
    },
    {
      "cell_type": "markdown",
      "metadata": {
        "id": "_dqS1Lc-c5Md"
      },
      "source": [
        "2d array can be thought of as a matrix"
      ]
    },
    {
      "cell_type": "code",
      "metadata": {
        "id": "Rh1UwRnQckag"
      },
      "source": [
        "mat = np.array([[1, 2, 3], [4, 5, 6], [7, 8, 9]])\n",
        "vect1 = np.array([4, 5, 6])\n",
        "vect2 = np.array([6, 2, 3])"
      ],
      "execution_count": 152,
      "outputs": []
    },
    {
      "cell_type": "markdown",
      "metadata": {
        "id": "azGYeF6mdYlF"
      },
      "source": [
        "**Matrix mul with vector**\n",
        "mat@vector\n",
        "\n",
        "$$mat = \\begin{bmatrix}\n",
        "1 & 2 & 3\\\\\n",
        "4 & 5 & 6 \\\\\n",
        "7 & 8 & 9\n",
        "\\end{bmatrix}$$\n",
        "\n",
        "$$\\vec{vect1} = \\begin{bmatrix}\n",
        "4\\\\\n",
        "5\\\\\n",
        "6\n",
        "\\end{bmatrix}$$\n",
        "\n",
        "$$mat @ vect1 = mat \\times \\vec{vect1} \\\\\n",
        " =\\begin{bmatrix}\n",
        "1 & 2 & 3\\\\\n",
        "4 & 5 & 6 \\\\\n",
        "7 & 8 & 9\n",
        "\\end{bmatrix}\n",
        "* \n",
        "\\begin{bmatrix}\n",
        "4\\\\\n",
        "5\\\\\n",
        "6\n",
        "\\end{bmatrix}\n",
        "$$\n",
        "\n",
        "$$\n",
        "= \n",
        "\\begin{bmatrix}\n",
        "4 + 10 + 18\\\\\n",
        "16 + 25 + 36\\\\\n",
        "28 + 40 + 54\n",
        "\\end{bmatrix}\n",
        "$$\n",
        "\n",
        "$$\n",
        "= \n",
        "\\begin{bmatrix}\n",
        "32\\\\\n",
        "77\\\\\n",
        "122\n",
        "\\end{bmatrix}\n",
        "$$"
      ]
    },
    {
      "cell_type": "code",
      "metadata": {
        "colab": {
          "base_uri": "https://localhost:8080/"
        },
        "id": "_A2wyANTdYAf",
        "outputId": "699f1bfc-8a26-454c-c4f2-22f9167c41c4"
      },
      "source": [
        "mat@vect1"
      ],
      "execution_count": 153,
      "outputs": [
        {
          "output_type": "execute_result",
          "data": {
            "text/plain": [
              "array([ 32,  77, 122])"
            ]
          },
          "metadata": {},
          "execution_count": 153
        }
      ]
    },
    {
      "cell_type": "markdown",
      "metadata": {
        "id": "y_LliDeCgLdl"
      },
      "source": [
        "**Transpose**"
      ]
    },
    {
      "cell_type": "code",
      "metadata": {
        "colab": {
          "base_uri": "https://localhost:8080/"
        },
        "id": "l5MLgezUgNyF",
        "outputId": "faf41da5-801b-4d67-d4bb-92912d2a2b1c"
      },
      "source": [
        "mat"
      ],
      "execution_count": 154,
      "outputs": [
        {
          "output_type": "execute_result",
          "data": {
            "text/plain": [
              "array([[1, 2, 3],\n",
              "       [4, 5, 6],\n",
              "       [7, 8, 9]])"
            ]
          },
          "metadata": {},
          "execution_count": 154
        }
      ]
    },
    {
      "cell_type": "code",
      "metadata": {
        "colab": {
          "base_uri": "https://localhost:8080/"
        },
        "id": "euRYhlelgRFh",
        "outputId": "c4c9fef9-1376-4bf0-8f52-7f99ce7272c3"
      },
      "source": [
        "mat.T"
      ],
      "execution_count": 155,
      "outputs": [
        {
          "output_type": "execute_result",
          "data": {
            "text/plain": [
              "array([[1, 4, 7],\n",
              "       [2, 5, 8],\n",
              "       [3, 6, 9]])"
            ]
          },
          "metadata": {},
          "execution_count": 155
        }
      ]
    },
    {
      "cell_type": "markdown",
      "metadata": {
        "id": "-OtQI1-wgda0"
      },
      "source": [
        "**Dot Product of vectors**"
      ]
    },
    {
      "cell_type": "code",
      "metadata": {
        "colab": {
          "base_uri": "https://localhost:8080/"
        },
        "id": "i98IyiiKghT5",
        "outputId": "14831771-bbe3-4f2f-aa1a-e381c78010a9"
      },
      "source": [
        "vect1"
      ],
      "execution_count": 156,
      "outputs": [
        {
          "output_type": "execute_result",
          "data": {
            "text/plain": [
              "array([4, 5, 6])"
            ]
          },
          "metadata": {},
          "execution_count": 156
        }
      ]
    },
    {
      "cell_type": "code",
      "metadata": {
        "colab": {
          "base_uri": "https://localhost:8080/"
        },
        "id": "9BdSFJgKgkbl",
        "outputId": "c76c3495-8085-4e03-cfca-d1e3c8a6a83c"
      },
      "source": [
        "vect2"
      ],
      "execution_count": 157,
      "outputs": [
        {
          "output_type": "execute_result",
          "data": {
            "text/plain": [
              "array([6, 2, 3])"
            ]
          },
          "metadata": {},
          "execution_count": 157
        }
      ]
    },
    {
      "cell_type": "code",
      "metadata": {
        "colab": {
          "base_uri": "https://localhost:8080/"
        },
        "id": "uy137426gnlQ",
        "outputId": "8303c790-fae2-4439-c320-d4bcd09301f0"
      },
      "source": [
        "np.dot(vect1, vect2)"
      ],
      "execution_count": 158,
      "outputs": [
        {
          "output_type": "execute_result",
          "data": {
            "text/plain": [
              "52"
            ]
          },
          "metadata": {},
          "execution_count": 158
        }
      ]
    },
    {
      "cell_type": "markdown",
      "metadata": {
        "id": "Om9L_qHwg4UH"
      },
      "source": [
        "**Cross Product of vector**\n",
        "\n",
        "$\\vec{vect1}\\times\\vec{vect2} = \\begin{vmatrix}\n",
        "i & j & k\\\\\n",
        "4 & 5 & 6 \\\\\n",
        "6 & 2 & 3\n",
        "\\end{vmatrix} \\\\\n",
        "= \\vec{i} \n",
        "\\begin{vmatrix}\n",
        "5 & 6 \\\\\n",
        "2 & 3\n",
        "\\end{vmatrix}\n",
        "-\n",
        "\\vec{j} \n",
        "\\begin{vmatrix}\n",
        "4 & 6 \\\\\n",
        "6 & 3\n",
        "\\end{vmatrix}\n",
        "+\n",
        "\\vec{k} \n",
        "\\begin{vmatrix}\n",
        "4 & 5 \\\\\n",
        "6 & 2\n",
        "\\end{vmatrix} \\\\\n",
        "=3\\vec{i}+24\\vec{j}-22\\vec{k}$"
      ]
    },
    {
      "cell_type": "code",
      "metadata": {
        "colab": {
          "base_uri": "https://localhost:8080/"
        },
        "id": "puygo95Qg3A1",
        "outputId": "113787c9-ce9c-400f-c32e-c4f80da9aac3"
      },
      "source": [
        "np.cross(vect1, vect2)"
      ],
      "execution_count": 159,
      "outputs": [
        {
          "output_type": "execute_result",
          "data": {
            "text/plain": [
              "array([  3,  24, -22])"
            ]
          },
          "metadata": {},
          "execution_count": 159
        }
      ]
    },
    {
      "cell_type": "markdown",
      "metadata": {
        "id": "uJv-4NWGl-Ys"
      },
      "source": [
        "**System of Equation**\n",
        "\n",
        "$\n",
        "3x+2y+z= 4 \\\\\n",
        "5x-5y+4z=3 \\\\\n",
        "6x+z=0  \n",
        "$\n"
      ]
    },
    {
      "cell_type": "code",
      "metadata": {
        "id": "_TrwivNrmesY"
      },
      "source": [
        ""
      ],
      "execution_count": null,
      "outputs": []
    }
  ]
}