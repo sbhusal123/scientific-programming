{
  "nbformat": 4,
  "nbformat_minor": 0,
  "metadata": {
    "colab": {
      "name": "Numpy Multidimension.ipynb",
      "provenance": [],
      "collapsed_sections": [],
      "authorship_tag": "ABX9TyNTZdCt2Q7chwg7lIqmsZHb",
      "include_colab_link": true
    },
    "kernelspec": {
      "name": "python3",
      "display_name": "Python 3"
    },
    "language_info": {
      "name": "python"
    }
  },
  "cells": [
    {
      "cell_type": "markdown",
      "metadata": {
        "id": "view-in-github",
        "colab_type": "text"
      },
      "source": [
        "<a href=\"https://colab.research.google.com/github/sbhusal123/scientific-programming/blob/main/Numpy_Multidimension.ipynb\" target=\"_parent\"><img src=\"https://colab.research.google.com/assets/colab-badge.svg\" alt=\"Open In Colab\"/></a>"
      ]
    },
    {
      "cell_type": "code",
      "metadata": {
        "id": "URYU5RM8sTc8"
      },
      "source": [
        "import numpy as np\n",
        "import matplotlib.pyplot as plt"
      ],
      "execution_count": 23,
      "outputs": []
    },
    {
      "cell_type": "markdown",
      "metadata": {
        "id": "X8RrzY_6siY7"
      },
      "source": [
        "# Creating 2d DImension Array"
      ]
    },
    {
      "cell_type": "markdown",
      "metadata": {
        "id": "mX8jLjjWszDG"
      },
      "source": [
        "As a list of list of numbers"
      ]
    },
    {
      "cell_type": "code",
      "metadata": {
        "colab": {
          "base_uri": "https://localhost:8080/"
        },
        "id": "UvpJSh1Osf7i",
        "outputId": "9dd4a00c-688a-45e1-c732-e4133d52b81a"
      },
      "source": [
        "a1 = np.array([[1,2,3], [4, 5, 6]]) # 2 dimensional array\n",
        "a1"
      ],
      "execution_count": 24,
      "outputs": [
        {
          "output_type": "execute_result",
          "data": {
            "text/plain": [
              "array([[1, 2, 3],\n",
              "       [4, 5, 6]])"
            ]
          },
          "metadata": {},
          "execution_count": 24
        }
      ]
    },
    {
      "cell_type": "markdown",
      "metadata": {
        "id": "iwBM0qwPtaCe"
      },
      "source": [
        "Zeros: Pass the size of an array as a tuple: (row, cols)"
      ]
    },
    {
      "cell_type": "code",
      "metadata": {
        "colab": {
          "base_uri": "https://localhost:8080/"
        },
        "id": "k5xGuvuitY4I",
        "outputId": "c430d3f4-d7f5-4dfc-cfc0-8e683ec6d9eb"
      },
      "source": [
        "a2 = np.zeros((2,3))\n",
        "a2"
      ],
      "execution_count": 25,
      "outputs": [
        {
          "output_type": "execute_result",
          "data": {
            "text/plain": [
              "array([[0., 0., 0.],\n",
              "       [0., 0., 0.]])"
            ]
          },
          "metadata": {},
          "execution_count": 25
        }
      ]
    },
    {
      "cell_type": "markdown",
      "metadata": {
        "id": "TnRwAsKctvau"
      },
      "source": [
        "Ones: Similar to arrays of zero."
      ]
    },
    {
      "cell_type": "code",
      "metadata": {
        "colab": {
          "base_uri": "https://localhost:8080/"
        },
        "id": "KdDZAWOKtzlU",
        "outputId": "05d52ea0-418e-4a76-d87c-cec8f203365e"
      },
      "source": [
        "a3 = np.ones((3,3))\n",
        "a3"
      ],
      "execution_count": 26,
      "outputs": [
        {
          "output_type": "execute_result",
          "data": {
            "text/plain": [
              "array([[1., 1., 1.],\n",
              "       [1., 1., 1.],\n",
              "       [1., 1., 1.]])"
            ]
          },
          "metadata": {},
          "execution_count": 26
        }
      ]
    },
    {
      "cell_type": "markdown",
      "metadata": {
        "id": "NEsEyFhwt3cW"
      },
      "source": [
        "Random 2d arrays. Generated using pesudo random number generation algorithm."
      ]
    },
    {
      "cell_type": "code",
      "metadata": {
        "colab": {
          "base_uri": "https://localhost:8080/"
        },
        "id": "8apvdzkXt_d8",
        "outputId": "8a68fd08-4e61-4780-d90a-e4fd3c3b768d"
      },
      "source": [
        "a4 = np.random.random((2,2))\n",
        "a4"
      ],
      "execution_count": 27,
      "outputs": [
        {
          "output_type": "execute_result",
          "data": {
            "text/plain": [
              "array([[0.75348362, 0.82218774],\n",
              "       [0.85784099, 0.4020819 ]])"
            ]
          },
          "metadata": {},
          "execution_count": 27
        }
      ]
    },
    {
      "cell_type": "markdown",
      "metadata": {
        "id": "jecqMvt5uPUx"
      },
      "source": [
        "Random. Generation from gaussian / normal distribution.\n",
        "**Pass the size directly.**\n"
      ]
    },
    {
      "cell_type": "code",
      "metadata": {
        "id": "iPqdrsMpuaAc",
        "colab": {
          "base_uri": "https://localhost:8080/"
        },
        "outputId": "5ed6fb25-5e26-4f05-9768-4c075abc91f0"
      },
      "source": [
        "a5 = np.random.randn(100, 100)\n",
        "mean = np.mean(a5) # np.mean(np.ravel(a5))\n",
        "std = np.std(a5)\n",
        "print(\"Mean = {}\".format(mean))\n",
        "print(\"Std = {}\".format(std))"
      ],
      "execution_count": 28,
      "outputs": [
        {
          "output_type": "stream",
          "text": [
            "Mean = 0.007353113573520207\n",
            "Std = 1.0004874558419719\n"
          ],
          "name": "stdout"
        }
      ]
    },
    {
      "cell_type": "markdown",
      "metadata": {
        "id": "L1VHTm61UNtg"
      },
      "source": [
        "2d array to 1d array"
      ]
    },
    {
      "cell_type": "code",
      "metadata": {
        "colab": {
          "base_uri": "https://localhost:8080/"
        },
        "id": "rBVLSJk1UQuG",
        "outputId": "c3613666-a7ba-41ea-b332-b068f8e9cd5a"
      },
      "source": [
        "x = np.array([[1, 2], [3, 4]])\n",
        "x.ravel()"
      ],
      "execution_count": 29,
      "outputs": [
        {
          "output_type": "execute_result",
          "data": {
            "text/plain": [
              "array([1, 2, 3, 4])"
            ]
          },
          "metadata": {},
          "execution_count": 29
        }
      ]
    },
    {
      "cell_type": "markdown",
      "metadata": {
        "id": "HuYgT5VaT0Q7"
      },
      "source": [
        "# 2d Dimension Array Operations"
      ]
    },
    {
      "cell_type": "markdown",
      "metadata": {
        "id": "JKZk4-f4VInB"
      },
      "source": [
        "Element wise multiplication: Scalar Mul "
      ]
    },
    {
      "cell_type": "code",
      "metadata": {
        "colab": {
          "base_uri": "https://localhost:8080/"
        },
        "id": "5SbFWvPFSQt5",
        "outputId": "3662b6e2-b436-40f4-c823-9a9193f0d52a"
      },
      "source": [
        "x = np.array([[1, 2], [3, 4]])\n",
        "x * 2"
      ],
      "execution_count": 30,
      "outputs": [
        {
          "output_type": "execute_result",
          "data": {
            "text/plain": [
              "array([[2, 4],\n",
              "       [6, 8]])"
            ]
          },
          "metadata": {},
          "execution_count": 30
        }
      ]
    },
    {
      "cell_type": "markdown",
      "metadata": {
        "id": "8vhlxi5bVla9"
      },
      "source": [
        "Addition of two array"
      ]
    },
    {
      "cell_type": "code",
      "metadata": {
        "colab": {
          "base_uri": "https://localhost:8080/"
        },
        "id": "YkFWOqvxVWA0",
        "outputId": "5f599fa3-56a0-4a18-bd15-c07c6a44c2ea"
      },
      "source": [
        "a = np.array([[1, 2], [3, 4]])\n",
        "b = np.array([[1, 2], [3, 4]])\n",
        "a + b"
      ],
      "execution_count": 31,
      "outputs": [
        {
          "output_type": "execute_result",
          "data": {
            "text/plain": [
              "array([[2, 4],\n",
              "       [6, 8]])"
            ]
          },
          "metadata": {},
          "execution_count": 31
        }
      ]
    },
    {
      "cell_type": "markdown",
      "metadata": {
        "id": "POzgZz22Wvz9"
      },
      "source": [
        "Boolean indexing"
      ]
    },
    {
      "cell_type": "code",
      "metadata": {
        "colab": {
          "base_uri": "https://localhost:8080/"
        },
        "id": "daKuPzbWVnLu",
        "outputId": "ce8cf647-ccd0-47d5-8f5c-7fa6fa25f1d2"
      },
      "source": [
        "b = np.array([[2, 4],[3, 9]])\n",
        "idx_div_by_3 = b % 3 == 0\n",
        "print(\"Bool Idx divisible by 3: {}\".format(idx_div_by_3))\n",
        "items_div_by_3 = b[idx_div_by_3]\n",
        "print(\"Items div by 3: {}\".format(items_div_by_3))\n"
      ],
      "execution_count": 32,
      "outputs": [
        {
          "output_type": "stream",
          "text": [
            "Bool Idx divisible by 3: [[False False]\n",
            " [ True  True]]\n",
            "Items div by 3: [3 9]\n"
          ],
          "name": "stdout"
        }
      ]
    },
    {
      "cell_type": "markdown",
      "metadata": {
        "id": "TVbbYTrMXw3k"
      },
      "source": [
        "# Element Indexing"
      ]
    },
    {
      "cell_type": "code",
      "metadata": {
        "id": "nPVxTHH-Xyhl"
      },
      "source": [
        "ar = np.array([[1, 2, 3], [4, 5, 6], [7, 8, 9]])"
      ],
      "execution_count": 33,
      "outputs": []
    },
    {
      "cell_type": "markdown",
      "metadata": {
        "id": "1c4mfD4nYEzo"
      },
      "source": [
        "1st row in 2d array:\n",
        "\n",
        "**Whole row:** arr[row]\n",
        "\n",
        "**General indexing:** arr[row][col]\n",
        "\n",
        "**colon (:)**  Means all item"
      ]
    },
    {
      "cell_type": "markdown",
      "metadata": {
        "id": "-eCCmiPrafY0"
      },
      "source": [
        "Row"
      ]
    },
    {
      "cell_type": "code",
      "metadata": {
        "colab": {
          "base_uri": "https://localhost:8080/"
        },
        "id": "xFHBpsx6bADe",
        "outputId": "357377b2-1e8c-40e2-c624-314c8dc6d516"
      },
      "source": [
        "ar"
      ],
      "execution_count": 34,
      "outputs": [
        {
          "output_type": "execute_result",
          "data": {
            "text/plain": [
              "array([[1, 2, 3],\n",
              "       [4, 5, 6],\n",
              "       [7, 8, 9]])"
            ]
          },
          "metadata": {},
          "execution_count": 34
        }
      ]
    },
    {
      "cell_type": "code",
      "metadata": {
        "colab": {
          "base_uri": "https://localhost:8080/"
        },
        "id": "DlAncbKjYIyE",
        "outputId": "77288733-7c0f-4cab-b3fd-b15a9e34b8d9"
      },
      "source": [
        "# first row\n",
        "ar[0]\n",
        "\n",
        "# or\n",
        "# ar[0, :] => First row all columns => ar[first_row, : (all_columns)]"
      ],
      "execution_count": 35,
      "outputs": [
        {
          "output_type": "execute_result",
          "data": {
            "text/plain": [
              "array([1, 2, 3])"
            ]
          },
          "metadata": {},
          "execution_count": 35
        }
      ]
    },
    {
      "cell_type": "markdown",
      "metadata": {
        "id": "KN4xgfXlbPBe"
      },
      "source": [
        "Column"
      ]
    },
    {
      "cell_type": "code",
      "metadata": {
        "colab": {
          "base_uri": "https://localhost:8080/"
        },
        "id": "UIlj6jZCacgQ",
        "outputId": "e5652ab1-4dae-42bb-e045-82fe76d7ba8b"
      },
      "source": [
        "# All row of 0th column\n",
        "ar[: , 0]\n",
        "#  [all, 0th column]"
      ],
      "execution_count": 36,
      "outputs": [
        {
          "output_type": "execute_result",
          "data": {
            "text/plain": [
              "array([1, 4, 7])"
            ]
          },
          "metadata": {},
          "execution_count": 36
        }
      ]
    },
    {
      "cell_type": "code",
      "metadata": {
        "colab": {
          "base_uri": "https://localhost:8080/"
        },
        "id": "Tuo2V-k8bi-I",
        "outputId": "5673dfac-3555-43ca-b335-de94b170bb7a"
      },
      "source": [
        "ar"
      ],
      "execution_count": 37,
      "outputs": [
        {
          "output_type": "execute_result",
          "data": {
            "text/plain": [
              "array([[1, 2, 3],\n",
              "       [4, 5, 6],\n",
              "       [7, 8, 9]])"
            ]
          },
          "metadata": {},
          "execution_count": 37
        }
      ]
    },
    {
      "cell_type": "markdown",
      "metadata": {
        "id": "cU_hpsvpb9Ne"
      },
      "source": [
        "Sub indexing / Extraction of 2d array\n",
        "\n",
        "ar[a:b] => a is inclusive, b is exclusive"
      ]
    },
    {
      "cell_type": "code",
      "metadata": {
        "colab": {
          "base_uri": "https://localhost:8080/"
        },
        "id": "uprDopMZbn3K",
        "outputId": "6f549601-85d0-41cd-e36f-1ff21427e2e9"
      },
      "source": [
        "ar[0:2, 0:2] # ar[:-1, :-1]\n",
        "# [[1, 2],\n",
        "#  [4, 5]]\n",
        "\n",
        "ar[1:, 1:]\n",
        "#  [[5, 6],\n",
        "#   [8, 9]]\n",
        "\n",
        "ar[-1, 1:] # [8, 9]"
      ],
      "execution_count": 38,
      "outputs": [
        {
          "output_type": "execute_result",
          "data": {
            "text/plain": [
              "array([8, 9])"
            ]
          },
          "metadata": {},
          "execution_count": 38
        }
      ]
    },
    {
      "cell_type": "markdown",
      "metadata": {
        "id": "LTXtDFOVe0n7"
      },
      "source": [
        "# Dealing with 2D Functions"
      ]
    },
    {
      "cell_type": "markdown",
      "metadata": {
        "id": "aA2PmTmwU6Ie"
      },
      "source": [
        "**Generating points out of x and y limit: meshgrid**"
      ]
    },
    {
      "cell_type": "markdown",
      "metadata": {
        "id": "LauARaKEfRro"
      },
      "source": [
        "Given  $x\\epsilon[1, 2]$ and $y\\epsilon[2, 3] \\ni x,y \\epsilon R $\n",
        "\n",
        "\n",
        "x = [1, 2] limits on x axis\n",
        "\n",
        "y = [2, 3] limits on y axis\n",
        "\n",
        "**meshgrid**\n",
        "\n",
        "2d points on those limits:\n",
        "\n",
        "(1, 2) (2, 3)\n",
        "\n",
        "(1, 3) (2, 3)\n",
        "\n",
        "**xv is the array of 1st element on tuple**\n",
        "\n",
        "(1, 2)\n",
        "\n",
        "(1, 2)\n",
        "\n",
        "**yv is the array of 1st element on tuple**\n",
        "\n",
        "(2, 2)\n",
        "\n",
        "(3, 3)\n",
        "\n"
      ]
    },
    {
      "cell_type": "code",
      "metadata": {
        "colab": {
          "base_uri": "https://localhost:8080/"
        },
        "id": "gekNAijreZ62",
        "outputId": "78486bd2-8884-4c7c-9b50-92c240c86e54"
      },
      "source": [
        "x = np.array([1, 2])\n",
        "y = np.array([2, 3])\n",
        "\n",
        "xv, yv = np.meshgrid(x, y)\n",
        "\n",
        "# xv =  repeat in rows untill max item length\n",
        "# yv = repeat in col max item length\n",
        "\n",
        "print(xv)\n",
        "print(\"\\n\")\n",
        "print(yv)"
      ],
      "execution_count": 39,
      "outputs": [
        {
          "output_type": "stream",
          "text": [
            "[[1 2]\n",
            " [1 2]]\n",
            "\n",
            "\n",
            "[[2 2]\n",
            " [3 3]]\n"
          ],
          "name": "stdout"
        }
      ]
    },
    {
      "cell_type": "code",
      "metadata": {
        "colab": {
          "base_uri": "https://localhost:8080/",
          "height": 287
        },
        "id": "uP94p737hmol",
        "outputId": "ab621f2a-db08-44e0-e25a-c08ed3a64211"
      },
      "source": [
        "x = np.linspace(0, 10, 1000)\n",
        "y = np.linspace(0, 10, 1000)\n",
        "\n",
        "xv, yv = np.meshgrid(x, y)\n",
        "\n",
        "zv = xv**2 + yv**2\n",
        "\n",
        "plt.contourf(xv, yv, zv, levels=30)\n",
        "plt.colorbar()"
      ],
      "execution_count": 40,
      "outputs": [
        {
          "output_type": "execute_result",
          "data": {
            "text/plain": [
              "<matplotlib.colorbar.Colorbar at 0x7f689cd0a110>"
            ]
          },
          "metadata": {},
          "execution_count": 40
        },
        {
          "output_type": "display_data",
          "data": {
            "image/png": "[encoded data removed]",
            "text/plain": [
              "<Figure size 432x288 with 2 Axes>"
            ]
          },
          "metadata": {
            "needs_background": "light"
          }
        }
      ]
    }
  ]
}