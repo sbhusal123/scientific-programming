{
  "nbformat": 4,
  "nbformat_minor": 0,
  "metadata": {
    "colab": {
      "name": "Numpy Multidimension.ipynb",
      "provenance": [],
      "authorship_tag": "ABX9TyPf7FwBPsyHkKXuzKFY/7cf",
      "include_colab_link": true
    },
    "kernelspec": {
      "name": "python3",
      "display_name": "Python 3"
    },
    "language_info": {
      "name": "python"
    }
  },
  "cells": [
    {
      "cell_type": "markdown",
      "metadata": {
        "id": "view-in-github",
        "colab_type": "text"
      },
      "source": [
        "<a href=\"https://colab.research.google.com/github/sbhusal123/scientific-programming/blob/main/Numpy_Multidimension.ipynb\" target=\"_parent\"><img src=\"https://colab.research.google.com/assets/colab-badge.svg\" alt=\"Open In Colab\"/></a>"
      ]
    },
    {
      "cell_type": "code",
      "metadata": {
        "id": "URYU5RM8sTc8"
      },
      "source": [
        "import numpy as np\n",
        "import matplotlib.pyplot as plt"
      ],
      "execution_count": 32,
      "outputs": []
    },
    {
      "cell_type": "markdown",
      "metadata": {
        "id": "X8RrzY_6siY7"
      },
      "source": [
        "# Creating 2d DImension Array"
      ]
    },
    {
      "cell_type": "markdown",
      "metadata": {
        "id": "mX8jLjjWszDG"
      },
      "source": [
        "As a list of list of numbers"
      ]
    },
    {
      "cell_type": "code",
      "metadata": {
        "colab": {
          "base_uri": "https://localhost:8080/"
        },
        "id": "UvpJSh1Osf7i",
        "outputId": "96fbbedc-db1d-4484-f9b5-00e55976b694"
      },
      "source": [
        "a1 = np.array([[1,2,3], [4, 5, 6]]) # 2 dimensional array\n",
        "a1"
      ],
      "execution_count": 33,
      "outputs": [
        {
          "output_type": "execute_result",
          "data": {
            "text/plain": [
              "array([[1, 2, 3],\n",
              "       [4, 5, 6]])"
            ]
          },
          "metadata": {},
          "execution_count": 33
        }
      ]
    },
    {
      "cell_type": "markdown",
      "metadata": {
        "id": "iwBM0qwPtaCe"
      },
      "source": [
        "Zeros: Pass the size of an array as a tuple: (row, cols)"
      ]
    },
    {
      "cell_type": "code",
      "metadata": {
        "colab": {
          "base_uri": "https://localhost:8080/"
        },
        "id": "k5xGuvuitY4I",
        "outputId": "065f1c2f-5993-4202-9852-ad0df845b6b6"
      },
      "source": [
        "a2 = np.zeros((2,3))\n",
        "a2"
      ],
      "execution_count": 34,
      "outputs": [
        {
          "output_type": "execute_result",
          "data": {
            "text/plain": [
              "array([[0., 0., 0.],\n",
              "       [0., 0., 0.]])"
            ]
          },
          "metadata": {},
          "execution_count": 34
        }
      ]
    },
    {
      "cell_type": "markdown",
      "metadata": {
        "id": "TnRwAsKctvau"
      },
      "source": [
        "Ones: Similar to arrays of zero."
      ]
    },
    {
      "cell_type": "code",
      "metadata": {
        "colab": {
          "base_uri": "https://localhost:8080/"
        },
        "id": "KdDZAWOKtzlU",
        "outputId": "c3ebd7dc-98aa-433c-f3ea-a0ef20042d05"
      },
      "source": [
        "a3 = np.ones((3,3))\n",
        "a3"
      ],
      "execution_count": 35,
      "outputs": [
        {
          "output_type": "execute_result",
          "data": {
            "text/plain": [
              "array([[1., 1., 1.],\n",
              "       [1., 1., 1.],\n",
              "       [1., 1., 1.]])"
            ]
          },
          "metadata": {},
          "execution_count": 35
        }
      ]
    },
    {
      "cell_type": "markdown",
      "metadata": {
        "id": "NEsEyFhwt3cW"
      },
      "source": [
        "Random 2d arrays. Generated using pesudo random number generation algorithm."
      ]
    },
    {
      "cell_type": "code",
      "metadata": {
        "colab": {
          "base_uri": "https://localhost:8080/"
        },
        "id": "8apvdzkXt_d8",
        "outputId": "6d38aca0-d7bf-4e13-dfea-398411945e23"
      },
      "source": [
        "a4 = np.random.random((2,2))\n",
        "a4"
      ],
      "execution_count": 36,
      "outputs": [
        {
          "output_type": "execute_result",
          "data": {
            "text/plain": [
              "array([[0.52369307, 0.11808162],\n",
              "       [0.57067978, 0.51288428]])"
            ]
          },
          "metadata": {},
          "execution_count": 36
        }
      ]
    },
    {
      "cell_type": "markdown",
      "metadata": {
        "id": "jecqMvt5uPUx"
      },
      "source": [
        "Random. Generation from gaussian / normal distribution.\n",
        "**Pass the size directly.**\n"
      ]
    },
    {
      "cell_type": "code",
      "metadata": {
        "id": "iPqdrsMpuaAc",
        "colab": {
          "base_uri": "https://localhost:8080/"
        },
        "outputId": "c03e3de1-3f6a-46df-a1ec-27debce33f7d"
      },
      "source": [
        "a5 = np.random.randn(100, 100)\n",
        "mean = np.mean(a5) # np.mean(np.ravel(a5))\n",
        "std = np.std(a5)\n",
        "print(\"Mean = {}\".format(mean))\n",
        "print(\"Std = {}\".format(std))"
      ],
      "execution_count": 37,
      "outputs": [
        {
          "output_type": "stream",
          "text": [
            "Mean = -0.007759014988978384\n",
            "Std = 1.0023179270259632\n"
          ],
          "name": "stdout"
        }
      ]
    },
    {
      "cell_type": "markdown",
      "metadata": {
        "id": "L1VHTm61UNtg"
      },
      "source": [
        "2d array to 1d array"
      ]
    },
    {
      "cell_type": "code",
      "metadata": {
        "colab": {
          "base_uri": "https://localhost:8080/"
        },
        "id": "rBVLSJk1UQuG",
        "outputId": "803b708c-123b-4a85-db89-818c1d375ea4"
      },
      "source": [
        "x = np.array([[1, 2], [3, 4]])\n",
        "x.ravel()"
      ],
      "execution_count": 38,
      "outputs": [
        {
          "output_type": "execute_result",
          "data": {
            "text/plain": [
              "array([1, 2, 3, 4])"
            ]
          },
          "metadata": {},
          "execution_count": 38
        }
      ]
    },
    {
      "cell_type": "markdown",
      "metadata": {
        "id": "HuYgT5VaT0Q7"
      },
      "source": [
        "# 2d Dimension Array Operations"
      ]
    },
    {
      "cell_type": "code",
      "metadata": {
        "id": "5SbFWvPFSQt5"
      },
      "source": [
        ""
      ],
      "execution_count": 38,
      "outputs": []
    }
  ]
}