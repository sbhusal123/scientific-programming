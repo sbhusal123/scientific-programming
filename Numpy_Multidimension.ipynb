{
  "nbformat": 4,
  "nbformat_minor": 0,
  "metadata": {
    "colab": {
      "name": "Numpy Multidimension.ipynb",
      "provenance": [],
      "collapsed_sections": [],
      "authorship_tag": "ABX9TyPOzTrZ0wy9MmUcRr8j09pH",
      "include_colab_link": true
    },
    "kernelspec": {
      "name": "python3",
      "display_name": "Python 3"
    },
    "language_info": {
      "name": "python"
    }
  },
  "cells": [
    {
      "cell_type": "markdown",
      "metadata": {
        "id": "view-in-github",
        "colab_type": "text"
      },
      "source": [
        "<a href=\"https://colab.research.google.com/github/sbhusal123/scientific-programming/blob/main/Numpy_Multidimension.ipynb\" target=\"_parent\"><img src=\"https://colab.research.google.com/assets/colab-badge.svg\" alt=\"Open In Colab\"/></a>"
      ]
    },
    {
      "cell_type": "code",
      "metadata": {
        "id": "URYU5RM8sTc8"
      },
      "source": [
        "import numpy as np\n",
        "import matplotlib.pyplot as plt"
      ],
      "execution_count": 95,
      "outputs": []
    },
    {
      "cell_type": "markdown",
      "metadata": {
        "id": "X8RrzY_6siY7"
      },
      "source": [
        "# Creating 2d DImension Array"
      ]
    },
    {
      "cell_type": "markdown",
      "metadata": {
        "id": "mX8jLjjWszDG"
      },
      "source": [
        "**As a list of list of numbers**"
      ]
    },
    {
      "cell_type": "code",
      "metadata": {
        "colab": {
          "base_uri": "https://localhost:8080/"
        },
        "id": "UvpJSh1Osf7i",
        "outputId": "dae19539-aad0-4e7c-d399-b25bbc992f52"
      },
      "source": [
        "a1 = np.array([[1,2,3], [4, 5, 6]]) # 2 dimensional array\n",
        "a1"
      ],
      "execution_count": 96,
      "outputs": [
        {
          "output_type": "execute_result",
          "data": {
            "text/plain": [
              "array([[1, 2, 3],\n",
              "       [4, 5, 6]])"
            ]
          },
          "metadata": {},
          "execution_count": 96
        }
      ]
    },
    {
      "cell_type": "markdown",
      "metadata": {
        "id": "iwBM0qwPtaCe"
      },
      "source": [
        "**Zeros: Pass the size of an array as a tuple: (row, cols)**"
      ]
    },
    {
      "cell_type": "code",
      "metadata": {
        "colab": {
          "base_uri": "https://localhost:8080/"
        },
        "id": "k5xGuvuitY4I",
        "outputId": "c4cf3f00-8c16-4c9c-f960-7813361edba8"
      },
      "source": [
        "a2 = np.zeros((2,3))\n",
        "a2"
      ],
      "execution_count": 97,
      "outputs": [
        {
          "output_type": "execute_result",
          "data": {
            "text/plain": [
              "array([[0., 0., 0.],\n",
              "       [0., 0., 0.]])"
            ]
          },
          "metadata": {},
          "execution_count": 97
        }
      ]
    },
    {
      "cell_type": "markdown",
      "metadata": {
        "id": "TnRwAsKctvau"
      },
      "source": [
        "**Ones: Similar to arrays of zero.**"
      ]
    },
    {
      "cell_type": "code",
      "metadata": {
        "colab": {
          "base_uri": "https://localhost:8080/"
        },
        "id": "KdDZAWOKtzlU",
        "outputId": "ef492ce9-2586-4145-d241-3d38fcd723e7"
      },
      "source": [
        "a3 = np.ones((3,3))\n",
        "a3"
      ],
      "execution_count": 98,
      "outputs": [
        {
          "output_type": "execute_result",
          "data": {
            "text/plain": [
              "array([[1., 1., 1.],\n",
              "       [1., 1., 1.],\n",
              "       [1., 1., 1.]])"
            ]
          },
          "metadata": {},
          "execution_count": 98
        }
      ]
    },
    {
      "cell_type": "markdown",
      "metadata": {
        "id": "NEsEyFhwt3cW"
      },
      "source": [
        "**Random 2d arrays.** Generated using **pesudo random number** generation algorithm."
      ]
    },
    {
      "cell_type": "code",
      "metadata": {
        "colab": {
          "base_uri": "https://localhost:8080/"
        },
        "id": "8apvdzkXt_d8",
        "outputId": "cb010a7e-124a-4838-d2bf-7c0ee9ce3030"
      },
      "source": [
        "a4 = np.random.random((2,2))\n",
        "a4"
      ],
      "execution_count": 99,
      "outputs": [
        {
          "output_type": "execute_result",
          "data": {
            "text/plain": [
              "array([[0.20257475, 0.1658423 ],\n",
              "       [0.39370641, 0.65057147]])"
            ]
          },
          "metadata": {},
          "execution_count": 99
        }
      ]
    },
    {
      "cell_type": "markdown",
      "metadata": {
        "id": "jecqMvt5uPUx"
      },
      "source": [
        "**Random.** Generation from **gaussian / normal** distribution.\n",
        "**Pass the size directly.**\n"
      ]
    },
    {
      "cell_type": "code",
      "metadata": {
        "id": "iPqdrsMpuaAc",
        "colab": {
          "base_uri": "https://localhost:8080/"
        },
        "outputId": "3d283203-e374-452e-99e6-a0b88e04bd05"
      },
      "source": [
        "a5 = np.random.randn(100, 100)\n",
        "mean = np.mean(a5) # np.mean(np.ravel(a5))\n",
        "std = np.std(a5)\n",
        "print(\"Mean = {}\".format(mean))\n",
        "print(\"Std = {}\".format(std))"
      ],
      "execution_count": 100,
      "outputs": [
        {
          "output_type": "stream",
          "text": [
            "Mean = 0.00925674284616618\n",
            "Std = 1.0078861333067088\n"
          ],
          "name": "stdout"
        }
      ]
    },
    {
      "cell_type": "markdown",
      "metadata": {
        "id": "L1VHTm61UNtg"
      },
      "source": [
        "2d array to 1d array"
      ]
    },
    {
      "cell_type": "code",
      "metadata": {
        "colab": {
          "base_uri": "https://localhost:8080/"
        },
        "id": "rBVLSJk1UQuG",
        "outputId": "d5e5067e-779e-4cb6-c866-da5b6fdbcaf8"
      },
      "source": [
        "x = np.array([[1, 2], [3, 4]])\n",
        "x.ravel()"
      ],
      "execution_count": 101,
      "outputs": [
        {
          "output_type": "execute_result",
          "data": {
            "text/plain": [
              "array([1, 2, 3, 4])"
            ]
          },
          "metadata": {},
          "execution_count": 101
        }
      ]
    },
    {
      "cell_type": "markdown",
      "metadata": {
        "id": "7nLAj5Tpy2za"
      },
      "source": [
        "# Integration by Riemann Sums\n",
        "\n",
        "Computational perception of integration."
      ]
    },
    {
      "cell_type": "markdown",
      "metadata": {
        "id": "pOvD8GQby9Ei"
      },
      "source": [
        "**Find the area under  y=2x between  x=0 and any positive value for  x.**"
      ]
    },
    {
      "cell_type": "markdown",
      "metadata": {
        "id": "M6A_75UnzFPT"
      },
      "source": [
        "Let \n",
        "x\n",
        "=\n",
        "a\n",
        " denote an arbitrary, positive point. Then we wish to find the area under the curve,\n",
        "\n",
        " ![](https://www.sfu.ca/math-coursenotes/Math%20158%20Course%20Notes/images/image-13.svg)\n",
        "\n",
        " First consider approximating the area by the Left Hand Rule using  \n",
        "n\n",
        "  equally spaced subintervals. That is,\n",
        "\n",
        "$$\\begin{equation*}\n",
        "\\Delta x = \\frac{a-0}{n}=\\frac{a}{n}\\text{,}\n",
        "\\end{equation*}$$\n",
        "\n",
        "and partition\n",
        "\n",
        "$$\n",
        "\\begin{equation*}\n",
        "x_1 = 0, \\ x_2 = \\frac{a}{n}, \\dots, \\ x_{n+1} = a\\text{.}\n",
        "\\end{equation*}\n",
        "$$\n",
        "\n",
        "So we see that for general  i=1, …, n:\n",
        "\n",
        "$$\\begin{equation*}\n",
        "x_i=\\frac{(i-1)a}{n}\\text{.}\n",
        "\\end{equation*}$$\n",
        "\n",
        "Therefore, our approximation  $S_L{(n)}$ is:\n",
        "\n",
        "\\begin{equation*}\n",
        "\\begin{split} S_L(n)  = \\sum_{i=1}^n f(x_i)\\Delta x \\\\  \n",
        "= \\sum_{i=1}^n f\\left(\\frac{(i-1)a}{n}\\right)\\frac{a}{n} \\\\  \n",
        "=\\frac{a}{n}\\sum_{i=1}^n 2\\left(\\frac{(i-1)a}{n}\\right) \\\\ \n",
        "= \\frac{2a^2}{n^2}\\sum_{i=1}^n (i-1)\\\\ \n",
        "= \\frac{2a^2}{n^2} \n",
        "\\left(\\frac{1}{2}n(n+1) - n\\right) \n",
        "= a^2+\\frac{a^2}{n}-2\\frac{a^2}{n}. \\end{split}\n",
        "\\end{equation*}\n",
        "\n"
      ]
    },
    {
      "cell_type": "markdown",
      "metadata": {
        "id": "HuYgT5VaT0Q7"
      },
      "source": [
        "# 2d Dimension Array Operations"
      ]
    },
    {
      "cell_type": "markdown",
      "metadata": {
        "id": "JKZk4-f4VInB"
      },
      "source": [
        "**Element wise multiplication: Scalar Mul**"
      ]
    },
    {
      "cell_type": "code",
      "metadata": {
        "colab": {
          "base_uri": "https://localhost:8080/"
        },
        "id": "5SbFWvPFSQt5",
        "outputId": "563d94b1-7e9c-4d16-e2df-bc826fccc9f9"
      },
      "source": [
        "x = np.array([[1, 2], [3, 4]])\n",
        "x * 2"
      ],
      "execution_count": 102,
      "outputs": [
        {
          "output_type": "execute_result",
          "data": {
            "text/plain": [
              "array([[2, 4],\n",
              "       [6, 8]])"
            ]
          },
          "metadata": {},
          "execution_count": 102
        }
      ]
    },
    {
      "cell_type": "markdown",
      "metadata": {
        "id": "ANIUnPnZbZ3t"
      },
      "source": [
        "2d array to 1d. Unpacking"
      ]
    },
    {
      "cell_type": "markdown",
      "metadata": {
        "id": "8vhlxi5bVla9"
      },
      "source": [
        "**Addition of two array**"
      ]
    },
    {
      "cell_type": "code",
      "metadata": {
        "colab": {
          "base_uri": "https://localhost:8080/"
        },
        "id": "YkFWOqvxVWA0",
        "outputId": "5767dc10-cdd4-4c4e-a8f5-a15bfa415e45"
      },
      "source": [
        "a = np.array([[1, 2], [3, 4]])\n",
        "b = np.array([[1, 2], [3, 4]])\n",
        "a + b"
      ],
      "execution_count": 103,
      "outputs": [
        {
          "output_type": "execute_result",
          "data": {
            "text/plain": [
              "array([[2, 4],\n",
              "       [6, 8]])"
            ]
          },
          "metadata": {},
          "execution_count": 103
        }
      ]
    },
    {
      "cell_type": "markdown",
      "metadata": {
        "id": "POzgZz22Wvz9"
      },
      "source": [
        "**Boolean indexing**"
      ]
    },
    {
      "cell_type": "code",
      "metadata": {
        "colab": {
          "base_uri": "https://localhost:8080/"
        },
        "id": "daKuPzbWVnLu",
        "outputId": "7ed9800c-267d-4c82-a828-a0bc0fbc72ee"
      },
      "source": [
        "b = np.array([[2, 4],[3, 9]])\n",
        "idx_div_by_3 = b % 3 == 0\n",
        "print(\"Bool Idx divisible by 3: {}\".format(idx_div_by_3))\n",
        "items_div_by_3 = b[idx_div_by_3]\n",
        "print(\"Items div by 3: {}\".format(items_div_by_3))\n"
      ],
      "execution_count": 104,
      "outputs": [
        {
          "output_type": "stream",
          "text": [
            "Bool Idx divisible by 3: [[False False]\n",
            " [ True  True]]\n",
            "Items div by 3: [3 9]\n"
          ],
          "name": "stdout"
        }
      ]
    },
    {
      "cell_type": "markdown",
      "metadata": {
        "id": "TVbbYTrMXw3k"
      },
      "source": [
        "# Element Indexing"
      ]
    },
    {
      "cell_type": "code",
      "metadata": {
        "id": "nPVxTHH-Xyhl"
      },
      "source": [
        "ar = np.array([[1, 2, 3], [4, 5, 6], [7, 8, 9]])"
      ],
      "execution_count": 105,
      "outputs": []
    },
    {
      "cell_type": "markdown",
      "metadata": {
        "id": "1c4mfD4nYEzo"
      },
      "source": [
        "1st row in 2d array:\n",
        "\n",
        "**Whole row:** arr[row]\n",
        "\n",
        "**General indexing:** arr[row][col]\n",
        "\n",
        "**colon (:)**  Means all item"
      ]
    },
    {
      "cell_type": "markdown",
      "metadata": {
        "id": "-eCCmiPrafY0"
      },
      "source": [
        "**Row**"
      ]
    },
    {
      "cell_type": "code",
      "metadata": {
        "colab": {
          "base_uri": "https://localhost:8080/"
        },
        "id": "xFHBpsx6bADe",
        "outputId": "13a27bff-ea75-4aec-e114-9dd8eba06450"
      },
      "source": [
        "ar"
      ],
      "execution_count": 106,
      "outputs": [
        {
          "output_type": "execute_result",
          "data": {
            "text/plain": [
              "array([[1, 2, 3],\n",
              "       [4, 5, 6],\n",
              "       [7, 8, 9]])"
            ]
          },
          "metadata": {},
          "execution_count": 106
        }
      ]
    },
    {
      "cell_type": "code",
      "metadata": {
        "colab": {
          "base_uri": "https://localhost:8080/"
        },
        "id": "DlAncbKjYIyE",
        "outputId": "8c02b37b-b2ca-42c8-a220-8f309e104fc7"
      },
      "source": [
        "# first row\n",
        "ar[0]\n",
        "\n",
        "# or\n",
        "# ar[0, :] => First row all columns => ar[first_row, : (all_columns)]"
      ],
      "execution_count": 107,
      "outputs": [
        {
          "output_type": "execute_result",
          "data": {
            "text/plain": [
              "array([1, 2, 3])"
            ]
          },
          "metadata": {},
          "execution_count": 107
        }
      ]
    },
    {
      "cell_type": "markdown",
      "metadata": {
        "id": "KN4xgfXlbPBe"
      },
      "source": [
        "**Column**"
      ]
    },
    {
      "cell_type": "code",
      "metadata": {
        "colab": {
          "base_uri": "https://localhost:8080/"
        },
        "id": "UIlj6jZCacgQ",
        "outputId": "179ac431-47d5-47fd-da7e-1d40c983f8b6"
      },
      "source": [
        "# All row of 0th column\n",
        "ar[: , 0]\n",
        "#  [all, 0th column]"
      ],
      "execution_count": 108,
      "outputs": [
        {
          "output_type": "execute_result",
          "data": {
            "text/plain": [
              "array([1, 4, 7])"
            ]
          },
          "metadata": {},
          "execution_count": 108
        }
      ]
    },
    {
      "cell_type": "code",
      "metadata": {
        "colab": {
          "base_uri": "https://localhost:8080/"
        },
        "id": "Tuo2V-k8bi-I",
        "outputId": "d4a20e99-9560-4c57-f45a-50491b23f87c"
      },
      "source": [
        "ar"
      ],
      "execution_count": 109,
      "outputs": [
        {
          "output_type": "execute_result",
          "data": {
            "text/plain": [
              "array([[1, 2, 3],\n",
              "       [4, 5, 6],\n",
              "       [7, 8, 9]])"
            ]
          },
          "metadata": {},
          "execution_count": 109
        }
      ]
    },
    {
      "cell_type": "markdown",
      "metadata": {
        "id": "cU_hpsvpb9Ne"
      },
      "source": [
        "**Sub indexing / Extraction of 2d array**\n",
        "\n",
        "ar[a:b] => a is inclusive, b is exclusive"
      ]
    },
    {
      "cell_type": "code",
      "metadata": {
        "colab": {
          "base_uri": "https://localhost:8080/"
        },
        "id": "uprDopMZbn3K",
        "outputId": "0a51de23-0e88-4491-d2e1-75385529e461"
      },
      "source": [
        "ar[0:2, 0:2] # ar[:-1, :-1]\n",
        "# [[1, 2],\n",
        "#  [4, 5]]\n",
        "\n",
        "ar[1:, 1:]\n",
        "#  [[5, 6],\n",
        "#   [8, 9]]\n",
        "\n",
        "ar[-1, 1:] # [8, 9]"
      ],
      "execution_count": 110,
      "outputs": [
        {
          "output_type": "execute_result",
          "data": {
            "text/plain": [
              "array([8, 9])"
            ]
          },
          "metadata": {},
          "execution_count": 110
        }
      ]
    },
    {
      "cell_type": "markdown",
      "metadata": {
        "id": "7DncTU1VX3RS"
      },
      "source": [
        "# Diagonal Matrix: np.diag"
      ]
    },
    {
      "cell_type": "markdown",
      "metadata": {
        "id": "ei41ayN1YA_M"
      },
      "source": [
        "**np.diag() basics**\n",
        "\n",
        "1. Define diag element\n",
        "2. Create diagonal matrix"
      ]
    },
    {
      "cell_type": "markdown",
      "metadata": {
        "id": "tb54XE3iaA_9"
      },
      "source": [
        "**Creating a diagonal matrix**"
      ]
    },
    {
      "cell_type": "code",
      "metadata": {
        "colab": {
          "base_uri": "https://localhost:8080/"
        },
        "id": "fMNVK6SuYIfv",
        "outputId": "6074f96d-ad94-4d13-86db-9b65ebe04eb2"
      },
      "source": [
        "ones = np.ones(3) # define diag element\n",
        "ones_diag_matri = np.diag(ones) # matrix with diag one\n",
        "ones_diag_matri"
      ],
      "execution_count": 111,
      "outputs": [
        {
          "output_type": "execute_result",
          "data": {
            "text/plain": [
              "array([[1., 0., 0.],\n",
              "       [0., 1., 0.],\n",
              "       [0., 0., 1.]])"
            ]
          },
          "metadata": {},
          "execution_count": 111
        }
      ]
    },
    {
      "cell_type": "markdown",
      "metadata": {
        "id": "7932dvOuaHA3"
      },
      "source": [
        "**Diagonal matrix by adding two matrices**"
      ]
    },
    {
      "cell_type": "code",
      "metadata": {
        "colab": {
          "base_uri": "https://localhost:8080/"
        },
        "id": "ip3FxMr2ZGrT",
        "outputId": "4b2f8207-19f8-4b80-b84c-611c3b3d31db"
      },
      "source": [
        "# our initial matrix\n",
        "matrix = np.zeros((3,3)) # zeros\n",
        "\n",
        "# we want to create a new matrix with diag element 2\n",
        "diag_el = 2*np.ones(3) # ones\n",
        "diag_mat = np.diag(diag_el)\n",
        "\n",
        "# mat = x + diag(2)\n",
        "complete_matrix = matrix + diag_mat\n",
        "complete_matrix"
      ],
      "execution_count": 112,
      "outputs": [
        {
          "output_type": "execute_result",
          "data": {
            "text/plain": [
              "array([[2., 0., 0.],\n",
              "       [0., 2., 0.],\n",
              "       [0., 0., 2.]])"
            ]
          },
          "metadata": {},
          "execution_count": 112
        }
      ]
    },
    {
      "cell_type": "markdown",
      "metadata": {
        "id": "yE1ehoQmaMWS"
      },
      "source": [
        "**Handling off diag elements**\n",
        "\n",
        "- To define off diag matrix, len of array must equal to element in off/on diag."
      ]
    },
    {
      "cell_type": "markdown",
      "metadata": {
        "id": "CKahRamMbjVJ"
      },
      "source": [
        "initil matrix"
      ]
    },
    {
      "cell_type": "code",
      "metadata": {
        "colab": {
          "base_uri": "https://localhost:8080/"
        },
        "id": "6CBLA4i-blJy",
        "outputId": "593ee200-c6b4-4fb6-be89-ca4f3131b0a7"
      },
      "source": [
        "x = np.zeros((4,4))\n",
        "x"
      ],
      "execution_count": 113,
      "outputs": [
        {
          "output_type": "execute_result",
          "data": {
            "text/plain": [
              "array([[0., 0., 0., 0.],\n",
              "       [0., 0., 0., 0.],\n",
              "       [0., 0., 0., 0.],\n",
              "       [0., 0., 0., 0.]])"
            ]
          },
          "metadata": {},
          "execution_count": 113
        }
      ]
    },
    {
      "cell_type": "markdown",
      "metadata": {
        "id": "7wtkHYHibobr"
      },
      "source": [
        "Diagonal element and mtrix"
      ]
    },
    {
      "cell_type": "code",
      "metadata": {
        "colab": {
          "base_uri": "https://localhost:8080/"
        },
        "id": "mFVx9eqXbsne",
        "outputId": "1fc90361-212c-4919-88c0-7b09c1ff0871"
      },
      "source": [
        "diag_el = np.ones(4)\n",
        "diag_mat = np.diag(diag_el)\n",
        "diag_mat"
      ],
      "execution_count": 114,
      "outputs": [
        {
          "output_type": "execute_result",
          "data": {
            "text/plain": [
              "array([[1., 0., 0., 0.],\n",
              "       [0., 1., 0., 0.],\n",
              "       [0., 0., 1., 0.],\n",
              "       [0., 0., 0., 1.]])"
            ]
          },
          "metadata": {},
          "execution_count": 114
        }
      ]
    },
    {
      "cell_type": "markdown",
      "metadata": {
        "id": "hGTzV3kib0LY"
      },
      "source": [
        "Elements one step right to diag"
      ]
    },
    {
      "cell_type": "code",
      "metadata": {
        "colab": {
          "base_uri": "https://localhost:8080/"
        },
        "id": "aMilBu5Nb4xO",
        "outputId": "7a9b3673-3d9b-469c-f769-25d2d86dc4ff"
      },
      "source": [
        "diag_one_step_right_el = 2*np.ones(3)\n",
        "diag_one_step_right_mat = np.diag(diag_one_step_right_el, 1)\n",
        "diag_one_step_right_mat"
      ],
      "execution_count": 115,
      "outputs": [
        {
          "output_type": "execute_result",
          "data": {
            "text/plain": [
              "array([[0., 2., 0., 0.],\n",
              "       [0., 0., 2., 0.],\n",
              "       [0., 0., 0., 2.],\n",
              "       [0., 0., 0., 0.]])"
            ]
          },
          "metadata": {},
          "execution_count": 115
        }
      ]
    },
    {
      "cell_type": "markdown",
      "metadata": {
        "id": "-qyqrOzJb-XW"
      },
      "source": [
        "Elements one step down to diag"
      ]
    },
    {
      "cell_type": "code",
      "metadata": {
        "colab": {
          "base_uri": "https://localhost:8080/"
        },
        "id": "BcTwB_BIaQn2",
        "outputId": "6d94d2f9-fad9-4692-c7ff-db019a2108d5"
      },
      "source": [
        "diag_one_step_down_el = 3 * np.ones(3)\n",
        "diag_one_step_down_mat = np.diag(diag_one_step_down_el, -1)\n",
        "diag_one_step_down_mat"
      ],
      "execution_count": 116,
      "outputs": [
        {
          "output_type": "execute_result",
          "data": {
            "text/plain": [
              "array([[0., 0., 0., 0.],\n",
              "       [3., 0., 0., 0.],\n",
              "       [0., 3., 0., 0.],\n",
              "       [0., 0., 3., 0.]])"
            ]
          },
          "metadata": {},
          "execution_count": 116
        }
      ]
    },
    {
      "cell_type": "markdown",
      "metadata": {
        "id": "9IDnYDnscHVT"
      },
      "source": [
        "Resulting matrix"
      ]
    },
    {
      "cell_type": "code",
      "metadata": {
        "colab": {
          "base_uri": "https://localhost:8080/"
        },
        "id": "RKzSZf4tcJB5",
        "outputId": "7dd33e03-4131-41af-f395-8123263a1a91"
      },
      "source": [
        "x + diag_one_step_right_mat + diag_one_step_down_mat"
      ],
      "execution_count": 117,
      "outputs": [
        {
          "output_type": "execute_result",
          "data": {
            "text/plain": [
              "array([[0., 2., 0., 0.],\n",
              "       [3., 0., 2., 0.],\n",
              "       [0., 3., 0., 2.],\n",
              "       [0., 0., 3., 0.]])"
            ]
          },
          "metadata": {},
          "execution_count": 117
        }
      ]
    },
    {
      "cell_type": "markdown",
      "metadata": {
        "id": "LTXtDFOVe0n7"
      },
      "source": [
        "# Dealing with 2D Functions"
      ]
    },
    {
      "cell_type": "markdown",
      "metadata": {
        "id": "aA2PmTmwU6Ie"
      },
      "source": [
        "**Generating points out of x and y limit: meshgrid**"
      ]
    },
    {
      "cell_type": "markdown",
      "metadata": {
        "id": "LauARaKEfRro"
      },
      "source": [
        "Given  $x\\epsilon[1, 2]$ and $y\\epsilon[2, 3] \\ni x,y \\epsilon R $\n",
        "\n",
        "\n",
        "x = [1, 2] limits on x axis\n",
        "\n",
        "y = [2, 3] limits on y axis\n",
        "\n",
        "**meshgrid**\n",
        "\n",
        "2d points on those limits:\n",
        "\n",
        "(1, 2) (2, 2)\n",
        "\n",
        "(1, 3) (2, 3)\n",
        "\n",
        "**xv is the array of 1st element on co-ord**\n",
        "\n",
        "(1, 2)\n",
        "\n",
        "(1, 2)\n",
        "\n",
        "**yv is the array of 2nd element on co-ord**\n",
        "\n",
        "(2, 2)\n",
        "\n",
        "(3, 3)\n",
        "\n"
      ]
    },
    {
      "cell_type": "code",
      "metadata": {
        "colab": {
          "base_uri": "https://localhost:8080/"
        },
        "id": "gekNAijreZ62",
        "outputId": "06b49984-bec5-4db7-bdcb-f78776654368"
      },
      "source": [
        "x = np.array([1, 2])\n",
        "y = np.array([2, 3])\n",
        "\n",
        "xv, yv = np.meshgrid(x, y)\n",
        "\n",
        "# xv =  repeat in rows untill max item length\n",
        "# yv = repeat in col max item length\n",
        "\n",
        "print(xv)\n",
        "print(\"\\n\")\n",
        "print(yv)"
      ],
      "execution_count": 118,
      "outputs": [
        {
          "output_type": "stream",
          "text": [
            "[[1 2]\n",
            " [1 2]]\n",
            "\n",
            "\n",
            "[[2 2]\n",
            " [3 3]]\n"
          ],
          "name": "stdout"
        }
      ]
    },
    {
      "cell_type": "code",
      "metadata": {
        "colab": {
          "base_uri": "https://localhost:8080/",
          "height": 287
        },
        "id": "uP94p737hmol",
        "outputId": "e5fcb287-381d-476b-c8d3-b633c9a0e3eb"
      },
      "source": [
        "x = np.linspace(0, 10, 1000)\n",
        "y = np.linspace(0, 10, 1000)\n",
        "\n",
        "xv, yv = np.meshgrid(x, y)\n",
        "\n",
        "zv = xv**2 + yv**2\n",
        "\n",
        "plt.contourf(xv, yv, zv, levels=30)\n",
        "plt.colorbar()"
      ],
      "execution_count": 119,
      "outputs": [
        {
          "output_type": "execute_result",
          "data": {
            "text/plain": [
              "<matplotlib.colorbar.Colorbar at 0x7fe106b84fd0>"
            ]
          },
          "metadata": {},
          "execution_count": 119
        },
        {
          "output_type": "display_data",
          "data": {
            "image/png": "[encoded data removed]",
            "text/plain": [
              "<Figure size 432x288 with 2 Axes>"
            ]
          },
          "metadata": {
            "needs_background": "light"
          }
        }
      ]
    },
    {
      "cell_type": "markdown",
      "metadata": {
        "id": "gLYW3e69Nt1x"
      },
      "source": [
        "# 3d points from the limits of x, y and z=f(x, y)"
      ]
    },
    {
      "cell_type": "markdown",
      "metadata": {
        "id": "pHj9G0llP2ui"
      },
      "source": [
        "**swapaxes**"
      ]
    },
    {
      "cell_type": "code",
      "metadata": {
        "colab": {
          "base_uri": "https://localhost:8080/"
        },
        "id": "fz9JB2QsP5wD",
        "outputId": "ac436275-d210-43fc-d022-08a5547d3f40"
      },
      "source": [
        "x = np.array([[1,2], [3, 4]])\n",
        "x.swapaxes(1, 0)"
      ],
      "execution_count": 120,
      "outputs": [
        {
          "output_type": "execute_result",
          "data": {
            "text/plain": [
              "array([[1, 3],\n",
              "       [2, 4]])"
            ]
          },
          "metadata": {},
          "execution_count": 120
        }
      ]
    },
    {
      "cell_type": "markdown",
      "metadata": {
        "id": "xbKnxql4RD_L"
      },
      "source": [
        " **Example:**\n",
        "\n",
        "Given: $f(x,y) = \\ x+y $ such that, $\\ x\\epsilon[1, 3], \\ y\\epsilon[1,2] $. Find 3d points in $f(x,y)$"
      ]
    },
    {
      "cell_type": "code",
      "metadata": {
        "colab": {
          "base_uri": "https://localhost:8080/"
        },
        "id": "1OrNiHnNNtNR",
        "outputId": "7b4da914-d107-41cc-c4d9-fdd96dfa7b01"
      },
      "source": [
        "def f(x, y):\n",
        "  return x + y\n",
        "\n",
        "# x and y limimts\n",
        "x = np.array([1, 2, 3])\n",
        "y = np.array([1, 2, 3])\n",
        "\n",
        "# points on 2d co-ordinates system\n",
        "xv, yv = np.meshgrid(x, y)\n",
        "\n",
        "# points on z axes\n",
        "zv = f(xv, yv)\n",
        "\n",
        "# points on 3d co-ordinates system: [x, y, f(x,y)=x+y]\n",
        "three_d_poits = np.swapaxes(np.array([xv, yv, zv]), 0, -1)\n",
        "three_d_poits"
      ],
      "execution_count": 121,
      "outputs": [
        {
          "output_type": "execute_result",
          "data": {
            "text/plain": [
              "array([[[1, 1, 2],\n",
              "        [1, 2, 3],\n",
              "        [1, 3, 4]],\n",
              "\n",
              "       [[2, 1, 3],\n",
              "        [2, 2, 4],\n",
              "        [2, 3, 5]],\n",
              "\n",
              "       [[3, 1, 4],\n",
              "        [3, 2, 5],\n",
              "        [3, 3, 6]]])"
            ]
          },
          "metadata": {},
          "execution_count": 121
        }
      ]
    },
    {
      "cell_type": "markdown",
      "metadata": {
        "id": "6B-vDjsiT9wJ"
      },
      "source": [
        "**Swapping again gives, [[x],[y], [z]]**"
      ]
    },
    {
      "cell_type": "code",
      "metadata": {
        "colab": {
          "base_uri": "https://localhost:8080/"
        },
        "id": "7s0jG_Y0UNFs",
        "outputId": "3d2ae440-f7d6-4f49-c72d-47221268b3af"
      },
      "source": [
        "three_d_poits.swapaxes(0, -1)"
      ],
      "execution_count": 122,
      "outputs": [
        {
          "output_type": "execute_result",
          "data": {
            "text/plain": [
              "array([[[1, 2, 3],\n",
              "        [1, 2, 3],\n",
              "        [1, 2, 3]],\n",
              "\n",
              "       [[1, 1, 1],\n",
              "        [2, 2, 2],\n",
              "        [3, 3, 3]],\n",
              "\n",
              "       [[2, 3, 4],\n",
              "        [3, 4, 5],\n",
              "        [4, 5, 6]]])"
            ]
          },
          "metadata": {},
          "execution_count": 122
        }
      ]
    },
    {
      "cell_type": "markdown",
      "metadata": {
        "id": "4ECOytbIcl2J"
      },
      "source": [
        "# Basic Linear Algebra"
      ]
    },
    {
      "cell_type": "markdown",
      "metadata": {
        "id": "8Kb4iWA-cs0U"
      },
      "source": [
        "**Matrix Operation**"
      ]
    },
    {
      "cell_type": "markdown",
      "metadata": {
        "id": "_dqS1Lc-c5Md"
      },
      "source": [
        "2d array can be thought of as a matrix"
      ]
    },
    {
      "cell_type": "code",
      "metadata": {
        "id": "Rh1UwRnQckag"
      },
      "source": [
        "mat = np.array([[1, 2, 3], [4, 5, 6], [7, 8, 9]])\n",
        "vect1 = np.array([4, 5, 6])\n",
        "vect2 = np.array([6, 2, 3])"
      ],
      "execution_count": 123,
      "outputs": []
    },
    {
      "cell_type": "markdown",
      "metadata": {
        "id": "azGYeF6mdYlF"
      },
      "source": [
        "**Matrix mul with vector**\n",
        "mat@vector\n",
        "\n",
        "$$mat = \\begin{bmatrix}\n",
        "1 & 2 & 3\\\\\n",
        "4 & 5 & 6 \\\\\n",
        "7 & 8 & 9\n",
        "\\end{bmatrix}$$\n",
        "\n",
        "$$\\vec{vect1} = \\begin{bmatrix}\n",
        "4\\\\\n",
        "5\\\\\n",
        "6\n",
        "\\end{bmatrix}$$\n",
        "\n",
        "$$mat @ vect1 = mat \\times \\vec{vect1} \\\\\n",
        " =\\begin{bmatrix}\n",
        "1 & 2 & 3\\\\\n",
        "4 & 5 & 6 \\\\\n",
        "7 & 8 & 9\n",
        "\\end{bmatrix}\n",
        "* \n",
        "\\begin{bmatrix}\n",
        "4\\\\\n",
        "5\\\\\n",
        "6\n",
        "\\end{bmatrix}\n",
        "$$\n",
        "\n",
        "$$\n",
        "= \n",
        "\\begin{bmatrix}\n",
        "4 + 10 + 18\\\\\n",
        "16 + 25 + 36\\\\\n",
        "28 + 40 + 54\n",
        "\\end{bmatrix}\n",
        "$$\n",
        "\n",
        "$$\n",
        "= \n",
        "\\begin{bmatrix}\n",
        "32\\\\\n",
        "77\\\\\n",
        "122\n",
        "\\end{bmatrix}\n",
        "$$"
      ]
    },
    {
      "cell_type": "code",
      "metadata": {
        "colab": {
          "base_uri": "https://localhost:8080/"
        },
        "id": "_A2wyANTdYAf",
        "outputId": "ea041a90-66ee-47a9-b05d-06d910a497be"
      },
      "source": [
        "mat@vect1"
      ],
      "execution_count": 124,
      "outputs": [
        {
          "output_type": "execute_result",
          "data": {
            "text/plain": [
              "array([ 32,  77, 122])"
            ]
          },
          "metadata": {},
          "execution_count": 124
        }
      ]
    },
    {
      "cell_type": "markdown",
      "metadata": {
        "id": "y_LliDeCgLdl"
      },
      "source": [
        "**Transpose**"
      ]
    },
    {
      "cell_type": "code",
      "metadata": {
        "colab": {
          "base_uri": "https://localhost:8080/"
        },
        "id": "l5MLgezUgNyF",
        "outputId": "7bdf9762-b637-40f2-dbe5-97642f5bd5dc"
      },
      "source": [
        "mat"
      ],
      "execution_count": 125,
      "outputs": [
        {
          "output_type": "execute_result",
          "data": {
            "text/plain": [
              "array([[1, 2, 3],\n",
              "       [4, 5, 6],\n",
              "       [7, 8, 9]])"
            ]
          },
          "metadata": {},
          "execution_count": 125
        }
      ]
    },
    {
      "cell_type": "code",
      "metadata": {
        "colab": {
          "base_uri": "https://localhost:8080/"
        },
        "id": "euRYhlelgRFh",
        "outputId": "3bb01559-8e45-48a0-98f0-778b511b5e55"
      },
      "source": [
        "mat.T"
      ],
      "execution_count": 126,
      "outputs": [
        {
          "output_type": "execute_result",
          "data": {
            "text/plain": [
              "array([[1, 4, 7],\n",
              "       [2, 5, 8],\n",
              "       [3, 6, 9]])"
            ]
          },
          "metadata": {},
          "execution_count": 126
        }
      ]
    },
    {
      "cell_type": "markdown",
      "metadata": {
        "id": "-OtQI1-wgda0"
      },
      "source": [
        "**Dot Product of vectors**"
      ]
    },
    {
      "cell_type": "code",
      "metadata": {
        "colab": {
          "base_uri": "https://localhost:8080/"
        },
        "id": "i98IyiiKghT5",
        "outputId": "e0826327-0999-4c2a-8665-02f5d72ba258"
      },
      "source": [
        "vect1"
      ],
      "execution_count": 127,
      "outputs": [
        {
          "output_type": "execute_result",
          "data": {
            "text/plain": [
              "array([4, 5, 6])"
            ]
          },
          "metadata": {},
          "execution_count": 127
        }
      ]
    },
    {
      "cell_type": "code",
      "metadata": {
        "colab": {
          "base_uri": "https://localhost:8080/"
        },
        "id": "9BdSFJgKgkbl",
        "outputId": "b6c4b0cb-8d6b-42a4-88d7-fc531660978f"
      },
      "source": [
        "vect2"
      ],
      "execution_count": 128,
      "outputs": [
        {
          "output_type": "execute_result",
          "data": {
            "text/plain": [
              "array([6, 2, 3])"
            ]
          },
          "metadata": {},
          "execution_count": 128
        }
      ]
    },
    {
      "cell_type": "code",
      "metadata": {
        "colab": {
          "base_uri": "https://localhost:8080/"
        },
        "id": "uy137426gnlQ",
        "outputId": "44283cd3-6483-4256-c5c5-361b4fbb6271"
      },
      "source": [
        "np.dot(vect1, vect2)"
      ],
      "execution_count": 129,
      "outputs": [
        {
          "output_type": "execute_result",
          "data": {
            "text/plain": [
              "52"
            ]
          },
          "metadata": {},
          "execution_count": 129
        }
      ]
    },
    {
      "cell_type": "markdown",
      "metadata": {
        "id": "Om9L_qHwg4UH"
      },
      "source": [
        "**Cross Product of vector**\n",
        "\n",
        "$$\\vec{vect1}\\times\\vec{vect2} = \\begin{vmatrix}\n",
        "i & j & k\\\\\n",
        "4 & 5 & 6 \\\\\n",
        "6 & 2 & 3\n",
        "\\end{vmatrix} $$\n",
        "\n",
        "$$= \\vec{i} \n",
        "\\begin{vmatrix}\n",
        "5 & 6 \\\\\n",
        "2 & 3\n",
        "\\end{vmatrix}\n",
        "-\n",
        "\\vec{j} \n",
        "\\begin{vmatrix}\n",
        "4 & 6 \\\\\n",
        "6 & 3\n",
        "\\end{vmatrix}\n",
        "+\n",
        "\\vec{k} \n",
        "\\begin{vmatrix}\n",
        "4 & 5 \\\\\n",
        "6 & 2\n",
        "\\end{vmatrix} $$\n",
        "$$=3\\vec{i}+24\\vec{j}-22\\vec{k}$$"
      ]
    },
    {
      "cell_type": "code",
      "metadata": {
        "colab": {
          "base_uri": "https://localhost:8080/"
        },
        "id": "puygo95Qg3A1",
        "outputId": "b8045670-fa3e-4d40-e3f3-693079eb7b50"
      },
      "source": [
        "np.cross(vect1, vect2)"
      ],
      "execution_count": 130,
      "outputs": [
        {
          "output_type": "execute_result",
          "data": {
            "text/plain": [
              "array([  3,  24, -22])"
            ]
          },
          "metadata": {},
          "execution_count": 130
        }
      ]
    },
    {
      "cell_type": "markdown",
      "metadata": {
        "id": "uJv-4NWGl-Ys"
      },
      "source": [
        "**System of Equation**\n",
        "\n",
        "$\n",
        "3x+2y+z= 4 \\\\\n",
        "5x-5y+4z=3 \\\\\n",
        "6x+z=0  \n",
        "$\n"
      ]
    },
    {
      "cell_type": "code",
      "metadata": {
        "colab": {
          "base_uri": "https://localhost:8080/"
        },
        "id": "_TrwivNrmesY",
        "outputId": "c1e67cd3-14bf-4dd6-b1d9-d151fbe15ebd"
      },
      "source": [
        "A = np.array([[3, 2, 1], [5, -5, 4], [6, 0, 1]])\n",
        "A"
      ],
      "execution_count": 131,
      "outputs": [
        {
          "output_type": "execute_result",
          "data": {
            "text/plain": [
              "array([[ 3,  2,  1],\n",
              "       [ 5, -5,  4],\n",
              "       [ 6,  0,  1]])"
            ]
          },
          "metadata": {},
          "execution_count": 131
        }
      ]
    },
    {
      "cell_type": "code",
      "metadata": {
        "colab": {
          "base_uri": "https://localhost:8080/"
        },
        "id": "hx_Qp_pJp9eP",
        "outputId": "c66adc6b-70f2-4c67-f882-1836a034c87a"
      },
      "source": [
        "C = np.array([4, 3, 0])\n",
        "C"
      ],
      "execution_count": 132,
      "outputs": [
        {
          "output_type": "execute_result",
          "data": {
            "text/plain": [
              "array([4, 3, 0])"
            ]
          },
          "metadata": {},
          "execution_count": 132
        }
      ]
    },
    {
      "cell_type": "code",
      "metadata": {
        "colab": {
          "base_uri": "https://localhost:8080/"
        },
        "id": "7MnReCahqEl5",
        "outputId": "de906271-a699-4efc-d70e-7fde634c32b8"
      },
      "source": [
        "B = np.linalg.solve(A, C)\n",
        "B"
      ],
      "execution_count": 133,
      "outputs": [
        {
          "output_type": "execute_result",
          "data": {
            "text/plain": [
              "array([-0.49056604,  1.26415094,  2.94339623])"
            ]
          },
          "metadata": {},
          "execution_count": 133
        }
      ]
    },
    {
      "cell_type": "markdown",
      "metadata": {
        "id": "vwEZUnQMqiuJ"
      },
      "source": [
        "**Eigen Values of Matrix**\n",
        "\n",
        "[Geometry of Eigen Space](https://www.youtube.com/watch?v=RslHy9duJ1c&ab_channel=PurpleLineChannel)\n",
        "\n",
        "$$A = \\begin{bmatrix}\n",
        "-6 & 3\\\\\n",
        "4 & 5\\\\\n",
        "\\end{bmatrix}$$\n",
        "\n",
        "To find the eigen values;\n",
        "\n",
        "$$|A- \\lambda I| = 0$$\n",
        "\n",
        "$$\n",
        "\\begin{vmatrix}\n",
        "-6-\\lambda & 3 \\\\\n",
        "4 & 5-\\lambda\n",
        "\\end{vmatrix} = 0\n",
        "$$\n",
        "\n",
        "$$\\lambda^2+\\lambda-42=0$$\n",
        "\n",
        "On solving, We get eigen values\n",
        "$$\n",
        "\\lambda_1=-7 \\\\\n",
        "\\lambda_2=6 \n",
        "$$\n",
        "\n",
        "To find the eigev vectors we have.\n",
        "\n",
        "$$A \\vec{v_i}=\\lambda_i \\vec{v_i} \\ where \\ i=1,2 $$\n",
        "\n",
        "For $i=2$\n",
        "$$A \\vec{v_2}=\\lambda_2 \\vec{v_2}$$\n",
        "$$\n",
        "\\begin{bmatrix}\n",
        "-6 & 3 \\\\\n",
        "4 & 5 \n",
        "\\end{bmatrix} \n",
        "*\n",
        "\\begin{bmatrix}\n",
        "p \\\\\n",
        "q\n",
        "\\end{bmatrix}\n",
        "= 6 *\n",
        "\\begin{bmatrix}\n",
        "p \\\\\n",
        "q \n",
        "\\end{bmatrix}\n",
        "$$\n",
        "\n",
        "$$\n",
        "\\begin{bmatrix}\n",
        "-p+3q \\\\\n",
        "4p+5q\n",
        "\\end{bmatrix}\n",
        "=\n",
        "\\begin{bmatrix}\n",
        "6p  \\\\\n",
        "6q\n",
        "\\end{bmatrix}\n",
        "$$\n",
        "\n",
        "Equating corr element:\n",
        "$$\n",
        "-6p+3q=6p\\\\\n",
        "-12p+3q=0 \\ -----(i)\n",
        "\\\\\n",
        "\\\\\n",
        "4p+5q=6q \\\\\n",
        "4p-q=0 \\ ----(ii)\n",
        "$$\n",
        "\n",
        "Solving $(i) and (ii)$:\n",
        "\n",
        "$$\n",
        "v_2\n",
        "=\n",
        "\\begin{bmatrix}\n",
        "p \\\\\n",
        "q\n",
        "\\end{bmatrix}\n",
        "=\n",
        "\\begin{bmatrix}\n",
        "0.31622777 \\\\\n",
        "-0.9701425\n",
        "\\end{bmatrix}\n",
        "$$\n",
        "\n",
        "Similarly\n",
        "$$\n",
        "v_1\n",
        "=\n",
        "\\begin{bmatrix}\n",
        "-0.9486833 \\\\ \n",
        "-0.24253563\n",
        "\\end{bmatrix}\n",
        "$$"
      ]
    },
    {
      "cell_type": "code",
      "metadata": {
        "colab": {
          "base_uri": "https://localhost:8080/"
        },
        "id": "EZTJkH27qk04",
        "outputId": "368305b6-f7a7-475d-d797-ab13c46649cd"
      },
      "source": [
        "A = np.array([[-6, 3], [4, 5]])\n",
        "A"
      ],
      "execution_count": 134,
      "outputs": [
        {
          "output_type": "execute_result",
          "data": {
            "text/plain": [
              "array([[-6,  3],\n",
              "       [ 4,  5]])"
            ]
          },
          "metadata": {},
          "execution_count": 134
        }
      ]
    },
    {
      "cell_type": "code",
      "metadata": {
        "colab": {
          "base_uri": "https://localhost:8080/"
        },
        "id": "QsuE1W51uiPw",
        "outputId": "4017ecd6-d4f8-470b-9895-9bd3a9cd05fb"
      },
      "source": [
        "lda, v = np.linalg.eig(A)\n",
        "print(\"\\nEigen Values:\")\n",
        "print(lda)\n",
        "print(\"\\nEigen Vectors:\")\n",
        "print(v)"
      ],
      "execution_count": 135,
      "outputs": [
        {
          "output_type": "stream",
          "text": [
            "\n",
            "Eigen Values:\n",
            "[-7.  6.]\n",
            "\n",
            "Eigen Vectors:\n",
            "[[-0.9486833  -0.24253563]\n",
            " [ 0.31622777 -0.9701425 ]]\n"
          ],
          "name": "stdout"
        }
      ]
    },
    {
      "cell_type": "markdown",
      "metadata": {
        "id": "CctrPgABPXSH"
      },
      "source": [
        "Checking a result from eigen"
      ]
    },
    {
      "cell_type": "code",
      "metadata": {
        "id": "UAFa141UPZuK",
        "colab": {
          "base_uri": "https://localhost:8080/"
        },
        "outputId": "f0a4757f-e2b1-48f3-ca9a-6316f3ec6de2"
      },
      "source": [
        "A@v[:, 1]"
      ],
      "execution_count": 136,
      "outputs": [
        {
          "output_type": "execute_result",
          "data": {
            "text/plain": [
              "array([-1.45521375, -5.820855  ])"
            ]
          },
          "metadata": {},
          "execution_count": 136
        }
      ]
    },
    {
      "cell_type": "code",
      "metadata": {
        "colab": {
          "base_uri": "https://localhost:8080/"
        },
        "id": "CNSZjHKsEhcb",
        "outputId": "a052717e-2122-4ba1-8830-85d13fa3feed"
      },
      "source": [
        "lda[1]*v[:, 1]"
      ],
      "execution_count": 137,
      "outputs": [
        {
          "output_type": "execute_result",
          "data": {
            "text/plain": [
              "array([-1.45521375, -5.820855  ])"
            ]
          },
          "metadata": {},
          "execution_count": 137
        }
      ]
    },
    {
      "cell_type": "markdown",
      "metadata": {
        "id": "0Ti4dyCuDrv4"
      },
      "source": [
        "# Examples\n",
        "\n",
        "Interactive Plotter: https://c3d.libretexts.org/CalcPlot3D/index.html"
      ]
    },
    {
      "cell_type": "markdown",
      "metadata": {
        "id": "sl5BY0rYDuQl"
      },
      "source": [
        "Let $f(x,y) = e^{-(x^2+y^2)} \\cdot \\sin(x)$ for $-2 \\leq x \\leq 2$ and $-2 \\leq y \\leq 2$\n",
        "\n",
        "1. Make a contour plot of $f$\n",
        "\n",
        "2. Find the volume $|f(x,y)|$ in the specified $x$ and $y$ range\n",
        "\n",
        "3. Find the volume $|f(x,y)|$ only in the region where $\\sqrt{x^2+y^2}>0.5$"
      ]
    },
    {
      "cell_type": "code",
      "metadata": {
        "colab": {
          "base_uri": "https://localhost:8080/",
          "height": 323
        },
        "id": "JEjHsXJkDq4y",
        "outputId": "19f23884-435b-43f6-8fa7-6d18bd737c03"
      },
      "source": [
        "# 1\n",
        "def f(x, y):\n",
        "  y = np.exp(-(x**2 + y**2)) * np.sin(x)\n",
        "  return y\n",
        "\n",
        "\n",
        "x = np.linspace(-2, 2, 5000)\n",
        "y = np.linspace(-2, 2, 5000)\n",
        "\n",
        "xx, yy = np.meshgrid(x, y)\n",
        "\n",
        "zz = f(xx, yy)\n",
        "\n",
        "plt.contourf(xx, yy, zz, labels=30)\n",
        "plt.colorbar()"
      ],
      "execution_count": 138,
      "outputs": [
        {
          "output_type": "stream",
          "text": [
            "/usr/local/lib/python3.7/dist-packages/ipykernel_launcher.py:14: UserWarning: The following kwargs were not used by contour: 'labels'\n",
            "  \n"
          ],
          "name": "stderr"
        },
        {
          "output_type": "execute_result",
          "data": {
            "text/plain": [
              "<matplotlib.colorbar.Colorbar at 0x7fe106a741d0>"
            ]
          },
          "metadata": {},
          "execution_count": 138
        },
        {
          "output_type": "display_data",
          "data": {
            "image/png": "[encoded data removed]",
            "text/plain": [
              "<Figure size 432x288 with 2 Axes>"
            ]
          },
          "metadata": {
            "needs_background": "light"
          }
        }
      ]
    },
    {
      "cell_type": "markdown",
      "metadata": {
        "id": "erhL4xKIsioS"
      },
      "source": [
        "Looking at the curve, left half portion is directed towards -z and other half towards +z. Eventually leading integral to 0. So, better to procede with absolute values of the f(x, y)."
      ]
    },
    {
      "cell_type": "code",
      "metadata": {
        "colab": {
          "base_uri": "https://localhost:8080/"
        },
        "id": "8v0bcvZq2UA8",
        "outputId": "5d2993ef-1086-4457-b0ca-c39f63c452d9"
      },
      "source": [
        "# 2\n",
        "# sum(absolute val of z) * finite_diference_x * finite_difference_y\n",
        "np.sum(np.abs(zz.ravel())) * np.diff(x)[0] * np.diff(y)[0]"
      ],
      "execution_count": 139,
      "outputs": [
        {
          "output_type": "execute_result",
          "data": {
            "text/plain": [
              "1.4860404808439307"
            ]
          },
          "metadata": {},
          "execution_count": 139
        }
      ]
    },
    {
      "cell_type": "code",
      "metadata": {
        "colab": {
          "base_uri": "https://localhost:8080/"
        },
        "id": "d00bVGu_RLHx",
        "outputId": "54a992b5-12ad-4fa0-b41d-60f75ee8f403"
      },
      "source": [
        "# 3\n",
        "zz_sub = zz[xx **2+yy**2>0.25]\n",
        "np.sum(np.abs(zz_sub.ravel())) * np.diff(x)[0] * np.diff(y)[0]"
      ],
      "execution_count": 140,
      "outputs": [
        {
          "output_type": "execute_result",
          "data": {
            "text/plain": [
              "1.344590488814868"
            ]
          },
          "metadata": {},
          "execution_count": 140
        }
      ]
    },
    {
      "cell_type": "code",
      "metadata": {
        "id": "6nSEPusa5BPm"
      },
      "source": [
        "# Extra: Plot integration curve\n",
        "int_z = np.cumsum(np.abs(zz.ravel())) * np.diff(x)[0] * np.diff(y)[0]\n",
        "# plt.plot(tv[0], int_z[0])"
      ],
      "execution_count": 141,
      "outputs": []
    },
    {
      "cell_type": "markdown",
      "metadata": {
        "id": "Zcl2uNerSxzq"
      },
      "source": [
        "# Question 3\n"
      ]
    },
    {
      "cell_type": "markdown",
      "metadata": {
        "id": "VUD2wmEXSz7L"
      },
      "source": [
        "After examining a circuit full of resistors, you find that the voltage at 4 specified points is given by\n",
        "\n",
        "$ 3V_1 + 2V_2 + 3V_3 + 10V_4 = 4$\n",
        "\n",
        "$ 2V_1 - 2V_2 + 5V_3 + 8V_4 = 1$\n",
        "\n",
        "$ 3V_1 + 3V_2 + 4V_3 + 9V_4 = 3$\n",
        "\n",
        "$ 3V_1 + 4V_2 - 3V_3 - 7V_4 = 2$\n",
        "\n",
        "Find all the voltages"
      ]
    },
    {
      "cell_type": "code",
      "metadata": {
        "colab": {
          "base_uri": "https://localhost:8080/"
        },
        "id": "fYrJnpk-S7F0",
        "outputId": "c81ced0d-5ba5-469f-ddb4-a87b7302a68e"
      },
      "source": [
        "X = np.array([[3, 2, 3, 10], [2, -2, 5, 8], [3, 3, 4, 9], [3, 4, -3, -7]])\n",
        "Y = np.array([4, 1, 3, 2])\n",
        "\n",
        "v = np.linalg.solve(X, Y)\n",
        "v"
      ],
      "execution_count": 142,
      "outputs": [
        {
          "output_type": "execute_result",
          "data": {
            "text/plain": [
              "array([ 0.78378378,  0.03603604, -0.67567568,  0.36036036])"
            ]
          },
          "metadata": {},
          "execution_count": 142
        }
      ]
    },
    {
      "cell_type": "markdown",
      "metadata": {
        "id": "K83zA2R-ozKF"
      },
      "source": [
        "# Question 3\n",
        "\n",
        "An electric field is given by $\\vec{E}(z,t) = E_0 \\cos (z-t) \\hat{x} + 2E_0 \\cos(z-t+\\pi/2) \\hat{y}$.\n",
        "\n",
        "1. Find the magnetic field for all $z \\in [0,4\\pi]$ and $t \\in [0,10]$ using $c\\vec{B}(z,t) = \\hat{z} \\times \\vec{E}(z,t)$ where c is spd of light.\n",
        "2. Compute the Poynting vector $\\vec{S} = \\vec{E} \\times \\vec{B}$ for all $z$ and $t$"
      ]
    },
    {
      "cell_type": "code",
      "metadata": {
        "id": "b7U8RXsVTVls"
      },
      "source": [
        "# limits of z,v\n",
        "z = np.linspace(0, 4*np.pi, 5000)\n",
        "t = np.linspace(0, 10, 5000)\n",
        "\n",
        "# Actual 2d points: t(x-axis)\n",
        "tv, zv = np.meshgrid(t, z)\n",
        "\n",
        "# E/E0\n",
        "Ex=np.cos(zv-tv)\n",
        "Ey=2*np.cos(zv-tv+np.pi/2)\n",
        "Ez = 0*zv"
      ],
      "execution_count": 143,
      "outputs": []
    },
    {
      "cell_type": "markdown",
      "metadata": {
        "id": "2wx8p_4Oq2FZ"
      },
      "source": [
        "$E_x$ as function of t at z=0"
      ]
    },
    {
      "cell_type": "markdown",
      "metadata": {
        "id": "f8_pcFCmENRL"
      },
      "source": [
        "$$\n",
        "t = \\begin{bmatrix}\n",
        "0 & 1 & 2\n",
        "\\end{bmatrix}\n",
        "$$\n",
        "\n",
        "\n",
        "$$\n",
        "z = \\begin{bmatrix}\n",
        "0 & \\pi & 2\\pi\n",
        "\\end{bmatrix}\n",
        "$$\n",
        "\n",
        "$$\n",
        "P(t,z)  \\ = \\ meshgrid(t,z)\n",
        "$$\n",
        "\n",
        "$$\n",
        "\\begin{bmatrix}\n",
        "0, 0  & 1, 0 & 2, 0 \\\\\n",
        "0, \\pi & 1, \\pi & 2, \\pi  \\\\\n",
        "0, 2\\pi & 1, 2\\pi & 2, 2\\pi  \\\\\n",
        "\\end{bmatrix}\n",
        "$$\n",
        "\n",
        "Thus $P(t, 0)$ = 1st row\n",
        "\n",
        "Thus $P(0, z)$ = 1st column "
      ]
    },
    {
      "cell_type": "code",
      "metadata": {
        "colab": {
          "base_uri": "https://localhost:8080/",
          "height": 283
        },
        "id": "1ZL65MGPrGQS",
        "outputId": "fe99362c-161b-4af1-be29-8be6ec7f7e0d"
      },
      "source": [
        "# t repeated in rows: []\n",
        "plt.plot(t, Ex[0])"
      ],
      "execution_count": 144,
      "outputs": [
        {
          "output_type": "execute_result",
          "data": {
            "text/plain": [
              "[<matplotlib.lines.Line2D at 0x7fe106a09f10>]"
            ]
          },
          "metadata": {},
          "execution_count": 144
        },
        {
          "output_type": "display_data",
          "data": {
            "image/png": "[encoded data removed]",
            "text/plain": [
              "<Figure size 432x288 with 1 Axes>"
            ]
          },
          "metadata": {
            "needs_background": "light"
          }
        }
      ]
    },
    {
      "cell_type": "markdown",
      "metadata": {
        "id": "4nxdw3vLrzi9"
      },
      "source": [
        "$E_x$ as function of z at t=0"
      ]
    },
    {
      "cell_type": "code",
      "metadata": {
        "colab": {
          "base_uri": "https://localhost:8080/",
          "height": 283
        },
        "id": "_O_qMrx6r7Xy",
        "outputId": "a5661f87-e52b-4eed-feda-f01995a93236"
      },
      "source": [
        "plt.plot(t, Ex[:, 0])"
      ],
      "execution_count": 145,
      "outputs": [
        {
          "output_type": "execute_result",
          "data": {
            "text/plain": [
              "[<matplotlib.lines.Line2D at 0x7fe10697cb50>]"
            ]
          },
          "metadata": {},
          "execution_count": 145
        },
        {
          "output_type": "display_data",
          "data": {
            "image/png": "[encoded data removed]",
            "text/plain": [
              "<Figure size 432x288 with 1 Axes>"
            ]
          },
          "metadata": {
            "needs_background": "light"
          }
        }
      ]
    },
    {
      "cell_type": "code",
      "metadata": {
        "id": "gQOT40JBKO_W"
      },
      "source": [
        "# E\n",
        "E = np.array([Ex, Ey, Ez]) # array of [[x][y][z]]\n",
        "E = np.swapaxes(E, 0, -1) # array of [(Ex1, Ey1, Ez1), (Ex2, Ey2, Ez2)]"
      ],
      "execution_count": 146,
      "outputs": []
    },
    {
      "cell_type": "markdown",
      "metadata": {
        "id": "9FgZjBOUUoOM"
      },
      "source": [
        "$B=\\vec{z} * \\vec{E} $"
      ]
    },
    {
      "cell_type": "code",
      "metadata": {
        "id": "xjZoZFblMWZg"
      },
      "source": [
        "B = np.cross(np.array([0,0, 1]), E)"
      ],
      "execution_count": 147,
      "outputs": []
    },
    {
      "cell_type": "markdown",
      "metadata": {
        "id": "CMCbB_gOTT6i"
      },
      "source": [
        "**Bx, By, Bz**"
      ]
    },
    {
      "cell_type": "code",
      "metadata": {
        "id": "mpom43poTTh3"
      },
      "source": [
        "# [[Bx1, By1, Bz1], [Bx2, By2, Bz2]] to [[Bx], [By], [Bz]]\n",
        "Bx, By, Bz = np.swapaxes(B, 0, -1)"
      ],
      "execution_count": 148,
      "outputs": []
    },
    {
      "cell_type": "markdown",
      "metadata": {
        "id": "aEnSmV0SW-uQ"
      },
      "source": [
        "**Plot**"
      ]
    },
    {
      "cell_type": "code",
      "metadata": {
        "colab": {
          "base_uri": "https://localhost:8080/",
          "height": 283
        },
        "id": "sAERsUtUW9JY",
        "outputId": "1d878008-8141-4fe3-9829-89b9fd031380"
      },
      "source": [
        "plt.plot(t, Ey[0])\n",
        "plt.plot(t, Bx[0])"
      ],
      "execution_count": 149,
      "outputs": [
        {
          "output_type": "execute_result",
          "data": {
            "text/plain": [
              "[<matplotlib.lines.Line2D at 0x7fe106b56bd0>]"
            ]
          },
          "metadata": {},
          "execution_count": 149
        },
        {
          "output_type": "display_data",
          "data": {
            "image/png": "[encoded data removed]",
            "text/plain": [
              "<Figure size 432x288 with 1 Axes>"
            ]
          },
          "metadata": {
            "needs_background": "light"
          }
        }
      ]
    },
    {
      "cell_type": "markdown",
      "metadata": {
        "id": "TQwAbzmiVXaP"
      },
      "source": [
        "**Finding the poynting vector**\n",
        "\n",
        "$\\vec{S}=\\vec{E}*\\vec{B}$\n",
        "\n",
        "Note that: For 3d vector\n",
        "\n",
        "$\\vec{E}*\\vec{E}=\n",
        "\\begin{vmatrix}\n",
        "\\vec{i} & \\vec{j} & \\vec{k} \\\\\n",
        "E_i & E_j & E_z \\\\\n",
        "B_i & B_j & B_z \\\\\n",
        "\\end{vmatrix}\n",
        "$\n",
        "\n",
        "So we need to swap axes of E, B needs to be in 3d point form."
      ]
    },
    {
      "cell_type": "code",
      "metadata": {
        "id": "1VypRQeKWlzD"
      },
      "source": [
        "# print(E.shape, B.shape)\n",
        "S = np.cross(E, B)\n",
        "S = np.swapaxes(S, 0, -1)\n",
        "Sx, Sy, Sz = S"
      ],
      "execution_count": 150,
      "outputs": []
    },
    {
      "cell_type": "code",
      "metadata": {
        "colab": {
          "base_uri": "https://localhost:8080/",
          "height": 283
        },
        "id": "0Q0aCI9zfY0v",
        "outputId": "ccf22b7f-5137-4015-e47e-bb0e2f320c57"
      },
      "source": [
        "plt.plot(Sz[0])"
      ],
      "execution_count": 151,
      "outputs": [
        {
          "output_type": "execute_result",
          "data": {
            "text/plain": [
              "[<matplotlib.lines.Line2D at 0x7fe10691eed0>]"
            ]
          },
          "metadata": {},
          "execution_count": 151
        },
        {
          "output_type": "display_data",
          "data": {
            "image/png": "[encoded data removed]",
            "text/plain": [
              "<Figure size 432x288 with 1 Axes>"
            ]
          },
          "metadata": {
            "needs_background": "light"
          }
        }
      ]
    },
    {
      "cell_type": "markdown",
      "metadata": {
        "id": "ob4n1Ps0PNz8"
      },
      "source": [
        "# Question(4)\n",
        "\n",
        "Find the solutions to $\\left(\\frac{d^2}{dx^2} + (10x)^2\\right) f = \\lambda f$ with boundary conditions $f(0)=f(1)=0$\n",
        "\n",
        "- use the eigenvalue method and the fact that $\\frac{d^2 f}{dx^2} \\approx \\frac{f_{i+1} + f_{i-1} - 2f_i}{\\Delta x^2}$ where $f_i = f(i \\Delta x)$ and $i$ is an integer."
      ]
    },
    {
      "cell_type": "code",
      "metadata": {
        "id": "jSzrJgdiPWfa"
      },
      "source": [
        "N = 1000\n",
        "x = np.linspace(0,1,N+1)\n",
        "dx = x[1]-x[0]"
      ],
      "execution_count": 152,
      "outputs": []
    },
    {
      "cell_type": "code",
      "metadata": {
        "colab": {
          "base_uri": "https://localhost:8080/"
        },
        "id": "5t6I_lZCWSIU",
        "outputId": "72976eb5-f90c-4d07-c904-b6faa67619ff"
      },
      "source": [
        "main_diag = -2*np.ones(N-1)\n",
        "off_diag = np.ones(N-2)\n",
        "derivative_matrix = (np.diag(main_diag) + np.diag(off_diag, -1) + np.diag(off_diag, 1))\n",
        "derivative_matrix"
      ],
      "execution_count": 153,
      "outputs": [
        {
          "output_type": "execute_result",
          "data": {
            "text/plain": [
              "array([[-2.,  1.,  0., ...,  0.,  0.,  0.],\n",
              "       [ 1., -2.,  1., ...,  0.,  0.,  0.],\n",
              "       [ 0.,  1., -2., ...,  0.,  0.,  0.],\n",
              "       ...,\n",
              "       [ 0.,  0.,  0., ..., -2.,  1.,  0.],\n",
              "       [ 0.,  0.,  0., ...,  1., -2.,  1.],\n",
              "       [ 0.,  0.,  0., ...,  0.,  1., -2.]])"
            ]
          },
          "metadata": {},
          "execution_count": 153
        }
      ]
    }
  ]
}