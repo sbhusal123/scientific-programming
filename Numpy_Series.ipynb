{
  "nbformat": 4,
  "nbformat_minor": 0,
  "metadata": {
    "colab": {
      "name": "Numpy Series.ipynb",
      "provenance": [],
      "collapsed_sections": [],
      "authorship_tag": "ABX9TyON9n5GFLhNC5vMg27QZRn6",
      "include_colab_link": true
    },
    "kernelspec": {
      "name": "python3",
      "display_name": "Python 3"
    },
    "language_info": {
      "name": "python"
    }
  },
  "cells": [
    {
      "cell_type": "markdown",
      "metadata": {
        "id": "view-in-github",
        "colab_type": "text"
      },
      "source": [
        "<a href=\"https://colab.research.google.com/github/sbhusal123/scientific-programming/blob/main/Numpy_Series.ipynb\" target=\"_parent\"><img src=\"https://colab.research.google.com/assets/colab-badge.svg\" alt=\"Open In Colab\"/></a>"
      ]
    },
    {
      "cell_type": "code",
      "metadata": {
        "id": "yK-ifDFOlHYf"
      },
      "source": [
        "import numpy as np\n",
        "import matplotlib.pyplot as plt"
      ],
      "execution_count": 96,
      "outputs": []
    },
    {
      "cell_type": "markdown",
      "metadata": {
        "id": "FR3-vkCsoHZ3"
      },
      "source": [
        "**Creating Arrays**"
      ]
    },
    {
      "cell_type": "code",
      "metadata": {
        "colab": {
          "base_uri": "https://localhost:8080/"
        },
        "id": "DLcp_cYioBkh",
        "outputId": "1d72dbb4-3dad-4869-b3b2-7df510ce51a1"
      },
      "source": [
        "a1 = np.array([3, 5, 6, 7]) # with a list of numbers\n",
        "\n",
        "a2 = np.zeros(5) # numbers of zeros\n",
        "\n",
        "a3 = np.ones(5) # number of ones\n",
        "\n",
        "a4 = np.random.random(3) # random numbers: Pseudo random numbers\n",
        "\n",
        "a5 = np.random.randn(100) # randn => random numbers from normal dist\n",
        "# np.std(a5) # Standard dev nearly 1\n",
        "# np.mean(a5) # Mean nearly 0\n",
        "\n",
        "a6 = np.linspace(0, 10 , 6) # 6 numbers from 0 to 10\n",
        "# a6 # [0, 2, 4, 6, 8, 10] => []\n",
        "\n",
        "a7 = np.arange(0, 10, 2) # numbers from 0 to 10 evenly spaced by 2\n",
        "a7 # [0, 2, 4, 6, 8] [)"
      ],
      "execution_count": 97,
      "outputs": [
        {
          "output_type": "execute_result",
          "data": {
            "text/plain": [
              "array([0, 2, 4, 6, 8])"
            ]
          },
          "metadata": {},
          "execution_count": 97
        }
      ]
    },
    {
      "cell_type": "markdown",
      "metadata": {
        "id": "7p2bwzyOr_CY"
      },
      "source": [
        "**Array Operations**"
      ]
    },
    {
      "cell_type": "code",
      "metadata": {
        "id": "meuf3Y14oUw7"
      },
      "source": [
        "a = np.arange(0, 10, 2) # [0, 2, 4, 6, 8]\n",
        "\n",
        "# Element wise multiplication.\n",
        "x1 = 2 * a # [0, 4, 8, 12, 16]\n",
        "x2 = a / 2 # [0, 1, 2, 3, 4] => 0.5 * a\n",
        "\n",
        "# Boolean Operation\n",
        "loc_gt_2 = a > 2 # Locations a > 2:  [False, False, True, True, True]\n",
        "loc_gt_two_lt_four = (a > 2) * (a < 8) # [False, False,  True,  True, False]"
      ],
      "execution_count": 98,
      "outputs": []
    },
    {
      "cell_type": "code",
      "metadata": {
        "colab": {
          "base_uri": "https://localhost:8080/",
          "height": 283
        },
        "id": "7xJfgKSUu-MD",
        "outputId": "dfa7f679-27af-4044-9a2b-b73e97b69653"
      },
      "source": [
        "# Square\n",
        "x = np.linspace(0, 10, 1000)\n",
        "y = x ** 2\n",
        "\n",
        "plt.plot(x, y)"
      ],
      "execution_count": 99,
      "outputs": [
        {
          "output_type": "execute_result",
          "data": {
            "text/plain": [
              "[<matplotlib.lines.Line2D at 0x7f4316e54390>]"
            ]
          },
          "metadata": {},
          "execution_count": 99
        },
        {
          "output_type": "display_data",
          "data": {
            "image/png": "[encoded data removed]",
            "text/plain": [
              "<Figure size 432x288 with 1 Axes>"
            ]
          },
          "metadata": {
            "needs_background": "light"
          }
        }
      ]
    },
    {
      "cell_type": "code",
      "metadata": {
        "colab": {
          "base_uri": "https://localhost:8080/",
          "height": 319
        },
        "id": "x3H86O37vZg2",
        "outputId": "1d61cd98-d9b0-417e-9a56-6c70354cc549"
      },
      "source": [
        "# Histogram\n",
        "item = np.array([1, 2, 2, 3, 3, 3])\n",
        "plt.hist(item)"
      ],
      "execution_count": 100,
      "outputs": [
        {
          "output_type": "execute_result",
          "data": {
            "text/plain": [
              "(array([1., 0., 0., 0., 0., 2., 0., 0., 0., 3.]),\n",
              " array([1. , 1.2, 1.4, 1.6, 1.8, 2. , 2.2, 2.4, 2.6, 2.8, 3. ]),\n",
              " <a list of 10 Patch objects>)"
            ]
          },
          "metadata": {},
          "execution_count": 100
        },
        {
          "output_type": "display_data",
          "data": {
            "image/png": "[encoded data removed]",
            "text/plain": [
              "<Figure size 432x288 with 1 Axes>"
            ]
          },
          "metadata": {
            "needs_background": "light"
          }
        }
      ]
    },
    {
      "cell_type": "code",
      "metadata": {
        "colab": {
          "base_uri": "https://localhost:8080/",
          "height": 283
        },
        "id": "FNIALH0Xxfs1",
        "outputId": "3891a70a-69c5-40fc-9884-bb4f8d44c805"
      },
      "source": [
        "# Function Chaining\n",
        "def f(x):\n",
        "  return 8*(np.sin(x))\n",
        "\n",
        "x = np.linspace(0, 10, 1000)\n",
        "y = f(x)\n",
        "\n",
        "plt.plot(x, y)"
      ],
      "execution_count": 101,
      "outputs": [
        {
          "output_type": "execute_result",
          "data": {
            "text/plain": [
              "[<matplotlib.lines.Line2D at 0x7f4316bad9d0>]"
            ]
          },
          "metadata": {},
          "execution_count": 101
        },
        {
          "output_type": "display_data",
          "data": {
            "image/png": "[encoded data removed]",
            "text/plain": [
              "<Figure size 432x288 with 1 Axes>"
            ]
          },
          "metadata": {
            "needs_background": "light"
          }
        }
      ]
    },
    {
      "cell_type": "markdown",
      "metadata": {
        "id": "IFyO91hJzwpF"
      },
      "source": [
        "Other mathematical functions:\n",
        "https://numpy.org/doc/stable/reference/routines.math.html"
      ]
    },
    {
      "cell_type": "markdown",
      "metadata": {
        "id": "XBVZkOnpz9uN"
      },
      "source": [
        "**Array Indexing/Slicing**"
      ]
    },
    {
      "cell_type": "code",
      "metadata": {
        "id": "SCVoC3VGzkmL"
      },
      "source": [
        "a = np.array([1, 2, 3, 4, 5])"
      ],
      "execution_count": 102,
      "outputs": []
    },
    {
      "cell_type": "code",
      "metadata": {
        "colab": {
          "base_uri": "https://localhost:8080/"
        },
        "id": "o3QFJzX90HUH",
        "outputId": "0c88c0fc-8fbf-4301-d748-68032f354f4f"
      },
      "source": [
        "# Item in an array starts from zero\n",
        "a[0]"
      ],
      "execution_count": 103,
      "outputs": [
        {
          "output_type": "execute_result",
          "data": {
            "text/plain": [
              "1"
            ]
          },
          "metadata": {},
          "execution_count": 103
        }
      ]
    },
    {
      "cell_type": "code",
      "metadata": {
        "colab": {
          "base_uri": "https://localhost:8080/"
        },
        "id": "TCe963g70NCD",
        "outputId": "9c6f1147-d6e2-4745-8a34-12facfe3ea94"
      },
      "source": [
        "# Fourth item:\n",
        "a[3]"
      ],
      "execution_count": 104,
      "outputs": [
        {
          "output_type": "execute_result",
          "data": {
            "text/plain": [
              "4"
            ]
          },
          "metadata": {},
          "execution_count": 104
        }
      ]
    },
    {
      "cell_type": "code",
      "metadata": {
        "colab": {
          "base_uri": "https://localhost:8080/"
        },
        "id": "Xdsvub7d0To6",
        "outputId": "ef859b8e-76c7-464e-e3dd-7a5ae4ba5397"
      },
      "source": [
        "# Item from 2nd position to end\n",
        "a[2:]"
      ],
      "execution_count": 105,
      "outputs": [
        {
          "output_type": "execute_result",
          "data": {
            "text/plain": [
              "array([3, 4, 5])"
            ]
          },
          "metadata": {},
          "execution_count": 105
        }
      ]
    },
    {
      "cell_type": "code",
      "metadata": {
        "colab": {
          "base_uri": "https://localhost:8080/"
        },
        "id": "Qs2oDHfZ0eRL",
        "outputId": "1306ab40-6519-47db-eb8c-9a0e31e42f96"
      },
      "source": [
        "# Begining to 3rd last item: a[:-(n-1)]\n",
        "a[:-2]"
      ],
      "execution_count": 106,
      "outputs": [
        {
          "output_type": "execute_result",
          "data": {
            "text/plain": [
              "array([1, 2, 3])"
            ]
          },
          "metadata": {},
          "execution_count": 106
        }
      ]
    },
    {
      "cell_type": "code",
      "metadata": {
        "colab": {
          "base_uri": "https://localhost:8080/"
        },
        "id": "ij5pepBM0xU6",
        "outputId": "9618c618-7819-40f7-ad5b-d244fa03d784"
      },
      "source": [
        "# Evenly indexed(spaced) items by 2\n",
        "a[::2]"
      ],
      "execution_count": 107,
      "outputs": [
        {
          "output_type": "execute_result",
          "data": {
            "text/plain": [
              "array([1, 3, 5])"
            ]
          },
          "metadata": {},
          "execution_count": 107
        }
      ]
    },
    {
      "cell_type": "code",
      "metadata": {
        "colab": {
          "base_uri": "https://localhost:8080/"
        },
        "id": "nYP21EUZ2aW_",
        "outputId": "1734c473-a669-40db-972c-061aae252637"
      },
      "source": [
        "# vectorize: Array item iterator: Names starting with S\n",
        "names = np.array([\"Suman\", \"Sujan\", \"Ram\", \"Ramesh\"])\n",
        "first_letters = np.vectorize(lambda item: item[0])(names) # [\"S\", \"S\", \"R\", \"R\"]\n",
        "names[first_letters == \"S\"] # ['Suman', 'Sujan']"
      ],
      "execution_count": 108,
      "outputs": [
        {
          "output_type": "execute_result",
          "data": {
            "text/plain": [
              "array(['Suman', 'Sujan'], dtype='<U6')"
            ]
          },
          "metadata": {},
          "execution_count": 108
        }
      ]
    },
    {
      "cell_type": "code",
      "metadata": {
        "colab": {
          "base_uri": "https://localhost:8080/"
        },
        "id": "Abn1sirw4IDZ",
        "outputId": "152c2379-216d-4e2a-acfd-44cea95a5f35"
      },
      "source": [
        "# Is item divided by 2 ?\n",
        "a % 2 == 0 # [False,  True, False,  True, False]\n",
        "a[a % 2 == 0]"
      ],
      "execution_count": 109,
      "outputs": [
        {
          "output_type": "execute_result",
          "data": {
            "text/plain": [
              "array([2, 4])"
            ]
          },
          "metadata": {},
          "execution_count": 109
        }
      ]
    },
    {
      "cell_type": "markdown",
      "metadata": {
        "id": "Hvyy9aPB43Ct"
      },
      "source": [
        "**Calculus / Statistics Functions**"
      ]
    },
    {
      "cell_type": "code",
      "metadata": {
        "id": "tLHVcBHX42ho"
      },
      "source": [
        "ar = np.random.randn(1000)"
      ],
      "execution_count": 110,
      "outputs": []
    },
    {
      "cell_type": "code",
      "metadata": {
        "colab": {
          "base_uri": "https://localhost:8080/"
        },
        "id": "BchY3fRK5NfS",
        "outputId": "3629b421-82fe-40e9-8b5a-0a9d4136c9d0"
      },
      "source": [
        "np.mean(ar)"
      ],
      "execution_count": 111,
      "outputs": [
        {
          "output_type": "execute_result",
          "data": {
            "text/plain": [
              "0.022660775083136665"
            ]
          },
          "metadata": {},
          "execution_count": 111
        }
      ]
    },
    {
      "cell_type": "code",
      "metadata": {
        "colab": {
          "base_uri": "https://localhost:8080/"
        },
        "id": "4eVwR4ra5QCm",
        "outputId": "cda2620e-67e0-4d18-c388-432a1e8f5a7a"
      },
      "source": [
        "np.std(ar)"
      ],
      "execution_count": 112,
      "outputs": [
        {
          "output_type": "execute_result",
          "data": {
            "text/plain": [
              "0.976710596565685"
            ]
          },
          "metadata": {},
          "execution_count": 112
        }
      ]
    },
    {
      "cell_type": "markdown",
      "metadata": {
        "id": "jl8XHoOJJCoB"
      },
      "source": [
        "# Percentile Example\n",
        "\n",
        "**Given:** 5, 10, 100, 20, 25\n",
        "\n",
        "**Ascending order:** 5, 10, 20, 25, 100\n",
        "\n",
        "\n",
        "50 % of data is less than 20. => precentile(50) = 20"
      ]
    },
    {
      "cell_type": "code",
      "metadata": {
        "colab": {
          "base_uri": "https://localhost:8080/"
        },
        "id": "6VpZrgIPI-xN",
        "outputId": "b34261cd-24d8-4997-dece-6c44b77b1078"
      },
      "source": [
        "arr = np.array([5, 10, 100, 20, 25])\n",
        "np.percentile(arr,50)"
      ],
      "execution_count": 113,
      "outputs": [
        {
          "output_type": "execute_result",
          "data": {
            "text/plain": [
              "20.0"
            ]
          },
          "metadata": {},
          "execution_count": 113
        }
      ]
    },
    {
      "cell_type": "markdown",
      "metadata": {
        "id": "Hyd1MEnY5bRB"
      },
      "source": [
        "**Derivatives**"
      ]
    },
    {
      "cell_type": "code",
      "metadata": {
        "colab": {
          "base_uri": "https://localhost:8080/",
          "height": 283
        },
        "id": "UkiNS68Z5YWo",
        "outputId": "3d45efc9-9866-477b-8062-9d535c9e79b4"
      },
      "source": [
        "# Derivative: Slop of line: y=2x+3\n",
        "x = np.linspace(0, 10, 1000)\n",
        "\n",
        "y = 2 * x + 3\n",
        "dydx=np.gradient(y, x)\n",
        "\n",
        "plt.plot(x, y)\n",
        "plt.plot(x,dydx)"
      ],
      "execution_count": 114,
      "outputs": [
        {
          "output_type": "execute_result",
          "data": {
            "text/plain": [
              "[<matplotlib.lines.Line2D at 0x7f4316b34310>]"
            ]
          },
          "metadata": {},
          "execution_count": 114
        },
        {
          "output_type": "display_data",
          "data": {
            "image/png": "[encoded data removed]",
            "text/plain": [
              "<Figure size 432x288 with 1 Axes>"
            ]
          },
          "metadata": {
            "needs_background": "light"
          }
        }
      ]
    },
    {
      "cell_type": "code",
      "metadata": {
        "colab": {
          "base_uri": "https://localhost:8080/",
          "height": 299
        },
        "id": "vstwy-jc8qur",
        "outputId": "82987c9a-ab7f-4748-e504-570f4d3eabc2"
      },
      "source": [
        "# Slope at a point\n",
        "x = np.linspace(0, 5, 1000)\n",
        "y = 2 * x ** 2\n",
        "\n",
        "dydx = np.gradient(y, x)\n",
        "\n",
        "plt.plot(x, y)\n",
        "plt.plot(x, dydx)\n",
        "plt.title(\"y=2x^2\")\n",
        "\n",
        "# Slope at point x=5\n",
        "print(dydx[x==5]) # 20"
      ],
      "execution_count": 115,
      "outputs": [
        {
          "output_type": "stream",
          "text": [
            "[19.98998999]\n"
          ],
          "name": "stdout"
        },
        {
          "output_type": "display_data",
          "data": {
            "image/png": "[encoded data removed]",
            "text/plain": [
              "<Figure size 432x288 with 1 Axes>"
            ]
          },
          "metadata": {
            "needs_background": "light"
          }
        }
      ]
    },
    {
      "cell_type": "markdown",
      "metadata": {
        "id": "Burw1IQJ_Bne"
      },
      "source": [
        "**Integration**\n",
        "- Integration = **cummulative_sum(y) * width**\n",
        "![Integration by Summation](https://classconnection.s3.amazonaws.com/33333/flashcards/644875/jpg/definition-definite-integral-a.jpg)\n"
      ]
    },
    {
      "cell_type": "code",
      "metadata": {
        "colab": {
          "base_uri": "https://localhost:8080/",
          "height": 299
        },
        "id": "VjLhEAZ2_FSC",
        "outputId": "24e1c1d9-1130-480a-866d-eca39f173392"
      },
      "source": [
        "x = np.linspace(0, 10, 1000)\n",
        "y = 2*x\n",
        "y_integral = np.cumsum(y) *(x[1] - x[0])\n",
        "\n",
        "plt.plot(x, y)\n",
        "plt.plot(x, y_integral)\n",
        "plt.title(\"y=2x\")\n",
        "\n",
        "# Definite integral: from 2 to 10\n",
        "x_lim = y_integral[x<=10][-1] - y_integral[x>2][0]\n",
        "x_lim"
      ],
      "execution_count": 116,
      "outputs": [
        {
          "output_type": "execute_result",
          "data": {
            "text/plain": [
              "96.072048024"
            ]
          },
          "metadata": {},
          "execution_count": 116
        },
        {
          "output_type": "display_data",
          "data": {
            "image/png": "[encoded data removed]",
            "text/plain": [
              "<Figure size 432x288 with 1 Axes>"
            ]
          },
          "metadata": {
            "needs_background": "light"
          }
        }
      ]
    },
    {
      "cell_type": "markdown",
      "metadata": {
        "id": "HA-HdiuFFvM7"
      },
      "source": [
        "**Question 1**"
      ]
    },
    {
      "cell_type": "markdown",
      "metadata": {
        "id": "jj82hcFIFbpH"
      },
      "source": [
        "Let $y=e^{-x/10} \\sin(x)$. Consider 10000 $x$ intervals in the range $[0,10]$\n",
        "\n",
        "1. Plot the function $y$ vs. $x$ in the range $[0, 10]$.\n",
        "\n",
        "2. Compute the mean and standard deviation of $y$ for $x$ values in $[4,7]$\n",
        "\n",
        "3. For $x$ in the range $[4,7]$, find the value $y_m$ such that 80% of $y$ values are less than $y_m$\n",
        "\n",
        "4. Plot $dy/dx$ vs $x$\n",
        "5.Find the locations where $dy/dx=0$"
      ]
    },
    {
      "cell_type": "code",
      "metadata": {
        "colab": {
          "base_uri": "https://localhost:8080/",
          "height": 303
        },
        "id": "V9EATiImFaRC",
        "outputId": "1c2b14b2-8e7d-4334-a117-59bfd835249c"
      },
      "source": [
        "# 1\n",
        "x = np.linspace(0, 10, 10000)\n",
        "\n",
        "y = np.exp(-x/10) * np.sin(x)\n",
        "\n",
        "plt.plot(x,y)\n",
        "plt.title(\"$y=e^{-x/10} \\sin(x)$\")"
      ],
      "execution_count": 117,
      "outputs": [
        {
          "output_type": "execute_result",
          "data": {
            "text/plain": [
              "Text(0.5, 1.0, '$y=e^{-x/10} \\\\sin(x)$')"
            ]
          },
          "metadata": {},
          "execution_count": 117
        },
        {
          "output_type": "display_data",
          "data": {
            "image/png": "[encoded data removed]",
            "text/plain": [
              "<Figure size 432x288 with 1 Axes>"
            ]
          },
          "metadata": {
            "needs_background": "light"
          }
        }
      ]
    },
    {
      "cell_type": "code",
      "metadata": {
        "id": "OJC0Jh2eGcnA"
      },
      "source": [
        "# 2\n",
        "idx_gt_four_lt_seven = (x >= 4) * (x <= 7)\n",
        "y_sub = y[idx_gt_four_lt_seven]\n",
        "mean = np.mean(y_sub)\n",
        "std = np.std(y_sub)"
      ],
      "execution_count": 118,
      "outputs": []
    },
    {
      "cell_type": "code",
      "metadata": {
        "colab": {
          "base_uri": "https://localhost:8080/"
        },
        "id": "0WVNT9llICyD",
        "outputId": "35d730ef-ec8a-4cbb-9fc9-f77f33f32afd"
      },
      "source": [
        "# 3\n",
        "np.percentile(y_sub, 80)"
      ],
      "execution_count": 119,
      "outputs": [
        {
          "output_type": "execute_result",
          "data": {
            "text/plain": [
              "0.061372680560897265"
            ]
          },
          "metadata": {},
          "execution_count": 119
        }
      ]
    },
    {
      "cell_type": "code",
      "metadata": {
        "colab": {
          "base_uri": "https://localhost:8080/",
          "height": 299
        },
        "id": "vFdszOfAOcAk",
        "outputId": "9c38c66a-6a6b-40a8-e567-1472aeee8e81"
      },
      "source": [
        "# 4\n",
        "dydx = np.gradient(y, x)\n",
        "plt.plot(x, dydx)\n",
        "plt.title(\"Gradient plot\")"
      ],
      "execution_count": 120,
      "outputs": [
        {
          "output_type": "execute_result",
          "data": {
            "text/plain": [
              "Text(0.5, 1.0, 'Gradient plot')"
            ]
          },
          "metadata": {},
          "execution_count": 120
        },
        {
          "output_type": "display_data",
          "data": {
            "image/png": "[encoded data removed]",
            "text/plain": [
              "<Figure size 432x288 with 1 Axes>"
            ]
          },
          "metadata": {
            "needs_background": "light"
          }
        }
      ]
    },
    {
      "cell_type": "code",
      "metadata": {
        "colab": {
          "base_uri": "https://localhost:8080/"
        },
        "id": "n6xQvGiyPWaZ",
        "outputId": "47fc5e88-1d04-42d7-c766-b073e9bad668"
      },
      "source": [
        "# 5 \n",
        "# Tip: Product of two consecutive slope at a point is negative\n",
        "dydx = np.gradient(y, x)\n",
        "\n",
        "\"\"\"\n",
        "Example:\n",
        "x = [.........] N = 6\n",
        "slope = [5, 3, 2, -2, -1, 5] len=6\n",
        "Peak in between -1, 5 and 2, -2\n",
        "\n",
        "slope[1:] = [3, 2, -2, -1, 5]\n",
        "slope[:-1] = [5, 3, 2, -2, -1]\n",
        "\n",
        "Slope[1:] * slope[:-1]     = [15, 6, -4, 2, -5]\n",
        "Slope[1:] * slope[:-1] < 0 = [False, False, True, False, True] len=5\n",
        "                     x[1:] = [3    , 2    , -2  , -1   ,  5  ] len=5\n",
        "\n",
        "So to find the index, exclude the first item from x.\n",
        "\"\"\"\n",
        "\n",
        "x[1:][dydx[1:] * dydx[:-1] < 0]"
      ],
      "execution_count": 121,
      "outputs": [
        {
          "output_type": "execute_result",
          "data": {
            "text/plain": [
              "array([1.47114711, 4.61346135, 7.75477548])"
            ]
          },
          "metadata": {},
          "execution_count": 121
        }
      ]
    }
  ]
}