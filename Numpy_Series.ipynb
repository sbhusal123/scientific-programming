{
  "nbformat": 4,
  "nbformat_minor": 0,
  "metadata": {
    "colab": {
      "name": "Numpy Series.ipynb",
      "provenance": [],
      "collapsed_sections": [],
      "authorship_tag": "ABX9TyOJISBPxLlf0yhuYkcV7xxH",
      "include_colab_link": true
    },
    "kernelspec": {
      "name": "python3",
      "display_name": "Python 3"
    },
    "language_info": {
      "name": "python"
    }
  },
  "cells": [
    {
      "cell_type": "markdown",
      "metadata": {
        "id": "view-in-github",
        "colab_type": "text"
      },
      "source": [
        "<a href=\"https://colab.research.google.com/github/sbhusal123/scientific-programming/blob/main/Numpy_Series.ipynb\" target=\"_parent\"><img src=\"https://colab.research.google.com/assets/colab-badge.svg\" alt=\"Open In Colab\"/></a>"
      ]
    },
    {
      "cell_type": "code",
      "metadata": {
        "id": "yK-ifDFOlHYf"
      },
      "source": [
        "import numpy as np\n",
        "import matplotlib.pyplot as plt"
      ],
      "execution_count": 124,
      "outputs": []
    },
    {
      "cell_type": "markdown",
      "metadata": {
        "id": "FR3-vkCsoHZ3"
      },
      "source": [
        "**Creating Arrays**"
      ]
    },
    {
      "cell_type": "code",
      "metadata": {
        "colab": {
          "base_uri": "https://localhost:8080/"
        },
        "id": "DLcp_cYioBkh",
        "outputId": "cc91b188-1ea4-4916-8113-7ff4168d1bbf"
      },
      "source": [
        "a1 = np.array([3, 5, 6, 7]) # with a list of numbers\n",
        "\n",
        "a2 = np.zeros(5) # numbers of zeros\n",
        "\n",
        "a3 = np.ones(5) # number of ones\n",
        "\n",
        "a4 = np.random.random(3) # random numbers: Pseudo random numbers\n",
        "\n",
        "a5 = np.random.randn(100) # randn => random numbers from normal dist\n",
        "# np.std(a5) # Standard dev nearly 1\n",
        "# np.mean(a5) # Mean nearly 0\n",
        "\n",
        "a6 = np.linspace(0, 10 , 6) # 6 numbers from 0 to 10\n",
        "# a6 # [0, 2, 4, 6, 8, 10] => []\n",
        "\n",
        "a7 = np.arange(0, 10, 2) # numbers from 0 to 10 evenly spaced by 2\n",
        "a7 # [0, 2, 4, 6, 8] [)"
      ],
      "execution_count": 125,
      "outputs": [
        {
          "output_type": "execute_result",
          "data": {
            "text/plain": [
              "array([0, 2, 4, 6, 8])"
            ]
          },
          "metadata": {},
          "execution_count": 125
        }
      ]
    },
    {
      "cell_type": "markdown",
      "metadata": {
        "id": "7p2bwzyOr_CY"
      },
      "source": [
        "#Array Operations"
      ]
    },
    {
      "cell_type": "code",
      "metadata": {
        "id": "meuf3Y14oUw7",
        "colab": {
          "base_uri": "https://localhost:8080/"
        },
        "outputId": "1c1afb6d-fd97-4e11-943e-a0997acdf908"
      },
      "source": [
        "a = np.arange(0, 10, 2) # [0, 2, 4, 6, 8]\n",
        "a"
      ],
      "execution_count": 126,
      "outputs": [
        {
          "output_type": "execute_result",
          "data": {
            "text/plain": [
              "array([0, 2, 4, 6, 8])"
            ]
          },
          "metadata": {},
          "execution_count": 126
        }
      ]
    },
    {
      "cell_type": "markdown",
      "metadata": {
        "id": "y5yeNyGR9kpz"
      },
      "source": [
        "**Element wise multiplication.**"
      ]
    },
    {
      "cell_type": "code",
      "metadata": {
        "id": "7emR9SEQ9m6s",
        "colab": {
          "base_uri": "https://localhost:8080/"
        },
        "outputId": "507aed45-1e40-46f3-d7cf-fa3d1d8a2525"
      },
      "source": [
        "x1 = 2 * a # [0, 4, 8, 12, 16]\n",
        "x2 = a / 2 # [0, 1, 2, 3, 4] => 0.5 * a\n",
        "x1"
      ],
      "execution_count": 127,
      "outputs": [
        {
          "output_type": "execute_result",
          "data": {
            "text/plain": [
              "array([ 0,  4,  8, 12, 16])"
            ]
          },
          "metadata": {},
          "execution_count": 127
        }
      ]
    },
    {
      "cell_type": "markdown",
      "metadata": {
        "id": "dR5n3Kw79_TR"
      },
      "source": [
        "**Boolean Operation**"
      ]
    },
    {
      "cell_type": "code",
      "metadata": {
        "id": "5wOO7B_x-C8n"
      },
      "source": [
        "loc_gt_2 = a > 2 # Locations a > 2:  [False, False, True, True, True]\n",
        "loc_gt_two_lt_four = (a > 2) * (a < 8) # [False, False,  True,  True, False]"
      ],
      "execution_count": 128,
      "outputs": []
    },
    {
      "cell_type": "markdown",
      "metadata": {
        "id": "Y2jgiO_6-Jbv"
      },
      "source": [
        "**Corresponding element multiplication. Not a Matrix Multiplication**"
      ]
    },
    {
      "cell_type": "code",
      "metadata": {
        "colab": {
          "base_uri": "https://localhost:8080/"
        },
        "id": "7xJfgKSUu-MD",
        "outputId": "bc8f0a73-4344-4645-9a09-52df3252b2ed"
      },
      "source": [
        "x = np.array([1, 2, 3])\n",
        "y = np.array([1, 2, 3])\n",
        "x * y"
      ],
      "execution_count": 129,
      "outputs": [
        {
          "output_type": "execute_result",
          "data": {
            "text/plain": [
              "array([1, 4, 9])"
            ]
          },
          "metadata": {},
          "execution_count": 129
        }
      ]
    },
    {
      "cell_type": "markdown",
      "metadata": {
        "id": "VFS_FeGW-frU"
      },
      "source": [
        "**Histogram**"
      ]
    },
    {
      "cell_type": "code",
      "metadata": {
        "colab": {
          "base_uri": "https://localhost:8080/",
          "height": 319
        },
        "id": "x3H86O37vZg2",
        "outputId": "511f818b-9ecd-4864-ca07-6b611dcbdc80"
      },
      "source": [
        "item = np.array([1, 2, 2, 3, 3, 3])\n",
        "plt.hist(item)"
      ],
      "execution_count": 130,
      "outputs": [
        {
          "output_type": "execute_result",
          "data": {
            "text/plain": [
              "(array([1., 0., 0., 0., 0., 2., 0., 0., 0., 3.]),\n",
              " array([1. , 1.2, 1.4, 1.6, 1.8, 2. , 2.2, 2.4, 2.6, 2.8, 3. ]),\n",
              " <a list of 10 Patch objects>)"
            ]
          },
          "metadata": {},
          "execution_count": 130
        },
        {
          "output_type": "display_data",
          "data": {
            "image/png": "[encoded data removed]",
            "text/plain": [
              "<Figure size 432x288 with 1 Axes>"
            ]
          },
          "metadata": {
            "needs_background": "light"
          }
        }
      ]
    },
    {
      "cell_type": "markdown",
      "metadata": {
        "id": "ZyURW8or-j-3"
      },
      "source": [
        "**Function Chaining**"
      ]
    },
    {
      "cell_type": "code",
      "metadata": {
        "colab": {
          "base_uri": "https://localhost:8080/",
          "height": 283
        },
        "id": "FNIALH0Xxfs1",
        "outputId": "38440dbe-3b1a-40b5-b3e0-711946eee20b"
      },
      "source": [
        "def f(x):\n",
        "  return 8*(np.sin(x))\n",
        "\n",
        "x = np.linspace(0, 10, 1000)\n",
        "y = f(x)\n",
        "\n",
        "plt.plot(x, y)"
      ],
      "execution_count": 131,
      "outputs": [
        {
          "output_type": "execute_result",
          "data": {
            "text/plain": [
              "[<matplotlib.lines.Line2D at 0x7f1197e52250>]"
            ]
          },
          "metadata": {},
          "execution_count": 131
        },
        {
          "output_type": "display_data",
          "data": {
            "image/png": "[encoded data removed]",
            "text/plain": [
              "<Figure size 432x288 with 1 Axes>"
            ]
          },
          "metadata": {
            "needs_background": "light"
          }
        }
      ]
    },
    {
      "cell_type": "markdown",
      "metadata": {
        "id": "IFyO91hJzwpF"
      },
      "source": [
        "Other mathematical functions:\n",
        "https://numpy.org/doc/stable/reference/routines.math.html"
      ]
    },
    {
      "cell_type": "markdown",
      "metadata": {
        "id": "RHt5uN6019kG"
      },
      "source": [
        "**Cumulative Sums**\n",
        "\n",
        "- Size of the array changes. 2d => 1d\n",
        "- Item count remains same."
      ]
    },
    {
      "cell_type": "code",
      "metadata": {
        "id": "s5xECT9X2AIf",
        "colab": {
          "base_uri": "https://localhost:8080/"
        },
        "outputId": "d99991e5-6c65-4230-a381-d114483afb8b"
      },
      "source": [
        "ar = np.array([1, 2, 3])\n",
        "print(\"Cumsum 1d\")\n",
        "print(np.cumsum(ar))\n",
        "\n",
        "print(\"\\n\")\n",
        "ar = np.array([[1, 2, 3], [4, 5, 6]])\n",
        "print(\"Cumsum 2d\")\n",
        "print(np.cumsum(ar))"
      ],
      "execution_count": 132,
      "outputs": [
        {
          "output_type": "stream",
          "text": [
            "Cumsum 1d\n",
            "[1 3 6]\n",
            "\n",
            "\n",
            "Cumsum 2d\n",
            "[ 1  3  6 10 15 21]\n"
          ],
          "name": "stdout"
        }
      ]
    },
    {
      "cell_type": "markdown",
      "metadata": {
        "id": "qREjcAnh2Jp9"
      },
      "source": [
        "**Difference of corresponsind items:**\n",
        "- Size of an array changes\n",
        "- Resulting array has same no of rows, but column count dec by 1."
      ]
    },
    {
      "cell_type": "code",
      "metadata": {
        "id": "KX-bf0C02PlE",
        "colab": {
          "base_uri": "https://localhost:8080/"
        },
        "outputId": "76a89c01-99b8-4c24-beec-898c7dfebca0"
      },
      "source": [
        "ar = np.array([2, 4, 6, 8])\n",
        "print(\"Diff of 1d array\")\n",
        "print(np.diff(ar))\n",
        "\n",
        "print(\"\\n\")\n",
        "\n",
        "print(\"Diff of 2d array\")\n",
        "ar = np.array([[2, 4, 6, 8], [10, 12, 14, 16]])\n",
        "print(np.diff(ar))"
      ],
      "execution_count": 133,
      "outputs": [
        {
          "output_type": "stream",
          "text": [
            "Diff of 1d array\n",
            "[2 2 2]\n",
            "\n",
            "\n",
            "Diff of 2d array\n",
            "[[2 2 2]\n",
            " [2 2 2]]\n"
          ],
          "name": "stdout"
        }
      ]
    },
    {
      "cell_type": "markdown",
      "metadata": {
        "id": "YGvs7L287cEx"
      },
      "source": [
        "**Absolute value of an element on an array.**"
      ]
    },
    {
      "cell_type": "code",
      "metadata": {
        "colab": {
          "base_uri": "https://localhost:8080/"
        },
        "id": "Vm_avGkF7gaS",
        "outputId": "517139b8-b126-4ff4-befd-4669bbaebfe6"
      },
      "source": [
        "ar = np.array([-2, -1, 0, 1, 2])\n",
        "np.abs(ar)"
      ],
      "execution_count": 134,
      "outputs": [
        {
          "output_type": "execute_result",
          "data": {
            "text/plain": [
              "array([2, 1, 0, 1, 2])"
            ]
          },
          "metadata": {},
          "execution_count": 134
        }
      ]
    },
    {
      "cell_type": "markdown",
      "metadata": {
        "id": "DUh_9dXP_pDe"
      },
      "source": [
        "**Sum of element in an array**\n",
        "- `sum` gives a sum of each rows in an array. Resulting array of shape: (1, n)\n",
        "- `np.sum()` gives a sum of entire element."
      ]
    },
    {
      "cell_type": "code",
      "metadata": {
        "colab": {
          "base_uri": "https://localhost:8080/"
        },
        "id": "n4_mK0Tp_rwV",
        "outputId": "f1846d8f-550d-4567-e076-d48cd0cdcbb2"
      },
      "source": [
        "# 1d array\n",
        "print(\"1d array\")\n",
        "ar = np.array([1, 2, 3, 4])\n",
        "print(ar)\n",
        "print(\"Using np.sum: {}\".format(np.sum(ar)))\n",
        "print(\"Inbuilt sum: {}\".format(sum(ar)))\n",
        "\n",
        "print(\"\\n\")\n",
        "\n",
        "print(\"2d array\")\n",
        "ar = np.array([[1, 2], [3, 4]])\n",
        "print(ar)\n",
        "print(\"Using np.sum: {}\".format(np.sum(ar)))\n",
        "print(\"Inbuilt sum gives a vertical elements: {}\".format(sum(ar)))"
      ],
      "execution_count": 135,
      "outputs": [
        {
          "output_type": "stream",
          "text": [
            "1d array\n",
            "[1 2 3 4]\n",
            "Using np.sum: 10\n",
            "Inbuilt sum: 10\n",
            "\n",
            "\n",
            "2d array\n",
            "[[1 2]\n",
            " [3 4]]\n",
            "Using np.sum: 10\n",
            "Inbuilt sum gives a vertical elements: [4 6]\n"
          ],
          "name": "stdout"
        }
      ]
    },
    {
      "cell_type": "markdown",
      "metadata": {
        "id": "XBVZkOnpz9uN"
      },
      "source": [
        "#Array Indexing/Slicing"
      ]
    },
    {
      "cell_type": "code",
      "metadata": {
        "id": "SCVoC3VGzkmL"
      },
      "source": [
        "a = np.array([1, 2, 3, 4, 5])"
      ],
      "execution_count": 136,
      "outputs": []
    },
    {
      "cell_type": "code",
      "metadata": {
        "colab": {
          "base_uri": "https://localhost:8080/"
        },
        "id": "o3QFJzX90HUH",
        "outputId": "756a2c6a-8a1b-47b3-88c2-e42463d2e7ad"
      },
      "source": [
        "# Item in an array starts from zero\n",
        "a[0]"
      ],
      "execution_count": 137,
      "outputs": [
        {
          "output_type": "execute_result",
          "data": {
            "text/plain": [
              "1"
            ]
          },
          "metadata": {},
          "execution_count": 137
        }
      ]
    },
    {
      "cell_type": "code",
      "metadata": {
        "colab": {
          "base_uri": "https://localhost:8080/"
        },
        "id": "TCe963g70NCD",
        "outputId": "31eeb953-e074-4b9b-9cf0-2bf5d3fb5fa7"
      },
      "source": [
        "# Fourth item:\n",
        "a[3]"
      ],
      "execution_count": 138,
      "outputs": [
        {
          "output_type": "execute_result",
          "data": {
            "text/plain": [
              "4"
            ]
          },
          "metadata": {},
          "execution_count": 138
        }
      ]
    },
    {
      "cell_type": "code",
      "metadata": {
        "colab": {
          "base_uri": "https://localhost:8080/"
        },
        "id": "Xdsvub7d0To6",
        "outputId": "6f935650-d571-4f97-bf9e-0aad599b74c2"
      },
      "source": [
        "# Item from 2nd position to end\n",
        "a[2:]"
      ],
      "execution_count": 139,
      "outputs": [
        {
          "output_type": "execute_result",
          "data": {
            "text/plain": [
              "array([3, 4, 5])"
            ]
          },
          "metadata": {},
          "execution_count": 139
        }
      ]
    },
    {
      "cell_type": "code",
      "metadata": {
        "colab": {
          "base_uri": "https://localhost:8080/"
        },
        "id": "Qs2oDHfZ0eRL",
        "outputId": "28925bc4-4aa4-446f-b74b-dc232a1fbc8f"
      },
      "source": [
        "# Begining to 3rd last item: a[:-(n-1)]\n",
        "a[:-2]"
      ],
      "execution_count": 140,
      "outputs": [
        {
          "output_type": "execute_result",
          "data": {
            "text/plain": [
              "array([1, 2, 3])"
            ]
          },
          "metadata": {},
          "execution_count": 140
        }
      ]
    },
    {
      "cell_type": "code",
      "metadata": {
        "colab": {
          "base_uri": "https://localhost:8080/"
        },
        "id": "ij5pepBM0xU6",
        "outputId": "492919a7-97d8-4644-8854-7280f5406451"
      },
      "source": [
        "# Evenly indexed(spaced) items by 2\n",
        "a[::2]"
      ],
      "execution_count": 141,
      "outputs": [
        {
          "output_type": "execute_result",
          "data": {
            "text/plain": [
              "array([1, 3, 5])"
            ]
          },
          "metadata": {},
          "execution_count": 141
        }
      ]
    },
    {
      "cell_type": "code",
      "metadata": {
        "colab": {
          "base_uri": "https://localhost:8080/"
        },
        "id": "nYP21EUZ2aW_",
        "outputId": "e0676a95-9ddd-4779-c6fd-c4c9895f6d71"
      },
      "source": [
        "# vectorize: Array item iterator: Names starting with S\n",
        "names = np.array([\"Suman\", \"Sujan\", \"Ram\", \"Ramesh\"])\n",
        "first_letters = np.vectorize(lambda item: item[0])(names) # [\"S\", \"S\", \"R\", \"R\"]\n",
        "names[first_letters == \"S\"] # ['Suman', 'Sujan']"
      ],
      "execution_count": 142,
      "outputs": [
        {
          "output_type": "execute_result",
          "data": {
            "text/plain": [
              "array(['Suman', 'Sujan'], dtype='<U6')"
            ]
          },
          "metadata": {},
          "execution_count": 142
        }
      ]
    },
    {
      "cell_type": "code",
      "metadata": {
        "colab": {
          "base_uri": "https://localhost:8080/"
        },
        "id": "Abn1sirw4IDZ",
        "outputId": "84fb9201-ea46-4c2f-e894-c21e035406d5"
      },
      "source": [
        "# Is item divided by 2 ?\n",
        "a % 2 == 0 # [False,  True, False,  True, False]\n",
        "a[a % 2 == 0]"
      ],
      "execution_count": 143,
      "outputs": [
        {
          "output_type": "execute_result",
          "data": {
            "text/plain": [
              "array([2, 4])"
            ]
          },
          "metadata": {},
          "execution_count": 143
        }
      ]
    },
    {
      "cell_type": "markdown",
      "metadata": {
        "id": "Hvyy9aPB43Ct"
      },
      "source": [
        "#Calculus / Statistics Functions"
      ]
    },
    {
      "cell_type": "code",
      "metadata": {
        "id": "tLHVcBHX42ho"
      },
      "source": [
        "ar = np.random.randn(1000)"
      ],
      "execution_count": 144,
      "outputs": []
    },
    {
      "cell_type": "code",
      "metadata": {
        "colab": {
          "base_uri": "https://localhost:8080/"
        },
        "id": "BchY3fRK5NfS",
        "outputId": "6563d077-179f-4c9f-b797-0c50150aab63"
      },
      "source": [
        "np.mean(ar)"
      ],
      "execution_count": 145,
      "outputs": [
        {
          "output_type": "execute_result",
          "data": {
            "text/plain": [
              "-0.05971746374719284"
            ]
          },
          "metadata": {},
          "execution_count": 145
        }
      ]
    },
    {
      "cell_type": "code",
      "metadata": {
        "colab": {
          "base_uri": "https://localhost:8080/"
        },
        "id": "4eVwR4ra5QCm",
        "outputId": "53bc6943-a6d9-4740-980f-251de3ee11d4"
      },
      "source": [
        "np.std(ar)"
      ],
      "execution_count": 146,
      "outputs": [
        {
          "output_type": "execute_result",
          "data": {
            "text/plain": [
              "0.9557067616003072"
            ]
          },
          "metadata": {},
          "execution_count": 146
        }
      ]
    },
    {
      "cell_type": "markdown",
      "metadata": {
        "id": "jl8XHoOJJCoB"
      },
      "source": [
        "#Percentile\n",
        "\n",
        "**Given:** 5, 10, 100, 20, 25\n",
        "\n",
        "**Ascending order:** 5, 10, 20, 25, 100\n",
        "\n",
        "\n",
        "50 % of data is less than 20. => precentile(50) = 20"
      ]
    },
    {
      "cell_type": "code",
      "metadata": {
        "colab": {
          "base_uri": "https://localhost:8080/"
        },
        "id": "6VpZrgIPI-xN",
        "outputId": "92aa0cb8-8c56-44e3-e206-b69aaccc57cb"
      },
      "source": [
        "arr = np.array([5, 10, 100, 20, 25])\n",
        "np.percentile(arr,50)"
      ],
      "execution_count": 147,
      "outputs": [
        {
          "output_type": "execute_result",
          "data": {
            "text/plain": [
              "20.0"
            ]
          },
          "metadata": {},
          "execution_count": 147
        }
      ]
    },
    {
      "cell_type": "markdown",
      "metadata": {
        "id": "Hyd1MEnY5bRB"
      },
      "source": [
        "#Derivatives"
      ]
    },
    {
      "cell_type": "code",
      "metadata": {
        "colab": {
          "base_uri": "https://localhost:8080/",
          "height": 283
        },
        "id": "UkiNS68Z5YWo",
        "outputId": "775e8ced-14f3-4f6b-908f-e5a212ed6c8e"
      },
      "source": [
        "# Derivative: Slop of line: y=2x+3\n",
        "x = np.linspace(0, 10, 1000)\n",
        "\n",
        "y = 2 * x + 3\n",
        "dydx=np.gradient(y, x)\n",
        "\n",
        "plt.plot(x, y)\n",
        "plt.plot(x,dydx)"
      ],
      "execution_count": 148,
      "outputs": [
        {
          "output_type": "execute_result",
          "data": {
            "text/plain": [
              "[<matplotlib.lines.Line2D at 0x7f1197febd50>]"
            ]
          },
          "metadata": {},
          "execution_count": 148
        },
        {
          "output_type": "display_data",
          "data": {
            "image/png": "[encoded data removed]",
            "text/plain": [
              "<Figure size 432x288 with 1 Axes>"
            ]
          },
          "metadata": {
            "needs_background": "light"
          }
        }
      ]
    },
    {
      "cell_type": "code",
      "metadata": {
        "colab": {
          "base_uri": "https://localhost:8080/",
          "height": 299
        },
        "id": "vstwy-jc8qur",
        "outputId": "fd73479b-be34-49a9-b3c4-08b7e7b4a5d0"
      },
      "source": [
        "# Slope at a point\n",
        "x = np.linspace(0, 5, 1000)\n",
        "y = 2 * x ** 2\n",
        "\n",
        "dydx = np.gradient(y, x)\n",
        "\n",
        "plt.plot(x, y)\n",
        "plt.plot(x, dydx)\n",
        "plt.title(\"y=2x^2\")\n",
        "\n",
        "# Slope at point x=5\n",
        "print(dydx[x==5]) # 20"
      ],
      "execution_count": 149,
      "outputs": [
        {
          "output_type": "stream",
          "text": [
            "[19.98998999]\n"
          ],
          "name": "stdout"
        },
        {
          "output_type": "display_data",
          "data": {
            "image/png": "[encoded data removed]",
            "text/plain": [
              "<Figure size 432x288 with 1 Axes>"
            ]
          },
          "metadata": {
            "needs_background": "light"
          }
        }
      ]
    },
    {
      "cell_type": "markdown",
      "metadata": {
        "id": "Burw1IQJ_Bne"
      },
      "source": [
        "#Integration\n",
        "- Integration = **cummulative_sum(y) * width**\n",
        "![Integration by Summation](https://classconnection.s3.amazonaws.com/33333/flashcards/644875/jpg/definition-definite-integral-a.jpg)\n"
      ]
    },
    {
      "cell_type": "markdown",
      "metadata": {
        "id": "Xo_OohcXLGOb"
      },
      "source": [
        "$$\\int_{2}^{5} 2x+3 \\,dx$$\n",
        "\n",
        "$$\n",
        "^5\\begin{vmatrix}\n",
        "x^2+3x\n",
        "\\end{vmatrix}_2\n",
        "$$\n",
        "$$30$$"
      ]
    },
    {
      "cell_type": "code",
      "metadata": {
        "colab": {
          "base_uri": "https://localhost:8080/",
          "height": 324
        },
        "id": "VjLhEAZ2_FSC",
        "outputId": "edfc56a9-9565-4b51-ad66-77358390640d"
      },
      "source": [
        "def f(x):\n",
        "  return 2*x +3\n",
        "\n",
        "x = np.linspace(2, 5, 4000)\n",
        "y = f(x)\n",
        "\n",
        "plt.plot(x, y)\n",
        "plt.xlabel(\"x\", fontsize=20)\n",
        "plt.ylabel(\"2x+3\", fontsize=20)\n",
        "\n",
        "s = np.sum(y) * (x[1]-x[0])\n",
        "print(s)\n",
        "s = np.cumsum(y)[-1] * (x[1] - x[0])\n",
        "print(s)"
      ],
      "execution_count": 165,
      "outputs": [
        {
          "output_type": "stream",
          "text": [
            "30.007501875477516\n",
            "30.007501875477494\n"
          ],
          "name": "stdout"
        },
        {
          "output_type": "display_data",
          "data": {
            "image/png": "[encoded data removed]",
            "text/plain": [
              "<Figure size 432x288 with 1 Axes>"
            ]
          },
          "metadata": {
            "needs_background": "light"
          }
        }
      ]
    },
    {
      "cell_type": "markdown",
      "metadata": {
        "id": "HA-HdiuFFvM7"
      },
      "source": [
        "#Question 1"
      ]
    },
    {
      "cell_type": "markdown",
      "metadata": {
        "id": "jj82hcFIFbpH"
      },
      "source": [
        "Let $y=e^{-x/10} \\sin(x)$. Consider 10000 $x$ intervals in the range $[0,10]$\n",
        "\n",
        "1. Plot the function $y$ vs. $x$ in the range $[0, 10]$.\n",
        "\n",
        "2. Compute the mean and standard deviation of $y$ for $x$ values in $[4,7]$\n",
        "\n",
        "3. For $x$ in the range $[4,7]$, find the value $y_m$ such that 80% of $y$ values are less than $y_m$\n",
        "\n",
        "4. Plot $dy/dx$ vs $x$\n",
        "5.Find the locations where $dy/dx=0$"
      ]
    },
    {
      "cell_type": "code",
      "metadata": {
        "colab": {
          "base_uri": "https://localhost:8080/",
          "height": 306
        },
        "id": "V9EATiImFaRC",
        "outputId": "6559f62d-e970-4734-dd45-9700a8160848"
      },
      "source": [
        "# 1\n",
        "x = np.linspace(0, 10, 10000)\n",
        "\n",
        "y = np.exp(-x/10) * np.sin(x)\n",
        "\n",
        "plt.plot(x,y)\n",
        "plt.title(r\"$y=e^{-x/10} \\sin(x)$\", fontsize=15)"
      ],
      "execution_count": 151,
      "outputs": [
        {
          "output_type": "execute_result",
          "data": {
            "text/plain": [
              "Text(0.5, 1.0, '$y=e^{-x/10} \\\\sin(x)$')"
            ]
          },
          "metadata": {},
          "execution_count": 151
        },
        {
          "output_type": "display_data",
          "data": {
            "image/png": "[encoded data removed]",
            "text/plain": [
              "<Figure size 432x288 with 1 Axes>"
            ]
          },
          "metadata": {
            "needs_background": "light"
          }
        }
      ]
    },
    {
      "cell_type": "code",
      "metadata": {
        "id": "OJC0Jh2eGcnA"
      },
      "source": [
        "# 2\n",
        "idx_gt_four_lt_seven = (x >= 4) * (x <= 7)\n",
        "y_sub = y[idx_gt_four_lt_seven]\n",
        "mean = np.mean(y_sub)\n",
        "std = np.std(y_sub)"
      ],
      "execution_count": 152,
      "outputs": []
    },
    {
      "cell_type": "code",
      "metadata": {
        "colab": {
          "base_uri": "https://localhost:8080/"
        },
        "id": "0WVNT9llICyD",
        "outputId": "56659a54-c994-4a56-ff93-ed97949e0cfb"
      },
      "source": [
        "# 3\n",
        "np.percentile(y_sub, 80)"
      ],
      "execution_count": 153,
      "outputs": [
        {
          "output_type": "execute_result",
          "data": {
            "text/plain": [
              "0.061372680560897265"
            ]
          },
          "metadata": {},
          "execution_count": 153
        }
      ]
    },
    {
      "cell_type": "code",
      "metadata": {
        "colab": {
          "base_uri": "https://localhost:8080/",
          "height": 301
        },
        "id": "vFdszOfAOcAk",
        "outputId": "9778adfb-43c0-4693-bf56-c9ee67ec5819"
      },
      "source": [
        "# 4\n",
        "dydx = np.gradient(y, x)\n",
        "plt.plot(x, dydx)\n",
        "plt.title(\"Gradient plot\", fontsize=15)"
      ],
      "execution_count": 154,
      "outputs": [
        {
          "output_type": "execute_result",
          "data": {
            "text/plain": [
              "Text(0.5, 1.0, 'Gradient plot')"
            ]
          },
          "metadata": {},
          "execution_count": 154
        },
        {
          "output_type": "display_data",
          "data": {
            "image/png": "[encoded data removed]",
            "text/plain": [
              "<Figure size 432x288 with 1 Axes>"
            ]
          },
          "metadata": {
            "needs_background": "light"
          }
        }
      ]
    },
    {
      "cell_type": "code",
      "metadata": {
        "colab": {
          "base_uri": "https://localhost:8080/"
        },
        "id": "n6xQvGiyPWaZ",
        "outputId": "2518db74-1a58-4dac-8dac-ac00210954f3"
      },
      "source": [
        "# 5 \n",
        "# Tip: Product of two consecutive slope at a point is negative\n",
        "dydx = np.gradient(y, x)\n",
        "\n",
        "\"\"\"\n",
        "Example:\n",
        "x = [.........] N = 6\n",
        "slope = [5, 3, 2, -2, -1, 5] len=6\n",
        "Peak in between -1, 5 and 2, -2\n",
        "\n",
        "slope[1:] = [3, 2, -2, -1, 5]\n",
        "slope[:-1] = [5, 3, 2, -2, -1]\n",
        "\n",
        "Slope[1:] * slope[:-1]     = [15, 6, -4, 2, -5]\n",
        "Slope[1:] * slope[:-1] < 0 = [False, False, True, False, True] len=5\n",
        "                     x[1:] = [3    , 2    , -2  , -1   ,  5  ] len=5\n",
        "\n",
        "So to find the index, exclude the first item from x.\n",
        "\"\"\"\n",
        "\n",
        "x[1:][dydx[1:] * dydx[:-1] < 0]"
      ],
      "execution_count": 155,
      "outputs": [
        {
          "output_type": "execute_result",
          "data": {
            "text/plain": [
              "array([1.47114711, 4.61346135, 7.75477548])"
            ]
          },
          "metadata": {},
          "execution_count": 155
        }
      ]
    },
    {
      "cell_type": "markdown",
      "metadata": {
        "id": "SLj1dl2qWYK7"
      },
      "source": [
        "#Question 2"
      ]
    },
    {
      "cell_type": "markdown",
      "metadata": {
        "id": "q7LAPK9_Wcz9"
      },
      "source": [
        "Sum together every number from 0 to 10000 except for those than can be divided by 4 or 7. Do this in one line of code"
      ]
    },
    {
      "cell_type": "code",
      "metadata": {
        "colab": {
          "base_uri": "https://localhost:8080/"
        },
        "id": "ukRwYsmnWXEY",
        "outputId": "df9075af-c737-46f8-e455-7d860419b702"
      },
      "source": [
        "x = np.arange(0, 10001, 1)\n",
        "sum(x[ (x % 4 !=0) * (x % 7 !=0) ])"
      ],
      "execution_count": 156,
      "outputs": [
        {
          "output_type": "execute_result",
          "data": {
            "text/plain": [
              "32147142"
            ]
          },
          "metadata": {},
          "execution_count": 156
        }
      ]
    },
    {
      "cell_type": "markdown",
      "metadata": {
        "id": "d9j0yHDCYtB3"
      },
      "source": [
        "#Question 3"
      ]
    },
    {
      "cell_type": "markdown",
      "metadata": {
        "id": "KaANTCq5Ysh0"
      },
      "source": [
        "Consider the flower petal $r(\\theta) = 1+\\frac{3}{4}\\sin(3 \\theta)$ for $0 \\leq \\theta \\leq 2 \\pi$\n",
        "\n",
        "1. Make a plot of the flower (find x and y points)\n",
        "\n",
        "2. Compute the area using the calculus formula $A = \\int_{0}^{2\\pi} \\frac{1}{2} r^2 d\\theta$\n",
        "\n",
        "3. Compute the arclength using the calculus formula $L = \\int_{0}^{2 \\pi} \\sqrt{r^2 + \\left(\\frac{dr}{d\\theta}\\right)^2} d\\theta$"
      ]
    },
    {
      "cell_type": "code",
      "metadata": {
        "colab": {
          "base_uri": "https://localhost:8080/",
          "height": 283
        },
        "id": "m3z2M-_NYqNu",
        "outputId": "a46a31a3-a626-4828-bfc8-0e97847e3b2a"
      },
      "source": [
        "# 1 => Ans\n",
        "theta = np.linspace(0, 2*np.pi, 1000)\n",
        "r = 1 + (3/4) * np.sin(3*theta)\n",
        "\n",
        "# Polar to rectangle co-ordinates\n",
        "x = r * np.cos(theta)\n",
        "y = r * np.sin(theta)\n",
        "\n",
        "plt.plot(x, y)"
      ],
      "execution_count": 157,
      "outputs": [
        {
          "output_type": "execute_result",
          "data": {
            "text/plain": [
              "[<matplotlib.lines.Line2D at 0x7f1197a81610>]"
            ]
          },
          "metadata": {},
          "execution_count": 157
        },
        {
          "output_type": "display_data",
          "data": {
            "image/png": "[encoded data removed]",
            "text/plain": [
              "<Figure size 432x288 with 1 Axes>"
            ]
          },
          "metadata": {
            "needs_background": "light"
          }
        }
      ]
    },
    {
      "cell_type": "markdown",
      "metadata": {
        "id": "9BltRsK7buEe"
      },
      "source": [
        "$A = \\int_{0}^{2\\pi} \\frac{1}{2} r^2 d\\theta$"
      ]
    },
    {
      "cell_type": "code",
      "metadata": {
        "colab": {
          "base_uri": "https://localhost:8080/"
        },
        "id": "Q3rHDlJvaQ_U",
        "outputId": "bb1dce16-506e-487a-9911-7ee9c2f26364"
      },
      "source": [
        "# 2\n",
        "a = (1/2) * np.sum(r**2) * (theta[1] - theta[0])\n",
        "area = (a[-1] - a[0])\n",
        "area"
      ],
      "execution_count": 158,
      "outputs": [
        {
          "output_type": "execute_result",
          "data": {
            "text/plain": [
              "4.025165587411927"
            ]
          },
          "metadata": {},
          "execution_count": 158
        }
      ]
    },
    {
      "cell_type": "code",
      "metadata": {
        "colab": {
          "base_uri": "https://localhost:8080/"
        },
        "id": "TQbhiZ0yi3jO",
        "outputId": "8bd19bcf-9b86-4931-ad79-e1c5ab446887"
      },
      "source": [
        "# 3\n",
        "int_factor = np.sqrt(r**2 + (np.gradient(r, theta) ** 2))\n",
        "\n",
        "L = np.cumsum(int_factor) * theta[1] - theta[0]\n",
        "length = L[-1] - L[0]\n",
        "length"
      ],
      "execution_count": 162,
      "outputs": [
        {
          "output_type": "execute_result",
          "data": {
            "text/plain": [
              "11.62453630061735"
            ]
          },
          "metadata": {},
          "execution_count": 162
        }
      ]
    },
    {
      "cell_type": "markdown",
      "metadata": {
        "id": "dMBxJZp03mfl"
      },
      "source": [
        "#Question 4"
      ]
    },
    {
      "cell_type": "markdown",
      "metadata": {
        "id": "i10w3nc63rsH"
      },
      "source": [
        "The power emitted by a blackbody is $P = A \\sigma \\epsilon T^4$. After measuring the temperature of a star you find that $T(t) = T_0 \\frac{1}{1+e^{-kt}}$. Plot the total energy emitted by the star as a function of time using the fact that $E(t) = \\int_{t'=0}^{t'=t} P(t') dt' $\n",
        "\n",
        "Reference: [Stephan-Boltzmann Law](https://www.softschools.com/formulas/physics/stephan_boltzmann_law_formula/514/)"
      ]
    },
    {
      "cell_type": "markdown",
      "metadata": {
        "id": "BWIHPXX9zw9_"
      },
      "source": [
        "$$P = A \\sigma \\epsilon T^4 ----- (i)$$\n",
        "$$T(t) = T_0 \\frac{1}{1+e^{-kt}} ----- (ii)$$\n",
        "$$E(t) = \\int_{t'=0}^{t'=t} P(t') dt' ----- (iii) $$\n",
        "\n",
        "$From (i);$\n",
        "$$\\frac{P}{A \\epsilon \\sigma}={T ^ 4}$$\n",
        "\n",
        "$ Using (ii);$\n",
        "\n",
        "$$\\frac{P}{A \\epsilon \\sigma}={T_0 ^ 4} ({\\frac {1}{1 + {e}^{-kt}}})^4 $$\n",
        "\n",
        "$$\\frac{P}{A \\epsilon \\sigma T_0 ^ 4}= ({\\frac {1}{1 + {e}^{-kt}}})^4 --- (iii)$$\n",
        "\n",
        "Term on  the left hand side is dimensionless.\n",
        "\n",
        "$A ,\\sigma, \\epsilon, k, T_0$ is constant for a star.\n",
        "\n",
        "Let  $A \\epsilon \\sigma T_0 ^ 4 = C (some constant)$\n",
        "\n",
        "$Thus,$\n",
        "\n",
        "$$\\frac{P}{C}= ({\\frac {1}{1 + {e}^{-kt}}})^4$$\n",
        "$$P= {C}({\\frac {1}{1 + {e}^{-kt}}})^4$$\n",
        "\n",
        "\n",
        "$So, \\ the\\ integratal \\ (iii) \\ can\\ be\\ writen\\ as\\ $\n",
        "$$E(t) = \\int_{t'=0}^{t'=t} P(t') dt' = C\\int_{kt'=0}^{kt'=t} ({\\frac {1}{1 + {e}^{-kt}}})^4 dkt' $$\n",
        "\n",
        "\n"
      ]
    },
    {
      "cell_type": "code",
      "metadata": {
        "id": "rtz3x3H83liF",
        "colab": {
          "base_uri": "https://localhost:8080/",
          "height": 285
        },
        "outputId": "559f9fa1-2b6c-4e3f-a032-8bcf000f9fa7"
      },
      "source": [
        "# Considering valaue of constant C = 1, t = [0, 10]\n",
        "C = 1\n",
        "kt = np.linspace(0, 10, 10000)\n",
        "eqi_left = C * (1/(1+np.exp(-kt)))**4\n",
        "E = np.cumsum(eqi_left)*(kt[1]-kt[0])\n",
        "plt.plot(kt, E)\n",
        "plt.xlabel(r'$kt$', fontsize=15)\n",
        "plt.ylabel(r'${C} (\\frac{1}{1+{e}^{-kt}})^4$', fontsize=20)\n",
        "plt.show()"
      ],
      "execution_count": 160,
      "outputs": [
        {
          "output_type": "display_data",
          "data": {
            "image/png": "[encoded data removed]",
            "text/plain": [
              "<Figure size 432x288 with 1 Axes>"
            ]
          },
          "metadata": {
            "needs_background": "light"
          }
        }
      ]
    }
  ]
}