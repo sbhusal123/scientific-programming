{
  "nbformat": 4,
  "nbformat_minor": 0,
  "metadata": {
    "colab": {
      "name": "Numpy Series.ipynb",
      "provenance": [],
      "collapsed_sections": [],
      "authorship_tag": "ABX9TyM8UdamEr2sSdP+muiFs8IV",
      "include_colab_link": true
    },
    "kernelspec": {
      "name": "python3",
      "display_name": "Python 3"
    },
    "language_info": {
      "name": "python"
    }
  },
  "cells": [
    {
      "cell_type": "markdown",
      "metadata": {
        "id": "view-in-github",
        "colab_type": "text"
      },
      "source": [
        "<a href=\"https://colab.research.google.com/github/sbhusal123/scientific-programming/blob/main/Numpy_Series.ipynb\" target=\"_parent\"><img src=\"https://colab.research.google.com/assets/colab-badge.svg\" alt=\"Open In Colab\"/></a>"
      ]
    },
    {
      "cell_type": "code",
      "metadata": {
        "id": "yK-ifDFOlHYf"
      },
      "source": [
        "import numpy as np\n",
        "import matplotlib.pyplot as plt"
      ],
      "execution_count": 3,
      "outputs": []
    },
    {
      "cell_type": "markdown",
      "metadata": {
        "id": "FR3-vkCsoHZ3"
      },
      "source": [
        "**Creating Arrays**"
      ]
    },
    {
      "cell_type": "code",
      "metadata": {
        "id": "DLcp_cYioBkh"
      },
      "source": [
        "a1 = np.array([3, 5, 6, 7]) # with a list of numbers\n",
        "\n",
        "a2 = np.zeros(5) # numbers of zeros\n",
        "\n",
        "a3 = np.ones(5) # number of ones\n",
        "\n",
        "a4 = np.random.random(3) # random numbers: Pseudo random numbers\n",
        "\n",
        "a5 = np.random.randn(100) # randn => random numbers from normal dist\n",
        "# np.std(a5) # Standard dev nearly 1\n",
        "# np.mean(a5) # Mean nearly 0\n",
        "\n",
        "a6 = np.linspace(0, 10 , 6) # 6 numbers from 0 to 10\n",
        "# a6 # [0, 2, 4, 6, 8, 10] => []\n",
        "\n",
        "a7 = np.arange(0, 10, 2) # numbers from 0 to 10 evenly spaced by 2\n",
        "a7 # [0, 2, 4, 6, 8] [)"
      ],
      "execution_count": null,
      "outputs": []
    },
    {
      "cell_type": "markdown",
      "metadata": {
        "id": "7p2bwzyOr_CY"
      },
      "source": [
        "**Array Operations**"
      ]
    },
    {
      "cell_type": "code",
      "metadata": {
        "id": "meuf3Y14oUw7"
      },
      "source": [
        "a = np.arange(0, 10, 2) # [0, 2, 4, 6, 8]\n",
        "\n",
        "# Element wise multiplication.\n",
        "x1 = 2 * a # [0, 4, 8, 12, 16]\n",
        "x2 = a / 2 # [0, 1, 2, 3, 4] => 0.5 * a\n",
        "\n",
        "# Boolean Operation\n",
        "loc_gt_2 = a > 2 # Locations a > 2:  [False, False, True, True, True]\n",
        "loc_gt_two_lt_four = (a > 2) * (a < 8) # [False, False,  True,  True, False]"
      ],
      "execution_count": 77,
      "outputs": []
    },
    {
      "cell_type": "code",
      "metadata": {
        "colab": {
          "base_uri": "https://localhost:8080/",
          "height": 283
        },
        "id": "7xJfgKSUu-MD",
        "outputId": "309628cb-390c-43cd-9d5f-b05c5336765a"
      },
      "source": [
        "# Square\n",
        "x = np.linspace(0, 10, 1000)\n",
        "y = x ** 2\n",
        "\n",
        "plt.plot(x, y)"
      ],
      "execution_count": 79,
      "outputs": [
        {
          "output_type": "execute_result",
          "data": {
            "text/plain": [
              "[<matplotlib.lines.Line2D at 0x7ffbae8b1a50>]"
            ]
          },
          "metadata": {},
          "execution_count": 79
        },
        {
          "output_type": "display_data",
          "data": {
            "image/png": "[encoded data removed]",
            "text/plain": [
              "<Figure size 432x288 with 1 Axes>"
            ]
          },
          "metadata": {
            "needs_background": "light"
          }
        }
      ]
    },
    {
      "cell_type": "code",
      "metadata": {
        "colab": {
          "base_uri": "https://localhost:8080/",
          "height": 319
        },
        "id": "x3H86O37vZg2",
        "outputId": "450c38b6-3e8b-402a-fa3b-6ff5383709d5"
      },
      "source": [
        "# Histogram\n",
        "item = np.array([1, 2, 2, 3, 3, 3])\n",
        "plt.hist(item)"
      ],
      "execution_count": 93,
      "outputs": [
        {
          "output_type": "execute_result",
          "data": {
            "text/plain": [
              "(array([1., 0., 0., 0., 0., 2., 0., 0., 0., 3.]),\n",
              " array([1. , 1.2, 1.4, 1.6, 1.8, 2. , 2.2, 2.4, 2.6, 2.8, 3. ]),\n",
              " <a list of 10 Patch objects>)"
            ]
          },
          "metadata": {},
          "execution_count": 93
        },
        {
          "output_type": "display_data",
          "data": {
            "image/png": "[encoded data removed]",
            "text/plain": [
              "<Figure size 432x288 with 1 Axes>"
            ]
          },
          "metadata": {
            "needs_background": "light"
          }
        }
      ]
    },
    {
      "cell_type": "code",
      "metadata": {
        "colab": {
          "base_uri": "https://localhost:8080/",
          "height": 283
        },
        "id": "FNIALH0Xxfs1",
        "outputId": "3bd0ab62-f2da-4404-faac-00f2a9de5f0b"
      },
      "source": [
        "# Function Chaining\n",
        "def f(x):\n",
        "  return 8*(np.sin(x))\n",
        "\n",
        "x = np.linspace(0, 10, 1000)\n",
        "y = f(x)\n",
        "\n",
        "plt.plot(x, y)"
      ],
      "execution_count": 110,
      "outputs": [
        {
          "output_type": "execute_result",
          "data": {
            "text/plain": [
              "[<matplotlib.lines.Line2D at 0x7ffbadc73950>]"
            ]
          },
          "metadata": {},
          "execution_count": 110
        },
        {
          "output_type": "display_data",
          "data": {
            "image/png": "[encoded data removed]",
            "text/plain": [
              "<Figure size 432x288 with 1 Axes>"
            ]
          },
          "metadata": {
            "needs_background": "light"
          }
        }
      ]
    },
    {
      "cell_type": "markdown",
      "metadata": {
        "id": "IFyO91hJzwpF"
      },
      "source": [
        "Other mathematical functions:\n",
        "https://numpy.org/doc/stable/reference/routines.math.html"
      ]
    },
    {
      "cell_type": "markdown",
      "metadata": {
        "id": "XBVZkOnpz9uN"
      },
      "source": [
        "**Array Indexing/Slicing**"
      ]
    },
    {
      "cell_type": "code",
      "metadata": {
        "id": "SCVoC3VGzkmL"
      },
      "source": [
        "a = np.array([1, 2, 3, 4, 5])"
      ],
      "execution_count": 111,
      "outputs": []
    },
    {
      "cell_type": "code",
      "metadata": {
        "colab": {
          "base_uri": "https://localhost:8080/"
        },
        "id": "o3QFJzX90HUH",
        "outputId": "a10296bf-1244-400a-b871-700f010f50d1"
      },
      "source": [
        "# Item in an array starts from zero\n",
        "a[0]"
      ],
      "execution_count": 113,
      "outputs": [
        {
          "output_type": "execute_result",
          "data": {
            "text/plain": [
              "1"
            ]
          },
          "metadata": {},
          "execution_count": 113
        }
      ]
    },
    {
      "cell_type": "code",
      "metadata": {
        "colab": {
          "base_uri": "https://localhost:8080/"
        },
        "id": "TCe963g70NCD",
        "outputId": "a30b3830-7de2-405d-c2c1-037e957d9280"
      },
      "source": [
        "# Fourth item:\n",
        "a[3]"
      ],
      "execution_count": 116,
      "outputs": [
        {
          "output_type": "execute_result",
          "data": {
            "text/plain": [
              "4"
            ]
          },
          "metadata": {},
          "execution_count": 116
        }
      ]
    },
    {
      "cell_type": "code",
      "metadata": {
        "colab": {
          "base_uri": "https://localhost:8080/"
        },
        "id": "Xdsvub7d0To6",
        "outputId": "981a61ca-7560-4984-dd4d-ad700d55233d"
      },
      "source": [
        "# Item from 2nd position to end\n",
        "a[2:]"
      ],
      "execution_count": 119,
      "outputs": [
        {
          "output_type": "execute_result",
          "data": {
            "text/plain": [
              "array([3, 4, 5])"
            ]
          },
          "metadata": {},
          "execution_count": 119
        }
      ]
    },
    {
      "cell_type": "code",
      "metadata": {
        "colab": {
          "base_uri": "https://localhost:8080/"
        },
        "id": "Qs2oDHfZ0eRL",
        "outputId": "c2ee93e9-9609-4433-e373-2a56b8fe9d8a"
      },
      "source": [
        "# Begining to 3rd last item: a[:-(n-1)]\n",
        "a[:-2]"
      ],
      "execution_count": 122,
      "outputs": [
        {
          "output_type": "execute_result",
          "data": {
            "text/plain": [
              "array([1, 2, 3])"
            ]
          },
          "metadata": {},
          "execution_count": 122
        }
      ]
    },
    {
      "cell_type": "code",
      "metadata": {
        "colab": {
          "base_uri": "https://localhost:8080/"
        },
        "id": "ij5pepBM0xU6",
        "outputId": "703a971b-7012-4c33-862b-fe68b3b81881"
      },
      "source": [
        "# Evenly indexed(spaced) items by 2\n",
        "a[::2]"
      ],
      "execution_count": 127,
      "outputs": [
        {
          "output_type": "execute_result",
          "data": {
            "text/plain": [
              "array([1, 3, 5])"
            ]
          },
          "metadata": {},
          "execution_count": 127
        }
      ]
    },
    {
      "cell_type": "code",
      "metadata": {
        "colab": {
          "base_uri": "https://localhost:8080/"
        },
        "id": "nYP21EUZ2aW_",
        "outputId": "c459ec03-0785-4c3c-c603-568b772e963a"
      },
      "source": [
        "# vectorize: Array item iterator: Names starting with S\n",
        "names = np.array([\"Suman\", \"Sujan\", \"Ram\", \"Ramesh\"])\n",
        "first_letters = np.vectorize(lambda item: item[0])(names) # [\"S\", \"S\", \"R\", \"R\"]\n",
        "names[first_letters == \"S\"] # ['Suman', 'Sujan']"
      ],
      "execution_count": 143,
      "outputs": [
        {
          "output_type": "execute_result",
          "data": {
            "text/plain": [
              "array(['Suman', 'Sujan'], dtype='<U6')"
            ]
          },
          "metadata": {},
          "execution_count": 143
        }
      ]
    },
    {
      "cell_type": "code",
      "metadata": {
        "colab": {
          "base_uri": "https://localhost:8080/"
        },
        "id": "Abn1sirw4IDZ",
        "outputId": "6373cb8a-4cff-4c81-9420-21a2d748b59b"
      },
      "source": [
        "# Is item divided by 2 ?\n",
        "a % 2 == 0 # [False,  True, False,  True, False]\n",
        "a[a % 2 == 0]"
      ],
      "execution_count": 148,
      "outputs": [
        {
          "output_type": "execute_result",
          "data": {
            "text/plain": [
              "array([2, 4])"
            ]
          },
          "metadata": {},
          "execution_count": 148
        }
      ]
    },
    {
      "cell_type": "markdown",
      "metadata": {
        "id": "Hvyy9aPB43Ct"
      },
      "source": [
        "**Calculus / Statistics Functions**"
      ]
    },
    {
      "cell_type": "code",
      "metadata": {
        "id": "tLHVcBHX42ho"
      },
      "source": [
        "ar = np.random.randn(1000)"
      ],
      "execution_count": 150,
      "outputs": []
    },
    {
      "cell_type": "code",
      "metadata": {
        "colab": {
          "base_uri": "https://localhost:8080/"
        },
        "id": "BchY3fRK5NfS",
        "outputId": "c6bcd23e-249b-4a77-8ff3-eeef3c2ab0f8"
      },
      "source": [
        "np.mean(ar)"
      ],
      "execution_count": 152,
      "outputs": [
        {
          "output_type": "execute_result",
          "data": {
            "text/plain": [
              "0.011379858779464536"
            ]
          },
          "metadata": {},
          "execution_count": 152
        }
      ]
    },
    {
      "cell_type": "code",
      "metadata": {
        "colab": {
          "base_uri": "https://localhost:8080/"
        },
        "id": "4eVwR4ra5QCm",
        "outputId": "40301840-8132-4093-c371-d04040e6ab34"
      },
      "source": [
        "np.std(ar)"
      ],
      "execution_count": 154,
      "outputs": [
        {
          "output_type": "execute_result",
          "data": {
            "text/plain": [
              "1.0051512418256683"
            ]
          },
          "metadata": {},
          "execution_count": 154
        }
      ]
    },
    {
      "cell_type": "markdown",
      "metadata": {
        "id": "Hyd1MEnY5bRB"
      },
      "source": [
        "**Derivatives**"
      ]
    },
    {
      "cell_type": "code",
      "metadata": {
        "colab": {
          "base_uri": "https://localhost:8080/",
          "height": 283
        },
        "id": "UkiNS68Z5YWo",
        "outputId": "7a512633-c5c5-42b7-a2b5-b8a022c5c45e"
      },
      "source": [
        "# Derivative: Slop of line: y=2x+3\n",
        "x = np.linspace(0, 10, 1000)\n",
        "\n",
        "y = 2 * x + 3\n",
        "dydx=np.gradient(y, x)\n",
        "\n",
        "plt.plot(x, y)\n",
        "plt.plot(x,dydx)"
      ],
      "execution_count": 169,
      "outputs": [
        {
          "output_type": "execute_result",
          "data": {
            "text/plain": [
              "[<matplotlib.lines.Line2D at 0x7ffbad83ee90>]"
            ]
          },
          "metadata": {},
          "execution_count": 169
        },
        {
          "output_type": "display_data",
          "data": {
            "image/png": "[encoded data removed]",
            "text/plain": [
              "<Figure size 432x288 with 1 Axes>"
            ]
          },
          "metadata": {
            "needs_background": "light"
          }
        }
      ]
    },
    {
      "cell_type": "code",
      "metadata": {
        "colab": {
          "base_uri": "https://localhost:8080/",
          "height": 299
        },
        "id": "vstwy-jc8qur",
        "outputId": "af5814b3-f168-4bd0-a1ad-b17d52c97712"
      },
      "source": [
        "# Slope at a point\n",
        "x = np.linspace(0, 5, 1000)\n",
        "y = 2 * x ** 2\n",
        "\n",
        "dydx = np.gradient(y, x)\n",
        "\n",
        "plt.plot(x, y)\n",
        "plt.plot(x, dydx)\n",
        "plt.title(\"y=2x^2\")\n",
        "\n",
        "# Slope at point x=5\n",
        "print(dydx[x==5]) # 20"
      ],
      "execution_count": 5,
      "outputs": [
        {
          "output_type": "stream",
          "text": [
            "[19.98998999]\n"
          ],
          "name": "stdout"
        },
        {
          "output_type": "display_data",
          "data": {
            "image/png": "[encoded data removed]",
            "text/plain": [
              "<Figure size 432x288 with 1 Axes>"
            ]
          },
          "metadata": {
            "needs_background": "light"
          }
        }
      ]
    },
    {
      "cell_type": "markdown",
      "metadata": {
        "id": "Burw1IQJ_Bne"
      },
      "source": [
        "**Integration**\n",
        "- Integration = **cummulative_sum(y) * width**\n",
        "![Integration by Summation](https://classconnection.s3.amazonaws.com/33333/flashcards/644875/jpg/definition-definite-integral-a.jpg)\n"
      ]
    },
    {
      "cell_type": "code",
      "metadata": {
        "colab": {
          "base_uri": "https://localhost:8080/",
          "height": 283
        },
        "id": "VjLhEAZ2_FSC",
        "outputId": "b5bcd7ab-cdac-4134-f1c7-9f7760c7d1b9"
      },
      "source": [
        "x = np.linspace(0, 10, 1000)\n",
        "y = 2*x\n",
        "y_integral = np.cumsum(y) *(x[1] - x[0])\n",
        "\n",
        "plt.plot(x, y)\n",
        "plt.plot(x, y_integral)\n",
        "\n",
        "# Definite integral: from 2 to 10\n",
        "x_lim = y_integral[x<=10][-1] - y_integral[x>2][0]\n",
        "x_lim"
      ],
      "execution_count": 13,
      "outputs": [
        {
          "output_type": "execute_result",
          "data": {
            "text/plain": [
              "96.072048024"
            ]
          },
          "metadata": {},
          "execution_count": 13
        },
        {
          "output_type": "display_data",
          "data": {
            "image/png": "[encoded data removed]",
            "text/plain": [
              "<Figure size 432x288 with 1 Axes>"
            ]
          },
          "metadata": {
            "needs_background": "light"
          }
        }
      ]
    }
  ]
}