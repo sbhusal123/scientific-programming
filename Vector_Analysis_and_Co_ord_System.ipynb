{
  "nbformat": 4,
  "nbformat_minor": 0,
  "metadata": {
    "colab": {
      "name": "Vector Analysis and Co-ord System.ipynb",
      "provenance": [],
      "collapsed_sections": [],
      "authorship_tag": "ABX9TyPh6J5U9Tz5YL+XY33blbDy",
      "include_colab_link": true
    },
    "kernelspec": {
      "name": "python3",
      "display_name": "Python 3"
    },
    "language_info": {
      "name": "python"
    }
  },
  "cells": [
    {
      "cell_type": "markdown",
      "metadata": {
        "id": "view-in-github",
        "colab_type": "text"
      },
      "source": [
        "<a href=\"https://colab.research.google.com/github/sbhusal123/scientific-programming/blob/main/Vector_Analysis_and_Co_ord_System.ipynb\" target=\"_parent\"><img src=\"https://colab.research.google.com/assets/colab-badge.svg\" alt=\"Open In Colab\"/></a>"
      ]
    },
    {
      "cell_type": "markdown",
      "metadata": {
        "id": "gNw5DOTWnK8D"
      },
      "source": [
        "# Transformation\n",
        "\n",
        "**i. From Spherical to Rectangular:**\n",
        "\n",
        "$\\begin{bmatrix}\n",
        " A_x \\\\ A_y \\\\ A_z\n",
        " \\end{bmatrix} =\n",
        "\\begin{bmatrix}\n",
        "sin(\\theta)cos(\\phi) & cos(\\theta)cos(\\phi) & -sin(\\phi) \\\\\n",
        "sin(\\theta)sin(\\phi) & cos(\\theta)sin(\\phi) & cos(\\phi) \\\\\n",
        "cos(\\theta) & -sin(\\theta) & 0\n",
        "\\end{bmatrix}\n",
        "*\n",
        "\\begin{bmatrix}\n",
        " A_r \\\\ A_{\\theta} \\\\ A_{\\phi}\n",
        "\\end{bmatrix}\n",
        "$\n",
        "\n",
        "> For inverse transformation take transpose of trans matrix\n",
        "\n",
        "**ii. From Cylindrical to Rectangular:**\n",
        "\n",
        "$\\begin{bmatrix}\n",
        " A_x \\\\ A_y \\\\ A_z\n",
        " \\end{bmatrix} =\n",
        "\\begin{bmatrix}\n",
        "cos(\\phi) & -sin(\\phi) & 0 \\\\\n",
        "sin(\\phi) & cos(\\phi) & 0 \\\\\n",
        "0 & 0 & 1\n",
        "\\end{bmatrix}\n",
        "*\n",
        "\\begin{bmatrix}\n",
        " A_{\\rho} \\\\ A_{\\phi} \\\\ A_{z}\n",
        "\\end{bmatrix}\n",
        "$\n",
        "\n",
        "> For inverse transformation take transpose of trans matrix\n",
        "\n",
        "**iii. From Cylindrical to Spherical:**\n",
        "\n",
        "$\\begin{bmatrix}\n",
        " A_r \\\\ A_{\\theta} \\\\ A_{\\phi}\n",
        " \\end{bmatrix} =\n",
        "\\begin{bmatrix}\n",
        "sin(\\theta) & 0 & cos(\\theta) \\\\\n",
        "cos(\\theta) & 0 & -sin(\\theta) \\\\\n",
        "0 & 1 & 0\n",
        "\\end{bmatrix}\n",
        "*\n",
        "\\begin{bmatrix}\n",
        " A_{\\rho} \\\\ A_{\\phi} \\\\ A_{z}\n",
        "\\end{bmatrix}\n",
        "$\n",
        "\n",
        "> For inverse transformation take transpose of trans matrix\n",
        "\n",
        "**Note: All the angles are in radian.**"
      ]
    },
    {
      "cell_type": "code",
      "metadata": {
        "id": "rb2RFfnWP3hV"
      },
      "source": [
        "import numpy as np\n",
        "import scipy as spy"
      ],
      "execution_count": 1,
      "outputs": []
    },
    {
      "cell_type": "markdown",
      "metadata": {
        "id": "LjYyEcR8NvMJ"
      },
      "source": [
        "**Example 1**\n",
        "\n",
        "If $\\vec{A}=3\\hat{a_r}+2\\hat{a_\\theta}-6\\hat{a_\\phi}$ and $\\vec{B}=4\\hat{a_r}+3\\hat{a_\\phi}$, determine:\n",
        "\n",
        "i. $\\vec{A}.\\vec{B}$\n",
        "\n",
        "ii. $\\vec{A}\\times\\vec{B}$\n",
        "\n",
        "iii. The vector component of $\\vec{A}$ along $\\hat{a_z}$ at $(1, \\frac{\\pi}{3}, \\frac{5\\pi}{3})$"
      ]
    },
    {
      "cell_type": "code",
      "metadata": {
        "id": "ZKYitDv7QTjg"
      },
      "source": [
        "# Define A vector as numpy array\n",
        "A = np.array([3, 2, -6])\n",
        "B = np.array([4, 0, 3])"
      ],
      "execution_count": 2,
      "outputs": []
    },
    {
      "cell_type": "code",
      "metadata": {
        "colab": {
          "base_uri": "https://localhost:8080/"
        },
        "id": "tRRhx5KHNl3b",
        "outputId": "e72fc9b4-86c2-4068-8076-af48ad5262e9"
      },
      "source": [
        "# i: Dot product\n",
        "a_dot_b = np.dot(A, B)\n",
        "print(a_dot_b)"
      ],
      "execution_count": 3,
      "outputs": [
        {
          "output_type": "stream",
          "name": "stdout",
          "text": [
            "-6\n"
          ]
        }
      ]
    },
    {
      "cell_type": "code",
      "metadata": {
        "colab": {
          "base_uri": "https://localhost:8080/"
        },
        "id": "jg-D3r7LQOK7",
        "outputId": "7231ffb3-768e-4d8c-cf9a-6f6c5a03151e"
      },
      "source": [
        "# ii. Cross product\n",
        "a_cross_b = np.cross(A, B)\n",
        "print(a_cross_b)"
      ],
      "execution_count": 4,
      "outputs": [
        {
          "output_type": "stream",
          "name": "stdout",
          "text": [
            "[  6 -33  -8]\n"
          ]
        }
      ]
    },
    {
      "cell_type": "markdown",
      "metadata": {
        "id": "Cz0E-rrxejyw"
      },
      "source": [
        "$\\vec{A}$ along $\\hat{a_z}$ is given by $(A.\\hat{a_z}).\\hat{a_z}$\n",
        "\n",
        "i.e. (Magnitude of projection).Unit Vector\n"
      ]
    },
    {
      "cell_type": "code",
      "metadata": {
        "colab": {
          "base_uri": "https://localhost:8080/"
        },
        "id": "WUjC0z7DQjKe",
        "outputId": "cd82fbf0-f40a-4eba-f340-d9c96e7c3383"
      },
      "source": [
        "# ii. Vector component\n",
        "A_sph = np.array([3, 2, -6])\n",
        "p = np.array([1, np.pi/3, 5*np.pi/4]) # at sph co-ord\n",
        "r = p[0]\n",
        "theta = p[1]\n",
        "phi = p[2]\n",
        "\n",
        "# Conversion matrix from spherical to rectangular\n",
        "sp_to_rect = np.array([\n",
        "                        [np.sin(theta)*np.cos(phi), np.cos(theta)*np.cos(phi), -np.sin(phi)],\n",
        "                        [np.sin(theta)*np.sin(phi), np.cos(theta)*np.sin(phi), np.cos(phi)],\n",
        "                        [np.cos(theta), -np.sin(theta), 0]\n",
        "                        ])\n",
        "\n",
        "# Into rect co-ord\n",
        "a_rect = sp_to_rect.dot(A_sph)\n",
        "a_rect_z = a_rect[2]\n",
        "\n",
        "# projection / along az\n",
        "sp_to_rect_z = sp_to_rect[2]\n",
        "along_az = a_rect_z * (sp_to_rect_z)\n",
        "along_az"
      ],
      "execution_count": 5,
      "outputs": [
        {
          "output_type": "execute_result",
          "data": {
            "text/plain": [
              "array([-0.1160254 ,  0.20096189, -0.        ])"
            ]
          },
          "metadata": {},
          "execution_count": 5
        }
      ]
    },
    {
      "cell_type": "markdown",
      "metadata": {
        "id": "FLFuNH6lmDaD"
      },
      "source": [
        "# Example 2\n",
        "\n",
        "Express the unit vector $\\hat{a_x}$ in spherical component at $\\rho=2.5,\\phi=0.7rad,z=1.5$"
      ]
    },
    {
      "cell_type": "code",
      "metadata": {
        "colab": {
          "base_uri": "https://localhost:8080/"
        },
        "id": "ve6tVzUUmVQk",
        "outputId": "7208a5ee-589a-4612-ef1b-f97e77e2bb30"
      },
      "source": [
        "# Unit vector\n",
        "x = np.array([1, 0, 0])\n",
        "\n",
        "at_cylindrical = (2.5, 0.7, 1.5)\n",
        "rho = at_cylindrical[0]  ## radius\n",
        "phi = at_cylindrical[1]\n",
        "z = at_cylindrical[2]\n",
        "\n",
        "r = np.sqrt(rho**2+z**2)\n",
        "theta = np.arccos(z/r)\n",
        "phi = phi\n",
        "\n",
        "# Rectangular to sph transformation matrix\n",
        "rect_to_sph = np.array([\n",
        "                        [np.sin(theta)*np.cos(phi), np.cos(theta)*np.cos(phi), -np.sin(phi)],\n",
        "                        [np.sin(theta)*np.sin(phi), np.cos(theta)*np.sin(phi), np.cos(phi)],\n",
        "                        [np.cos(theta), -np.sin(theta), 0]\n",
        "                        ]).T\n",
        "\n",
        "in_sph = rect_to_sph.dot(x)\n",
        "in_sph"
      ],
      "execution_count": 6,
      "outputs": [
        {
          "output_type": "execute_result",
          "data": {
            "text/plain": [
              "array([ 0.65584676,  0.39350806, -0.64421769])"
            ]
          },
          "metadata": {},
          "execution_count": 6
        }
      ]
    },
    {
      "cell_type": "markdown",
      "metadata": {
        "id": "c8nIJLdcAPr8"
      },
      "source": [
        "# Eample 3\n",
        "\n",
        "Transform the vector:\n",
        "\n",
        "(a) $\\vec{A}=y\\hat{a_x}+(x+y)\\hat{a_z}$ at P(-2, 6, 3) in cylindrical system.\n",
        "\n",
        "(b) $\\vec{A}=3\\hat{a_\\rho}-\\hat{a_\\phi}$ at Q(3, 4, -1) in cartesian co-ordinate system."
      ]
    },
    {
      "cell_type": "code",
      "metadata": {
        "colab": {
          "base_uri": "https://localhost:8080/"
        },
        "id": "1XGRcMU5A38R",
        "outputId": "b7c9684e-2392-4976-9cf2-c6f0c1f1f6e1"
      },
      "source": [
        "# a\n",
        "p = np.array([-2, 6, 3]) # at point\n",
        "x = p[0]\n",
        "y = p[1]\n",
        "z = p[2]\n",
        "\n",
        "A = np.array([y, 0, x+y])\n",
        "\n",
        "# p in cylindrical coordinate system\n",
        "rho = np.sqrt(x**2+y**2)\n",
        "phi = 2*np.pi-np.arctan(np.abs(6/2))\n",
        "z = z\n",
        "\n",
        "rect_to_cyl = np.array([\n",
        "                        [np.cos(phi), -np.sin(phi), 0],\n",
        "                        [np.sin(phi), np.cos(phi), 0],\n",
        "                        [0, 0, 1]\n",
        "]).T\n",
        "\n",
        "a_cyl = rect_to_cyl@A\n",
        "a_cyl"
      ],
      "execution_count": 26,
      "outputs": [
        {
          "output_type": "execute_result",
          "data": {
            "text/plain": [
              "array([1.8973666 , 5.69209979, 4.        ])"
            ]
          },
          "metadata": {},
          "execution_count": 26
        }
      ]
    },
    {
      "cell_type": "code",
      "metadata": {
        "colab": {
          "base_uri": "https://localhost:8080/"
        },
        "id": "F31eKQjyHXZR",
        "outputId": "43aff46a-0964-47f0-f85f-33738effee0d"
      },
      "source": [
        "# b\n",
        "A = np.array([3, -1, 0]) # in cyl co-ord\n",
        "\n",
        "# at point\n",
        "q = np.array([3, 4, -1]) # in rect co-ord\n",
        "\n",
        "x = q[0]\n",
        "y = q[1]\n",
        "z = q[2]\n",
        "\n",
        "# q in terms of sph co-ord\n",
        "rho = np.sqrt(x**2+y*2)\n",
        "phi = np.arctan(np.abs(y/x))\n",
        "z = z\n",
        "\n",
        "cyl_to_rect = np.array([\n",
        "                        [np.cos(phi), -np.sin(phi), 0],\n",
        "                        [np.sin(phi), np.cos(phi), 0],\n",
        "                        [0, 0, 1]\n",
        "])\n",
        "\n",
        "a_rect = rect_to_cyl@A\n",
        "a_rect"
      ],
      "execution_count": 27,
      "outputs": [
        {
          "output_type": "execute_result",
          "data": {
            "text/plain": [
              "array([1.8973666 , 2.52982213, 0.        ])"
            ]
          },
          "metadata": {},
          "execution_count": 27
        }
      ]
    },
    {
      "cell_type": "markdown",
      "metadata": {
        "id": "IGmM-bmGK-ZP"
      },
      "source": [
        "# Example 7\n",
        "\n",
        "Transform $\\vec{A_c}=x\\hat{a_x}+xy\\hat{a_z}$ at point (1, 2, 3) in cartesian coordinates system to $\\vec{A_{cy}}$ in cylindrical system."
      ]
    },
    {
      "cell_type": "code",
      "metadata": {
        "colab": {
          "base_uri": "https://localhost:8080/"
        },
        "id": "UQy5IhifK-Du",
        "outputId": "897c77a6-f935-4847-c177-5f7eb2038fc1"
      },
      "source": [
        "# at point in cartesian\n",
        "p = np.array([1, 2, 3])\n",
        "x = p[0]\n",
        "y = p[1]\n",
        "z = p[2]\n",
        "\n",
        "A = np.array([x, 0, x*y])\n",
        "\n",
        "# p in cyl\n",
        "r = np.sqrt(x**2+y**2)\n",
        "phi = np.arctan(y/x)\n",
        "z = z\n",
        "\n",
        "rect_to_cyl = np.array([\n",
        "                        [np.cos(phi), -np.sin(phi), 0],\n",
        "                        [np.sin(phi), np.cos(phi), 0],\n",
        "                        [0, 0, 1]\n",
        "]).T\n",
        "\n",
        "a_cyl = rect_to_cyl@A\n",
        "a_cyl"
      ],
      "execution_count": 28,
      "outputs": [
        {
          "output_type": "execute_result",
          "data": {
            "text/plain": [
              "array([ 0.4472136 , -0.89442719,  2.        ])"
            ]
          },
          "metadata": {},
          "execution_count": 28
        }
      ]
    }
  ]
}