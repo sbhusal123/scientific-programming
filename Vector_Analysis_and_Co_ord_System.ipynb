{
  "nbformat": 4,
  "nbformat_minor": 0,
  "metadata": {
    "colab": {
      "name": "Vector Analysis and Co-ord System.ipynb",
      "provenance": [],
      "collapsed_sections": [],
      "authorship_tag": "ABX9TyOCPUKt0lZ6xqs/5e8PkSoQ",
      "include_colab_link": true
    },
    "kernelspec": {
      "name": "python3",
      "display_name": "Python 3"
    },
    "language_info": {
      "name": "python"
    }
  },
  "cells": [
    {
      "cell_type": "markdown",
      "metadata": {
        "id": "view-in-github",
        "colab_type": "text"
      },
      "source": [
        "<a href=\"https://colab.research.google.com/github/sbhusal123/scientific-programming/blob/main/Vector_Analysis_and_Co_ord_System.ipynb\" target=\"_parent\"><img src=\"https://colab.research.google.com/assets/colab-badge.svg\" alt=\"Open In Colab\"/></a>"
      ]
    },
    {
      "cell_type": "code",
      "metadata": {
        "id": "rb2RFfnWP3hV"
      },
      "source": [
        "import numpy as np"
      ],
      "execution_count": 91,
      "outputs": []
    },
    {
      "cell_type": "markdown",
      "metadata": {
        "id": "LjYyEcR8NvMJ"
      },
      "source": [
        "**Example 1**\n",
        "\n",
        "If $\\vec{A}=3\\hat{a_r}+2\\hat{a_\\theta}-6\\hat{a_\\phi}$ and $\\vec{B}=4\\hat{a_r}+3\\hat{a_\\phi}$, determine:\n",
        "\n",
        "i. $\\vec{A}.\\vec{B}$\n",
        "\n",
        "ii. $\\vec{A}\\times\\vec{B}$\n",
        "\n",
        "iii. The vector component of $\\vec{A}$ along $\\hat{a_z}$ at $(1, \\frac{\\pi}{3}, \\frac{5\\pi}{3})$"
      ]
    },
    {
      "cell_type": "code",
      "metadata": {
        "id": "ZKYitDv7QTjg"
      },
      "source": [
        "# Define A vector as numpy array\n",
        "A = np.array([3, 2, -6])\n",
        "B = np.array([4, 0, 3])"
      ],
      "execution_count": 92,
      "outputs": []
    },
    {
      "cell_type": "code",
      "metadata": {
        "colab": {
          "base_uri": "https://localhost:8080/"
        },
        "id": "tRRhx5KHNl3b",
        "outputId": "978658da-f161-4293-c56a-ace9f2c7f2a5"
      },
      "source": [
        "# i: Dot product\n",
        "a_dot_b = np.dot(A, B)\n",
        "print(a_dot_b)"
      ],
      "execution_count": 93,
      "outputs": [
        {
          "output_type": "stream",
          "name": "stdout",
          "text": [
            "-6\n"
          ]
        }
      ]
    },
    {
      "cell_type": "code",
      "metadata": {
        "colab": {
          "base_uri": "https://localhost:8080/"
        },
        "id": "jg-D3r7LQOK7",
        "outputId": "a8abed06-f8df-4ef1-b606-52b700032904"
      },
      "source": [
        "# ii. Cross product\n",
        "a_cross_b = np.cross(A, B)\n",
        "print(a_cross_b)"
      ],
      "execution_count": 94,
      "outputs": [
        {
          "output_type": "stream",
          "name": "stdout",
          "text": [
            "[  6 -33  -8]\n"
          ]
        }
      ]
    },
    {
      "cell_type": "markdown",
      "metadata": {
        "id": "l0kx3UHaQ-M1"
      },
      "source": [
        "Conversion matrix is given as:\n",
        "\n",
        "$\\begin{bmatrix}\n",
        " A_x \\\\ A_y \\\\ A_z\n",
        " \\end{bmatrix} =\n",
        "\\begin{bmatrix}\n",
        "sin(\\theta)cos(\\phi) & cos(\\theta)cos(\\phi) & -sin(\\phi) \\\\\n",
        "sin(\\theta)sin(\\phi) & cos(\\theta)sin(\\phi) & cos(\\phi) \\\\\n",
        "cos(\\theta) & -sin(\\theta) & 0\n",
        "\\end{bmatrix}\n",
        "*\n",
        "\\begin{bmatrix}\n",
        " A_r \\\\ A_{\\theta} \\\\ A_{\\phi}\n",
        "\\end{bmatrix}\n",
        "$\n",
        "\n",
        "> For inverse transformation take transpose of trans matrix"
      ]
    },
    {
      "cell_type": "markdown",
      "metadata": {
        "id": "Cz0E-rrxejyw"
      },
      "source": [
        "$\\vec{A}$ along $\\hat{a_z}$ is given by $(A.\\hat{a_z}).\\hat{a_z}$\n",
        "\n",
        "i.e. (Magnitude of projection).Unit Vector\n"
      ]
    },
    {
      "cell_type": "code",
      "metadata": {
        "colab": {
          "base_uri": "https://localhost:8080/"
        },
        "id": "WUjC0z7DQjKe",
        "outputId": "3da176dd-8e37-458c-de94-6aabc7f13054"
      },
      "source": [
        "# ii. Vector component\n",
        "A_sph = np.array([3, 2, -6])\n",
        "p = np.array([1, np.pi/3, 5*np.pi/4]) # at sph co-ord\n",
        "r = p[0]\n",
        "theta = p[1]\n",
        "phi = p[2]\n",
        "\n",
        "# Conversion matrix from spherical to rectangular\n",
        "sp_to_rect = np.array([\n",
        "                        [np.sin(theta)*np.cos(phi), np.cos(theta)*np.cos(phi), -np.sin(phi)],\n",
        "                        [np.sin(theta)*np.sin(phi), np.cos(theta)*np.sin(phi), np.cos(phi)],\n",
        "                        [np.cos(theta), -np.sin(theta), 0]\n",
        "                        ])\n",
        "\n",
        "# Into rect co-ord\n",
        "a_rect = sp_to_rect.dot(A_sph)\n",
        "a_rect_z = a_rect[2]\n",
        "\n",
        "# projection / along az\n",
        "sp_to_rect_z = sp_to_rect[2]\n",
        "along_az = a_rect_z * (sp_to_rect_z)\n",
        "along_az"
      ],
      "execution_count": 95,
      "outputs": [
        {
          "output_type": "execute_result",
          "data": {
            "text/plain": [
              "array([-0.1160254 ,  0.20096189, -0.        ])"
            ]
          },
          "metadata": {},
          "execution_count": 95
        }
      ]
    }
  ]
}